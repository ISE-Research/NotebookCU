{
  "cells": [
    {
      "cell_type": "markdown",
      "metadata": {
        "id": "0HFYugwwJ8VS"
      },
      "source": [
        "## install necessary packages"
      ]
    },
    {
      "cell_type": "code",
      "execution_count": null,
      "metadata": {
        "id": "UZ2SgFN_VEq3",
        "colab": {
          "base_uri": "https://localhost:8080/"
        },
        "outputId": "6dfd7f03-28d3-4577-c381-3e10f595d1c3"
      },
      "outputs": [
        {
          "output_type": "stream",
          "name": "stdout",
          "text": [
            "\u001b[2K     \u001b[90m━━━━━━━━━━━━━━━━━━━━━━━━━━━━━━━━━━━━━━━━\u001b[0m \u001b[32m297.6/297.6 kB\u001b[0m \u001b[31m5.2 MB/s\u001b[0m eta \u001b[36m0:00:00\u001b[0m\n",
            "\u001b[2K     \u001b[90m━━━━━━━━━━━━━━━━━━━━━━━━━━━━━━━━━━━━━━━━\u001b[0m \u001b[32m542.0/542.0 kB\u001b[0m \u001b[31m9.4 MB/s\u001b[0m eta \u001b[36m0:00:00\u001b[0m\n",
            "\u001b[2K     \u001b[90m━━━━━━━━━━━━━━━━━━━━━━━━━━━━━━━━━━━━━━━━\u001b[0m \u001b[32m116.3/116.3 kB\u001b[0m \u001b[31m13.7 MB/s\u001b[0m eta \u001b[36m0:00:00\u001b[0m\n",
            "\u001b[2K     \u001b[90m━━━━━━━━━━━━━━━━━━━━━━━━━━━━━━━━━━━━━━━━\u001b[0m \u001b[32m194.1/194.1 kB\u001b[0m \u001b[31m12.2 MB/s\u001b[0m eta \u001b[36m0:00:00\u001b[0m\n",
            "\u001b[2K     \u001b[90m━━━━━━━━━━━━━━━━━━━━━━━━━━━━━━━━━━━━━━━━\u001b[0m \u001b[32m134.8/134.8 kB\u001b[0m \u001b[31m11.9 MB/s\u001b[0m eta \u001b[36m0:00:00\u001b[0m\n",
            "\u001b[2K     \u001b[90m━━━━━━━━━━━━━━━━━━━━━━━━━━━━━━━━━━━━━━━━\u001b[0m \u001b[32m388.9/388.9 kB\u001b[0m \u001b[31m15.0 MB/s\u001b[0m eta \u001b[36m0:00:00\u001b[0m\n",
            "\u001b[2K     \u001b[90m━━━━━━━━━━━━━━━━━━━━━━━━━━━━━━━━━━━━━━━━\u001b[0m \u001b[32m84.1/84.1 kB\u001b[0m \u001b[31m2.0 MB/s\u001b[0m eta \u001b[36m0:00:00\u001b[0m\n",
            "\u001b[?25hCollecting url-normalize\n",
            "  Downloading url_normalize-1.4.3-py2.py3-none-any.whl (6.8 kB)\n",
            "Requirement already satisfied: six in /usr/local/lib/python3.10/dist-packages (from url-normalize) (1.16.0)\n",
            "Installing collected packages: url-normalize\n",
            "Successfully installed url-normalize-1.4.3\n"
          ]
        }
      ],
      "source": [
        "!pip install -q transformers accelerate\n",
        "!pip install datasets -q\n",
        "!pip install evaluate -q\n",
        "!pip install url-normalize"
      ]
    },
    {
      "cell_type": "markdown",
      "metadata": {
        "id": "TU5l-LRCV3Ph"
      },
      "source": [
        "## import necessary libraries"
      ]
    },
    {
      "cell_type": "code",
      "execution_count": null,
      "metadata": {
        "id": "dV-ukSvKfT4W"
      },
      "outputs": [],
      "source": [
        "import pandas as pd\n",
        "import numpy as np\n",
        "\n",
        "import json\n",
        "import evaluate\n",
        "from datasets import Dataset, DatasetDict\n",
        "from sklearn.model_selection import train_test_split\n",
        "from sklearn.metrics import classification_report\n"
      ]
    },
    {
      "cell_type": "code",
      "execution_count": null,
      "metadata": {
        "colab": {
          "base_uri": "https://localhost:8080/"
        },
        "id": "t2KM1pjh35MO",
        "outputId": "678e9661-32d2-4589-9a2e-39c861c98aef"
      },
      "outputs": [
        {
          "output_type": "stream",
          "name": "stdout",
          "text": [
            "mv: cannot stat 'kaggle.json': No such file or directory\n"
          ]
        }
      ],
      "source": [
        "!mv kaggle.json /root/.kaggle"
      ]
    },
    {
      "cell_type": "code",
      "execution_count": null,
      "metadata": {
        "id": "xDWKTDe-Vd39"
      },
      "outputs": [],
      "source": [
        "from url_normalize import url_normalize\n",
        "\n",
        "#from kaggle import api\n",
        "\n",
        "from transformers import AutoTokenizer, AutoModel\n",
        "from transformers import AutoModelForSequenceClassification\n",
        "from transformers import TrainingArguments\n",
        "from transformers import RobertaTokenizer, RobertaConfig, RobertaModel\n",
        "from transformers import TrainingArguments, Trainer\n",
        "import torch"
      ]
    },
    {
      "cell_type": "markdown",
      "metadata": {
        "id": "pJE6GC4YQkso"
      },
      "source": [
        "# calculating notebook score by DistilBERT Model"
      ]
    },
    {
      "cell_type": "markdown",
      "metadata": {
        "id": "2SbzsS3ZWiYV"
      },
      "source": [
        "### Read Comments with no labels"
      ]
    },
    {
      "cell_type": "code",
      "execution_count": null,
      "metadata": {
        "id": "l28QMcI1Whub"
      },
      "outputs": [],
      "source": [
        "!gdown --id 1GUt_CHAZ7cylcwdGn9z4qhHoSwZAxDPD"
      ]
    },
    {
      "cell_type": "code",
      "execution_count": null,
      "metadata": {
        "id": "VqRUr_8AWoiM"
      },
      "outputs": [],
      "source": [
        "import pandas as pd\n",
        "\n",
        "comments = pd.read_csv('comments_with_votes_with_parents.csv')"
      ]
    },
    {
      "cell_type": "markdown",
      "metadata": {
        "id": "DZtmj8QtXbzX"
      },
      "source": [
        "#### Eliminate comments written by the author of the notebook"
      ]
    },
    {
      "cell_type": "code",
      "execution_count": null,
      "metadata": {
        "id": "cmiAQHmPXKDT"
      },
      "outputs": [],
      "source": [
        "comments = comments[comments['DisplayName_kerneluser'] != comments['DisplayName_commentuser']]"
      ]
    },
    {
      "cell_type": "markdown",
      "metadata": {
        "id": "v6qeFXVfX8NE"
      },
      "source": [
        "#### Drop comments with no text"
      ]
    },
    {
      "cell_type": "code",
      "execution_count": null,
      "metadata": {
        "id": "8VhsilHkXEL4"
      },
      "outputs": [],
      "source": [
        "comments.dropna(subset=['Text'], inplace=True)"
      ]
    },
    {
      "cell_type": "markdown",
      "metadata": {
        "id": "Rs00NkUuYrn8"
      },
      "source": [
        "#### Delete comments with more than 512 characters\n",
        "#### Delete comments having exteral links (ads)"
      ]
    },
    {
      "cell_type": "code",
      "execution_count": null,
      "metadata": {
        "id": "pfH_C2LwYr4n"
      },
      "outputs": [],
      "source": [
        "comments = comments[comments['Text'].str.len() <= 256]\n",
        "comments = comments[~comments['Message'].str.contains('<a')]"
      ]
    },
    {
      "cell_type": "markdown",
      "metadata": {
        "id": "BY0ONNm3YAdM"
      },
      "source": [
        "### Find and Eliminate non english comments with fasttext"
      ]
    },
    {
      "cell_type": "code",
      "execution_count": null,
      "metadata": {
        "colab": {
          "base_uri": "https://localhost:8080/"
        },
        "id": "Qn2RO4TDXEPw",
        "outputId": "c79126e4-2b58-4e3e-e1a1-1402d70fdd6b"
      },
      "outputs": [
        {
          "name": "stdout",
          "output_type": "stream",
          "text": [
            "\u001b[?25l     \u001b[90m━━━━━━━━━━━━━━━━━━━━━━━━━━━━━━━━━━━━━━━━\u001b[0m \u001b[32m0.0/68.8 kB\u001b[0m \u001b[31m?\u001b[0m eta \u001b[36m-:--:--\u001b[0m\r\u001b[2K     \u001b[90m━━━━━━━━━━━━━━━━━━━━━━━━━━━━━━━━━━━━━━━━\u001b[0m \u001b[32m68.8/68.8 kB\u001b[0m \u001b[31m6.5 MB/s\u001b[0m eta \u001b[36m0:00:00\u001b[0m\n",
            "\u001b[?25h  Preparing metadata (setup.py) ... \u001b[?25l\u001b[?25hdone\n",
            "  Building wheel for fasttext (setup.py) ... \u001b[?25l\u001b[?25hdone\n",
            "--2023-05-29 05:04:31--  https://dl.fbaipublicfiles.com/fasttext/supervised-models/lid.176.bin\n",
            "Resolving dl.fbaipublicfiles.com (dl.fbaipublicfiles.com)... 13.249.39.89, 13.249.39.25, 13.249.39.6, ...\n",
            "Connecting to dl.fbaipublicfiles.com (dl.fbaipublicfiles.com)|13.249.39.89|:443... connected.\n",
            "HTTP request sent, awaiting response... 200 OK\n",
            "Length: 131266198 (125M) [application/octet-stream]\n",
            "Saving to: ‘lid.176.bin’\n",
            "\n",
            "lid.176.bin         100%[===================>] 125.18M   225MB/s    in 0.6s    \n",
            "\n",
            "2023-05-29 05:04:32 (225 MB/s) - ‘lid.176.bin’ saved [131266198/131266198]\n",
            "\n"
          ]
        }
      ],
      "source": [
        "!pip install -q fasttext\n",
        "!wget https://dl.fbaipublicfiles.com/fasttext/supervised-models/lid.176.bin"
      ]
    },
    {
      "cell_type": "code",
      "execution_count": null,
      "metadata": {
        "colab": {
          "base_uri": "https://localhost:8080/"
        },
        "id": "2bu72ciFXEWS",
        "outputId": "04562cb9-28e7-4f20-e581-3a1aa0f3d15b"
      },
      "outputs": [
        {
          "name": "stderr",
          "output_type": "stream",
          "text": [
            "Warning : `load_model` does not return WordVectorModel or SupervisedModel any more, but a `FastText` object which is very similar.\n"
          ]
        }
      ],
      "source": [
        "import fasttext as ft\n",
        "\n",
        "ft_model = ft.load_model(\"./lid.176.bin\")\n",
        "\n",
        "def fasttext_language_predict(text, model = ft_model):\n",
        "  text = text.replace('\\n', \" \")\n",
        "  prediction = model.predict([text])\n",
        "  return prediction\n"
      ]
    },
    {
      "cell_type": "code",
      "execution_count": null,
      "metadata": {
        "id": "jBn8J-8hYIWY"
      },
      "outputs": [],
      "source": [
        "lang = []\n",
        "for text in comments['Text']:\n",
        "  lang.append(fasttext_language_predict(text))"
      ]
    },
    {
      "cell_type": "code",
      "execution_count": null,
      "metadata": {
        "id": "Yu0iBuutYKpQ"
      },
      "outputs": [],
      "source": [
        "not_ens = []\n",
        "for i, detected_lang in enumerate(lang):\n",
        "  if 'en' not in detected_lang[0][0][0] and detected_lang[1][0][0] > 0.7:\n",
        "    not_ens.append(i)"
      ]
    },
    {
      "cell_type": "markdown",
      "metadata": {
        "id": "tEHoIt58Yjwj"
      },
      "source": [
        "#### Delete Non english comments"
      ]
    },
    {
      "cell_type": "code",
      "execution_count": null,
      "metadata": {
        "id": "5rlUaXXSYNSS"
      },
      "outputs": [],
      "source": [
        "comments.index = range(len(comments))\n",
        "comments = comments.drop(not_ens, axis=0)"
      ]
    },
    {
      "cell_type": "markdown",
      "metadata": {
        "id": "hm3TPmwZY3BW"
      },
      "source": [
        "### Remove ads with Bert"
      ]
    },
    {
      "cell_type": "code",
      "execution_count": null,
      "metadata": {
        "id": "4LKTsmHmYqGj"
      },
      "outputs": [],
      "source": [
        "! pip install transformers -q"
      ]
    },
    {
      "cell_type": "code",
      "execution_count": null,
      "metadata": {
        "id": "gRWdDKasYqJI"
      },
      "outputs": [],
      "source": [
        "! pip install datasets -q"
      ]
    },
    {
      "cell_type": "code",
      "execution_count": null,
      "metadata": {
        "id": "56mrZaqaY6fR"
      },
      "outputs": [],
      "source": [
        "!pip install evaluate -q"
      ]
    },
    {
      "cell_type": "code",
      "source": [
        "!gdown 1usKSVnfoWtIzcUvV0y5aSae4vKolXnXE"
      ],
      "metadata": {
        "colab": {
          "base_uri": "https://localhost:8080/"
        },
        "id": "uxrVLT6Uxslk",
        "outputId": "c46f5368-83b8-49a1-89c3-fd432d6a556f"
      },
      "execution_count": null,
      "outputs": [
        {
          "output_type": "stream",
          "name": "stdout",
          "text": [
            "Downloading...\n",
            "From: https://drive.google.com/uc?id=1usKSVnfoWtIzcUvV0y5aSae4vKolXnXE\n",
            "To: /content/comments_samples_final.xlsx\n",
            "\r  0% 0.00/89.1k [00:00<?, ?B/s]\r100% 89.1k/89.1k [00:00<00:00, 57.3MB/s]\n"
          ]
        }
      ]
    },
    {
      "cell_type": "code",
      "execution_count": null,
      "metadata": {
        "id": "OQ3APIpIvgWJ"
      },
      "outputs": [],
      "source": [
        "import pandas as pd\n",
        "\n",
        "df = pd.read_excel('comments_samples_final.xlsx').fillna(0)"
      ]
    },
    {
      "cell_type": "code",
      "execution_count": null,
      "metadata": {
        "id": "5a-_uVSPwFc6"
      },
      "outputs": [],
      "source": [
        "labels_df = df.drop(['Id', 'Text'], axis=1)\n",
        "def col_to_list(row):\n",
        "  return int('advertise' in list(labels_df.columns[row.eq(1)]))\n",
        "labels = labels_df.apply(col_to_list, axis=1)"
      ]
    },
    {
      "cell_type": "code",
      "execution_count": null,
      "metadata": {
        "id": "CC9HPItFxHNu"
      },
      "outputs": [],
      "source": [
        "from sklearn.model_selection import train_test_split\n",
        "\n",
        "X_train, X_eval, y_train, y_eval = train_test_split(df['Text'], labels, test_size=0.13, random_state=1)\n",
        "X_train, X_test, y_train, y_test = train_test_split(X_train, y_train, test_size=0.25, random_state=1)"
      ]
    },
    {
      "cell_type": "code",
      "execution_count": null,
      "metadata": {
        "id": "yQB066NjvzZe"
      },
      "outputs": [],
      "source": [
        "from datasets import Dataset, DatasetDict\n",
        "\n",
        "df_train = pd.DataFrame({'text': X_train, 'labels': y_train})\n",
        "df_eval = pd.DataFrame({'text': X_eval, 'labels': y_eval})\n",
        "df_test = pd.DataFrame({'text': X_test, 'labels': y_test})\n",
        "dataset = DatasetDict({\n",
        "    \"train\": Dataset.from_pandas(df_train),\n",
        "    \"eval\": Dataset.from_pandas(df_eval),\n",
        "    \"test\": Dataset.from_pandas(df_test)\n",
        "    })"
      ]
    },
    {
      "cell_type": "code",
      "execution_count": null,
      "metadata": {
        "colab": {
          "base_uri": "https://localhost:8080/",
          "height": 145,
          "referenced_widgets": [
            "78c14620e0a44b4aa7b3afce7f90c9ba",
            "bafb1930fca84855a04907bd6dc26dd8",
            "542f4390bbb04a8eb7f6b8369e3e3aef",
            "f7241dd0972449f399d7da75f941d16d",
            "8cbca23c71b448a8bf943cdf33e0412d",
            "1532f1fe51394fa6b601fda4ad9660cd",
            "f8f85060b847418181ebb2ceaa41428e"
          ]
        },
        "id": "qSpzfmqXwGZz",
        "outputId": "534d6f0d-2c31-4039-ee08-7fb58adf0687"
      },
      "outputs": [
        {
          "data": {
            "application/vnd.jupyter.widget-view+json": {
              "model_id": "78c14620e0a44b4aa7b3afce7f90c9ba",
              "version_major": 2,
              "version_minor": 0
            },
            "text/plain": [
              "Downloading (…)okenizer_config.json:   0%|          | 0.00/29.0 [00:00<?, ?B/s]"
            ]
          },
          "metadata": {},
          "output_type": "display_data"
        },
        {
          "data": {
            "application/vnd.jupyter.widget-view+json": {
              "model_id": "bafb1930fca84855a04907bd6dc26dd8",
              "version_major": 2,
              "version_minor": 0
            },
            "text/plain": [
              "Downloading (…)lve/main/config.json:   0%|          | 0.00/411 [00:00<?, ?B/s]"
            ]
          },
          "metadata": {},
          "output_type": "display_data"
        },
        {
          "data": {
            "application/vnd.jupyter.widget-view+json": {
              "model_id": "542f4390bbb04a8eb7f6b8369e3e3aef",
              "version_major": 2,
              "version_minor": 0
            },
            "text/plain": [
              "Downloading (…)solve/main/vocab.txt:   0%|          | 0.00/213k [00:00<?, ?B/s]"
            ]
          },
          "metadata": {},
          "output_type": "display_data"
        },
        {
          "data": {
            "application/vnd.jupyter.widget-view+json": {
              "model_id": "f7241dd0972449f399d7da75f941d16d",
              "version_major": 2,
              "version_minor": 0
            },
            "text/plain": [
              "Downloading (…)/main/tokenizer.json:   0%|          | 0.00/436k [00:00<?, ?B/s]"
            ]
          },
          "metadata": {},
          "output_type": "display_data"
        },
        {
          "data": {
            "application/vnd.jupyter.widget-view+json": {
              "model_id": "8cbca23c71b448a8bf943cdf33e0412d",
              "version_major": 2,
              "version_minor": 0
            },
            "text/plain": [
              "Map:   0%|          | 0/700 [00:00<?, ? examples/s]"
            ]
          },
          "metadata": {},
          "output_type": "display_data"
        },
        {
          "data": {
            "application/vnd.jupyter.widget-view+json": {
              "model_id": "1532f1fe51394fa6b601fda4ad9660cd",
              "version_major": 2,
              "version_minor": 0
            },
            "text/plain": [
              "Map:   0%|          | 0/140 [00:00<?, ? examples/s]"
            ]
          },
          "metadata": {},
          "output_type": "display_data"
        },
        {
          "data": {
            "application/vnd.jupyter.widget-view+json": {
              "model_id": "f8f85060b847418181ebb2ceaa41428e",
              "version_major": 2,
              "version_minor": 0
            },
            "text/plain": [
              "Map:   0%|          | 0/234 [00:00<?, ? examples/s]"
            ]
          },
          "metadata": {},
          "output_type": "display_data"
        }
      ],
      "source": [
        "from transformers import AutoTokenizer\n",
        "\n",
        "tokenizer = AutoTokenizer.from_pretrained(\"distilbert-base-cased\")\n",
        "\n",
        "def tokenize_function(examples):\n",
        "    return tokenizer(examples[\"text\"], padding=\"max_length\", truncation=True)\n",
        "\n",
        "tokenized_datasets = dataset.map(tokenize_function, batched=True)"
      ]
    },
    {
      "cell_type": "code",
      "execution_count": null,
      "metadata": {
        "colab": {
          "base_uri": "https://localhost:8080/",
          "height": 156,
          "referenced_widgets": [
            "23ea7c1c0b784dc1a9fe6906de4b0c15"
          ]
        },
        "id": "2PnzvESswGb6",
        "outputId": "5cff0d1c-ad71-4f2a-f1de-f58ea5cce5aa"
      },
      "outputs": [
        {
          "data": {
            "application/vnd.jupyter.widget-view+json": {
              "model_id": "23ea7c1c0b784dc1a9fe6906de4b0c15",
              "version_major": 2,
              "version_minor": 0
            },
            "text/plain": [
              "Downloading pytorch_model.bin:   0%|          | 0.00/263M [00:00<?, ?B/s]"
            ]
          },
          "metadata": {},
          "output_type": "display_data"
        },
        {
          "name": "stderr",
          "output_type": "stream",
          "text": [
            "Some weights of the model checkpoint at distilbert-base-cased were not used when initializing DistilBertForSequenceClassification: ['vocab_layer_norm.weight', 'vocab_projector.bias', 'vocab_projector.weight', 'vocab_layer_norm.bias', 'vocab_transform.bias', 'vocab_transform.weight']\n",
            "- This IS expected if you are initializing DistilBertForSequenceClassification from the checkpoint of a model trained on another task or with another architecture (e.g. initializing a BertForSequenceClassification model from a BertForPreTraining model).\n",
            "- This IS NOT expected if you are initializing DistilBertForSequenceClassification from the checkpoint of a model that you expect to be exactly identical (initializing a BertForSequenceClassification model from a BertForSequenceClassification model).\n",
            "Some weights of DistilBertForSequenceClassification were not initialized from the model checkpoint at distilbert-base-cased and are newly initialized: ['classifier.weight', 'classifier.bias', 'pre_classifier.bias', 'pre_classifier.weight']\n",
            "You should probably TRAIN this model on a down-stream task to be able to use it for predictions and inference.\n"
          ]
        }
      ],
      "source": [
        "from transformers import AutoModelForSequenceClassification\n",
        "\n",
        "model = AutoModelForSequenceClassification.from_pretrained(\"distilbert-base-cased\", num_labels=2)"
      ]
    },
    {
      "cell_type": "code",
      "execution_count": null,
      "metadata": {
        "id": "Hg5I03djwGgB"
      },
      "outputs": [],
      "source": [
        "from transformers import TrainingArguments\n",
        "\n",
        "training_args = TrainingArguments(output_dir=\"test_trainer\")"
      ]
    },
    {
      "cell_type": "code",
      "execution_count": null,
      "metadata": {
        "colab": {
          "base_uri": "https://localhost:8080/",
          "height": 49,
          "referenced_widgets": [
            "0e8cfc1ee7f64b39ba0e42c0144dda66"
          ]
        },
        "id": "0_PxlSalwGiI",
        "outputId": "a6dd7e6d-9e03-46b0-eab0-ddd7fcf6eb6f"
      },
      "outputs": [
        {
          "data": {
            "application/vnd.jupyter.widget-view+json": {
              "model_id": "0e8cfc1ee7f64b39ba0e42c0144dda66",
              "version_major": 2,
              "version_minor": 0
            },
            "text/plain": [
              "Downloading builder script:   0%|          | 0.00/7.36k [00:00<?, ?B/s]"
            ]
          },
          "metadata": {},
          "output_type": "display_data"
        }
      ],
      "source": [
        "import numpy as np\n",
        "import evaluate\n",
        "\n",
        "metric = evaluate.load(\"recall\")"
      ]
    },
    {
      "cell_type": "code",
      "execution_count": null,
      "metadata": {
        "id": "JcyUWwSXwGmT"
      },
      "outputs": [],
      "source": [
        "def compute_metrics(eval_pred):\n",
        "  logits, labels = eval_pred\n",
        "  predictions = np.argmax(logits, axis=-1)\n",
        "  return metric.compute(predictions=predictions, references=labels)"
      ]
    },
    {
      "cell_type": "code",
      "execution_count": null,
      "metadata": {
        "id": "OrxqeK2IwGob"
      },
      "outputs": [],
      "source": [
        "from transformers import TrainingArguments, Trainer\n",
        "\n",
        "training_args = TrainingArguments(output_dir=\"test_trainer\", evaluation_strategy=\"epoch\")"
      ]
    },
    {
      "cell_type": "code",
      "execution_count": null,
      "metadata": {
        "id": "LnO4n6ojxQZx"
      },
      "outputs": [],
      "source": [
        "training_args.do_predict = True\n",
        "training_args.do_train = True\n",
        "training_args.do_eval = True"
      ]
    },
    {
      "cell_type": "code",
      "execution_count": null,
      "metadata": {
        "id": "roZ2PG9NwGqf"
      },
      "outputs": [],
      "source": [
        "trainer = Trainer(\n",
        "    model=model,\n",
        "    args=training_args,\n",
        "    train_dataset=tokenized_datasets[\"train\"].shuffle(seed=42),\n",
        "    eval_dataset=tokenized_datasets[\"eval\"].shuffle(seed=42),\n",
        "    compute_metrics=compute_metrics,\n",
        ")"
      ]
    },
    {
      "cell_type": "code",
      "execution_count": null,
      "metadata": {
        "colab": {
          "base_uri": "https://localhost:8080/",
          "height": 224
        },
        "id": "UqeSdQjiwUy8",
        "outputId": "d4202b40-ec3e-44df-a42d-7e8bc54f7a4c"
      },
      "outputs": [
        {
          "name": "stderr",
          "output_type": "stream",
          "text": [
            "/usr/local/lib/python3.10/dist-packages/transformers/optimization.py:407: FutureWarning: This implementation of AdamW is deprecated and will be removed in a future version. Use the PyTorch implementation torch.optim.AdamW instead, or set `no_deprecation_warning=True` to disable this warning\n",
            "  warnings.warn(\n"
          ]
        },
        {
          "data": {
            "text/html": [
              "\n",
              "    <div>\n",
              "      \n",
              "      <progress value='264' max='264' style='width:300px; height:20px; vertical-align: middle;'></progress>\n",
              "      [264/264 01:35, Epoch 3/3]\n",
              "    </div>\n",
              "    <table border=\"1\" class=\"dataframe\">\n",
              "  <thead>\n",
              " <tr style=\"text-align: left;\">\n",
              "      <th>Epoch</th>\n",
              "      <th>Training Loss</th>\n",
              "      <th>Validation Loss</th>\n",
              "      <th>Recall</th>\n",
              "    </tr>\n",
              "  </thead>\n",
              "  <tbody>\n",
              "    <tr>\n",
              "      <td>1</td>\n",
              "      <td>No log</td>\n",
              "      <td>0.132351</td>\n",
              "      <td>0.750000</td>\n",
              "    </tr>\n",
              "    <tr>\n",
              "      <td>2</td>\n",
              "      <td>No log</td>\n",
              "      <td>0.095873</td>\n",
              "      <td>0.875000</td>\n",
              "    </tr>\n",
              "    <tr>\n",
              "      <td>3</td>\n",
              "      <td>No log</td>\n",
              "      <td>0.104637</td>\n",
              "      <td>0.875000</td>\n",
              "    </tr>\n",
              "  </tbody>\n",
              "</table><p>"
            ],
            "text/plain": [
              "<IPython.core.display.HTML object>"
            ]
          },
          "metadata": {},
          "output_type": "display_data"
        }
      ],
      "source": [
        "train_result = trainer.train()"
      ]
    },
    {
      "cell_type": "code",
      "execution_count": null,
      "metadata": {
        "colab": {
          "base_uri": "https://localhost:8080/"
        },
        "id": "wn3qH_YHwU5F",
        "outputId": "a024bca2-98ed-414b-c99c-b5d2072ea3cc"
      },
      "outputs": [
        {
          "name": "stdout",
          "output_type": "stream",
          "text": [
            "***** train metrics *****\n",
            "  epoch                    =        3.0\n",
            "  total_flos               =   259076GF\n",
            "  train_loss               =     0.1105\n",
            "  train_runtime            = 0:01:38.14\n",
            "  train_samples_per_second =     21.396\n",
            "  train_steps_per_second   =       2.69\n"
          ]
        }
      ],
      "source": [
        "metrics = train_result.metrics\n",
        "trainer.save_model()  # Saves the tokenizer too for easy upload\n",
        "\n",
        "trainer.log_metrics(\"train\", metrics)\n",
        "trainer.save_metrics(\"train\", metrics)\n",
        "trainer.save_state()"
      ]
    },
    {
      "cell_type": "code",
      "execution_count": null,
      "metadata": {
        "colab": {
          "base_uri": "https://localhost:8080/",
          "height": 159
        },
        "id": "MzGG7lU9wU_e",
        "outputId": "21702b38-b610-49ba-9df3-72ec96831f55"
      },
      "outputs": [
        {
          "data": {
            "text/html": [
              "\n",
              "    <div>\n",
              "      \n",
              "      <progress value='18' max='18' style='width:300px; height:20px; vertical-align: middle;'></progress>\n",
              "      [18/18 00:02]\n",
              "    </div>\n",
              "    "
            ],
            "text/plain": [
              "<IPython.core.display.HTML object>"
            ]
          },
          "metadata": {},
          "output_type": "display_data"
        },
        {
          "name": "stdout",
          "output_type": "stream",
          "text": [
            "***** eval metrics *****\n",
            "  epoch                   =        3.0\n",
            "  eval_loss               =     0.1046\n",
            "  eval_recall             =      0.875\n",
            "  eval_runtime            = 0:00:02.51\n",
            "  eval_samples_per_second =     55.604\n",
            "  eval_steps_per_second   =      7.149\n"
          ]
        }
      ],
      "source": [
        "# Evaluation\n",
        "\n",
        "metrics = trainer.evaluate(eval_dataset=tokenized_datasets[\"eval\"].shuffle(seed=42))\n",
        "\n",
        "trainer.log_metrics(\"eval\", metrics)\n",
        "trainer.save_metrics(\"eval\", metrics)"
      ]
    },
    {
      "cell_type": "code",
      "execution_count": null,
      "metadata": {
        "colab": {
          "base_uri": "https://localhost:8080/",
          "height": 121
        },
        "id": "HZXQQkR2wVIq",
        "outputId": "bc8d5c5f-b042-44aa-b455-a1b1684cd4ca"
      },
      "outputs": [
        {
          "data": {
            "text/html": [],
            "text/plain": [
              "<IPython.core.display.HTML object>"
            ]
          },
          "metadata": {},
          "output_type": "display_data"
        },
        {
          "name": "stdout",
          "output_type": "stream",
          "text": [
            "***** predict metrics *****\n",
            "  predict_loss               =     0.0753\n",
            "  predict_recall             =     0.8824\n",
            "  predict_runtime            = 0:00:03.62\n",
            "  predict_samples_per_second =     64.634\n",
            "  predict_steps_per_second   =      8.286\n"
          ]
        }
      ],
      "source": [
        "# Prediction\n",
        "\n",
        "predictions, labels, metrics = trainer.predict(tokenized_datasets[\"test\"], metric_key_prefix=\"predict\")\n",
        "\n",
        "trainer.log_metrics(\"predict\", metrics)\n",
        "trainer.save_metrics(\"predict\", metrics)\n",
        "\n",
        "predictions = np.argmax(predictions, axis=1)"
      ]
    },
    {
      "cell_type": "code",
      "execution_count": null,
      "metadata": {
        "colab": {
          "base_uri": "https://localhost:8080/"
        },
        "id": "NLmX3JR6wVRc",
        "outputId": "d96ecc59-d22c-4208-e3a5-5bbe897b9c78"
      },
      "outputs": [
        {
          "name": "stdout",
          "output_type": "stream",
          "text": [
            "              precision    recall  f1-score   support\n",
            "\n",
            "           0       0.99      0.99      0.99       217\n",
            "           1       0.88      0.88      0.88        17\n",
            "\n",
            "    accuracy                           0.98       234\n",
            "   macro avg       0.94      0.94      0.94       234\n",
            "weighted avg       0.98      0.98      0.98       234\n",
            "\n"
          ]
        }
      ],
      "source": [
        "from sklearn.metrics import classification_report\n",
        "\n",
        "print(classification_report(predictions, labels, labels=[0, 1]))"
      ]
    },
    {
      "cell_type": "markdown",
      "metadata": {
        "id": "HmSfCh4azvzW"
      },
      "source": [
        "#### Remove ads from all comments"
      ]
    },
    {
      "cell_type": "code",
      "execution_count": null,
      "metadata": {
        "colab": {
          "base_uri": "https://localhost:8080/",
          "height": 17,
          "referenced_widgets": [
            "98ddf8a5acd34cc89e6d63cf4053b4b3"
          ]
        },
        "id": "JC8BikDEwVYv",
        "outputId": "28e3b126-3688-4bd8-9f82-6c0d618246d2"
      },
      "outputs": [
        {
          "data": {
            "application/vnd.jupyter.widget-view+json": {
              "model_id": "98ddf8a5acd34cc89e6d63cf4053b4b3",
              "version_major": 2,
              "version_minor": 0
            },
            "text/plain": [
              "Map:   0%|          | 0/310729 [00:00<?, ? examples/s]"
            ]
          },
          "metadata": {},
          "output_type": "display_data"
        }
      ],
      "source": [
        "comments_dataset = Dataset.from_pandas(comments[[\"Text\"]].rename(columns={'Text': 'text'}))\n",
        "tokenized_comments = comments_dataset.map(tokenize_function, batched=True)"
      ]
    },
    {
      "cell_type": "code",
      "execution_count": null,
      "metadata": {
        "colab": {
          "base_uri": "https://localhost:8080/",
          "height": 17
        },
        "id": "p6YK8aC0xdq9",
        "outputId": "3c6fb54f-993a-47a3-c4f1-14d4b1afcb87"
      },
      "outputs": [
        {
          "data": {
            "text/html": [],
            "text/plain": [
              "<IPython.core.display.HTML object>"
            ]
          },
          "metadata": {},
          "output_type": "display_data"
        }
      ],
      "source": [
        "predictions = trainer.predict(tokenized_comments, metric_key_prefix=\"predict\")"
      ]
    },
    {
      "cell_type": "code",
      "execution_count": null,
      "metadata": {
        "colab": {
          "base_uri": "https://localhost:8080/"
        },
        "id": "ibaXrLYZxjaI",
        "outputId": "14c9b382-c0f4-4d24-bdc2-2f9310321929"
      },
      "outputs": [
        {
          "name": "stdout",
          "output_type": "stream",
          "text": [
            "***** predict metrics *****\n",
            "  predict_loss               =     0.0753\n",
            "  predict_recall             =     0.8824\n",
            "  predict_runtime            = 0:00:03.62\n",
            "  predict_samples_per_second =     64.634\n",
            "  predict_steps_per_second   =      8.286\n"
          ]
        }
      ],
      "source": [
        "trainer.log_metrics(\"predict\", metrics)\n",
        "trainer.save_metrics(\"predict\", metrics)\n",
        "\n",
        "predictions_binary = np.argmax(predictions[0], axis=1)"
      ]
    },
    {
      "cell_type": "code",
      "execution_count": null,
      "metadata": {
        "id": "MonFzvKrx2bm"
      },
      "outputs": [],
      "source": [
        "comments_no_ad = comments[~np.array(predictions_binary).astype(bool)]"
      ]
    },
    {
      "cell_type": "code",
      "execution_count": null,
      "metadata": {
        "id": "mSQu8Eapx36q"
      },
      "outputs": [],
      "source": [
        "comments_no_ad.to_csv('comments-no-ad.csv', index=False)"
      ]
    },
    {
      "cell_type": "markdown",
      "metadata": {
        "id": "2aTft6ldyf8i"
      },
      "source": [
        "### Predict comments related to code comprehension with Bert"
      ]
    },
    {
      "cell_type": "code",
      "execution_count": null,
      "metadata": {
        "id": "GuPsS_eYyj0z"
      },
      "outputs": [],
      "source": [
        "import pandas as pd\n",
        "\n",
        "df = pd.read_excel('comments_samples_final.xlsx').fillna(0)"
      ]
    },
    {
      "cell_type": "code",
      "execution_count": null,
      "metadata": {
        "id": "dbblmzjoyj7F"
      },
      "outputs": [],
      "source": [
        "df = df[~(df['advertise'] == 1)]"
      ]
    },
    {
      "cell_type": "code",
      "execution_count": null,
      "metadata": {
        "id": "AHzN4cyIykAW"
      },
      "outputs": [],
      "source": [
        "labels_df = df.drop(['Id', 'Text'], axis=1)\n",
        "def col_to_list(row):\n",
        "  return int('comperenension' in list(labels_df.columns[row.eq(1)]))\n",
        "labels = labels_df.apply(col_to_list, axis=1)"
      ]
    },
    {
      "cell_type": "code",
      "execution_count": null,
      "metadata": {
        "id": "1-vdREe-ykCX"
      },
      "outputs": [],
      "source": [
        "from sklearn.model_selection import train_test_split\n",
        "\n",
        "X_train, X_eval, y_train, y_eval = train_test_split(df['Text'], labels, test_size=0.13, random_state=1)\n",
        "X_train, X_test, y_train, y_test = train_test_split(X_train, y_train, test_size=0.25, random_state=1)"
      ]
    },
    {
      "cell_type": "code",
      "execution_count": null,
      "metadata": {
        "id": "4ULZJIwcykEY"
      },
      "outputs": [],
      "source": [
        "from datasets import Dataset, DatasetDict\n",
        "\n",
        "df_train = pd.DataFrame({'text': X_train, 'labels': y_train})\n",
        "df_eval = pd.DataFrame({'text': X_eval, 'labels': y_eval})\n",
        "df_test = pd.DataFrame({'text': X_test, 'labels': y_test})\n",
        "dataset = DatasetDict({\n",
        "    \"train\": Dataset.from_pandas(df_train),\n",
        "    \"eval\": Dataset.from_pandas(df_eval),\n",
        "    \"test\": Dataset.from_pandas(df_test)\n",
        "    })"
      ]
    },
    {
      "cell_type": "code",
      "execution_count": null,
      "metadata": {
        "colab": {
          "base_uri": "https://localhost:8080/",
          "height": 17,
          "referenced_widgets": [
            "c88a74c647944029bfdbac5a66c1bff4",
            "2ec9820cafb645ae8de7aa6aaea6edef",
            "38d508cd204c4d3c9bbe38ea25893e1c"
          ]
        },
        "id": "fWgrq0eYzO5h",
        "outputId": "8ddcc4b2-9a27-4a8b-8b37-36691204b1ef"
      },
      "outputs": [
        {
          "data": {
            "application/vnd.jupyter.widget-view+json": {
              "model_id": "c88a74c647944029bfdbac5a66c1bff4",
              "version_major": 2,
              "version_minor": 0
            },
            "text/plain": [
              "Map:   0%|          | 0/636 [00:00<?, ? examples/s]"
            ]
          },
          "metadata": {},
          "output_type": "display_data"
        },
        {
          "data": {
            "application/vnd.jupyter.widget-view+json": {
              "model_id": "2ec9820cafb645ae8de7aa6aaea6edef",
              "version_major": 2,
              "version_minor": 0
            },
            "text/plain": [
              "Map:   0%|          | 0/128 [00:00<?, ? examples/s]"
            ]
          },
          "metadata": {},
          "output_type": "display_data"
        },
        {
          "data": {
            "application/vnd.jupyter.widget-view+json": {
              "model_id": "38d508cd204c4d3c9bbe38ea25893e1c",
              "version_major": 2,
              "version_minor": 0
            },
            "text/plain": [
              "Map:   0%|          | 0/213 [00:00<?, ? examples/s]"
            ]
          },
          "metadata": {},
          "output_type": "display_data"
        }
      ],
      "source": [
        "from transformers import AutoTokenizer\n",
        "\n",
        "tokenizer = AutoTokenizer.from_pretrained(\"distilbert-base-cased\")\n",
        "\n",
        "\n",
        "def tokenize_function(examples):\n",
        "    return tokenizer(examples[\"text\"], padding=\"max_length\", truncation=True)\n",
        "\n",
        "\n",
        "tokenized_datasets = dataset.map(tokenize_function, batched=True)"
      ]
    },
    {
      "cell_type": "code",
      "execution_count": null,
      "metadata": {
        "colab": {
          "base_uri": "https://localhost:8080/"
        },
        "id": "6v2Pfq7wzPIj",
        "outputId": "b82e981b-333e-4150-e72c-62cd0dcc2a8f"
      },
      "outputs": [
        {
          "name": "stderr",
          "output_type": "stream",
          "text": [
            "Some weights of the model checkpoint at distilbert-base-cased were not used when initializing DistilBertForSequenceClassification: ['vocab_layer_norm.weight', 'vocab_projector.bias', 'vocab_projector.weight', 'vocab_layer_norm.bias', 'vocab_transform.bias', 'vocab_transform.weight']\n",
            "- This IS expected if you are initializing DistilBertForSequenceClassification from the checkpoint of a model trained on another task or with another architecture (e.g. initializing a BertForSequenceClassification model from a BertForPreTraining model).\n",
            "- This IS NOT expected if you are initializing DistilBertForSequenceClassification from the checkpoint of a model that you expect to be exactly identical (initializing a BertForSequenceClassification model from a BertForSequenceClassification model).\n",
            "Some weights of DistilBertForSequenceClassification were not initialized from the model checkpoint at distilbert-base-cased and are newly initialized: ['classifier.weight', 'classifier.bias', 'pre_classifier.bias', 'pre_classifier.weight']\n",
            "You should probably TRAIN this model on a down-stream task to be able to use it for predictions and inference.\n"
          ]
        }
      ],
      "source": [
        "from transformers import AutoModelForSequenceClassification\n",
        "\n",
        "model = AutoModelForSequenceClassification.from_pretrained(\"distilbert-base-cased\", num_labels=2)"
      ]
    },
    {
      "cell_type": "code",
      "execution_count": null,
      "metadata": {
        "id": "SMgdp2V8zPTt"
      },
      "outputs": [],
      "source": [
        "from transformers import TrainingArguments\n",
        "\n",
        "training_args = TrainingArguments(output_dir=\"test_trainer\")"
      ]
    },
    {
      "cell_type": "code",
      "execution_count": null,
      "metadata": {
        "colab": {
          "base_uri": "https://localhost:8080/",
          "height": 49,
          "referenced_widgets": [
            "bfbac6aed1bc40beaecf7fc5c62c33cd"
          ]
        },
        "id": "s6Hocs2dzPjJ",
        "outputId": "167171e4-d39f-4425-803f-0f38c630fa18"
      },
      "outputs": [
        {
          "data": {
            "application/vnd.jupyter.widget-view+json": {
              "model_id": "bfbac6aed1bc40beaecf7fc5c62c33cd",
              "version_major": 2,
              "version_minor": 0
            },
            "text/plain": [
              "Downloading builder script:   0%|          | 0.00/4.20k [00:00<?, ?B/s]"
            ]
          },
          "metadata": {},
          "output_type": "display_data"
        }
      ],
      "source": [
        "import numpy as np\n",
        "import evaluate\n",
        "\n",
        "metric = evaluate.load(\"accuracy\")"
      ]
    },
    {
      "cell_type": "code",
      "execution_count": null,
      "metadata": {
        "id": "U9otMEW5zPz_"
      },
      "outputs": [],
      "source": [
        "def compute_metrics(eval_pred):\n",
        "  logits, labels = eval_pred\n",
        "  predictions = np.argmax(logits, axis=-1)\n",
        "  return metric.compute(predictions=predictions, references=labels)"
      ]
    },
    {
      "cell_type": "code",
      "execution_count": null,
      "metadata": {
        "id": "j9ARAyU_zbve"
      },
      "outputs": [],
      "source": [
        "from transformers import TrainingArguments, Trainer\n",
        "\n",
        "training_args = TrainingArguments(output_dir=\"test_trainer\", evaluation_strategy=\"epoch\")"
      ]
    },
    {
      "cell_type": "code",
      "execution_count": null,
      "metadata": {
        "id": "pm_9zap0zbx1"
      },
      "outputs": [],
      "source": [
        "training_args.do_predict = True\n",
        "training_args.do_train = True\n",
        "training_args.do_eval = True"
      ]
    },
    {
      "cell_type": "code",
      "execution_count": null,
      "metadata": {
        "id": "oghvdAVXzbz6"
      },
      "outputs": [],
      "source": [
        "trainer = Trainer(\n",
        "    model=model,\n",
        "    args=training_args,\n",
        "    train_dataset=tokenized_datasets[\"train\"].shuffle(seed=42),\n",
        "    eval_dataset=tokenized_datasets[\"eval\"].shuffle(seed=42),\n",
        "    compute_metrics=compute_metrics,\n",
        ")"
      ]
    },
    {
      "cell_type": "code",
      "execution_count": null,
      "metadata": {
        "colab": {
          "base_uri": "https://localhost:8080/",
          "height": 224
        },
        "id": "KFU5P-nyzb3R",
        "outputId": "ecd4668e-b71c-4e0e-e151-65644f1b28f3"
      },
      "outputs": [
        {
          "name": "stderr",
          "output_type": "stream",
          "text": [
            "/usr/local/lib/python3.10/dist-packages/transformers/optimization.py:407: FutureWarning: This implementation of AdamW is deprecated and will be removed in a future version. Use the PyTorch implementation torch.optim.AdamW instead, or set `no_deprecation_warning=True` to disable this warning\n",
            "  warnings.warn(\n"
          ]
        },
        {
          "data": {
            "text/html": [
              "\n",
              "    <div>\n",
              "      \n",
              "      <progress value='240' max='240' style='width:300px; height:20px; vertical-align: middle;'></progress>\n",
              "      [240/240 01:34, Epoch 3/3]\n",
              "    </div>\n",
              "    <table border=\"1\" class=\"dataframe\">\n",
              "  <thead>\n",
              " <tr style=\"text-align: left;\">\n",
              "      <th>Epoch</th>\n",
              "      <th>Training Loss</th>\n",
              "      <th>Validation Loss</th>\n",
              "      <th>Accuracy</th>\n",
              "    </tr>\n",
              "  </thead>\n",
              "  <tbody>\n",
              "    <tr>\n",
              "      <td>1</td>\n",
              "      <td>No log</td>\n",
              "      <td>0.282353</td>\n",
              "      <td>0.921875</td>\n",
              "    </tr>\n",
              "    <tr>\n",
              "      <td>2</td>\n",
              "      <td>No log</td>\n",
              "      <td>0.339412</td>\n",
              "      <td>0.906250</td>\n",
              "    </tr>\n",
              "    <tr>\n",
              "      <td>3</td>\n",
              "      <td>No log</td>\n",
              "      <td>0.401581</td>\n",
              "      <td>0.898438</td>\n",
              "    </tr>\n",
              "  </tbody>\n",
              "</table><p>"
            ],
            "text/plain": [
              "<IPython.core.display.HTML object>"
            ]
          },
          "metadata": {},
          "output_type": "display_data"
        }
      ],
      "source": [
        "train_result = trainer.train()"
      ]
    },
    {
      "cell_type": "code",
      "execution_count": null,
      "metadata": {
        "colab": {
          "base_uri": "https://localhost:8080/"
        },
        "id": "M5dEbQfSzQHD",
        "outputId": "9128265f-829f-4de0-80d3-e1b4605a119a"
      },
      "outputs": [
        {
          "name": "stdout",
          "output_type": "stream",
          "text": [
            "***** train metrics *****\n",
            "  epoch                    =        3.0\n",
            "  total_flos               =   235389GF\n",
            "  train_loss               =     0.2739\n",
            "  train_runtime            = 0:01:34.70\n",
            "  train_samples_per_second =     20.147\n",
            "  train_steps_per_second   =      2.534\n"
          ]
        }
      ],
      "source": [
        "metrics = train_result.metrics\n",
        "trainer.save_model()  # Saves the tokenizer too for easy upload\n",
        "trainer.log_metrics(\"train\", metrics)\n",
        "trainer.save_metrics(\"train\", metrics)\n",
        "trainer.save_state()"
      ]
    },
    {
      "cell_type": "code",
      "execution_count": null,
      "metadata": {
        "colab": {
          "base_uri": "https://localhost:8080/",
          "height": 159
        },
        "id": "7SvbGLj1zfyD",
        "outputId": "f1272ee3-21f6-4f4a-eb73-1860526197d6"
      },
      "outputs": [
        {
          "data": {
            "text/html": [
              "\n",
              "    <div>\n",
              "      \n",
              "      <progress value='16' max='16' style='width:300px; height:20px; vertical-align: middle;'></progress>\n",
              "      [16/16 00:01]\n",
              "    </div>\n",
              "    "
            ],
            "text/plain": [
              "<IPython.core.display.HTML object>"
            ]
          },
          "metadata": {},
          "output_type": "display_data"
        },
        {
          "name": "stdout",
          "output_type": "stream",
          "text": [
            "***** eval metrics *****\n",
            "  epoch                   =        3.0\n",
            "  eval_accuracy           =     0.8984\n",
            "  eval_loss               =     0.4016\n",
            "  eval_runtime            = 0:00:02.09\n",
            "  eval_samples_per_second =     60.989\n",
            "  eval_steps_per_second   =      7.624\n"
          ]
        }
      ],
      "source": [
        "# Evaluation\n",
        "\n",
        "metrics = trainer.evaluate(eval_dataset=tokenized_datasets[\"eval\"].shuffle(seed=42))\n",
        "trainer.log_metrics(\"eval\", metrics)\n",
        "trainer.save_metrics(\"eval\", metrics)"
      ]
    },
    {
      "cell_type": "code",
      "execution_count": null,
      "metadata": {
        "colab": {
          "base_uri": "https://localhost:8080/",
          "height": 121
        },
        "id": "lydFhXpMzf0k",
        "outputId": "89ee685e-20ce-4465-8602-f40073ccc54f"
      },
      "outputs": [
        {
          "data": {
            "text/html": [],
            "text/plain": [
              "<IPython.core.display.HTML object>"
            ]
          },
          "metadata": {},
          "output_type": "display_data"
        },
        {
          "name": "stdout",
          "output_type": "stream",
          "text": [
            "***** predict metrics *****\n",
            "  predict_accuracy           =     0.9061\n",
            "  predict_loss               =     0.3656\n",
            "  predict_runtime            = 0:00:03.49\n",
            "  predict_samples_per_second =     60.964\n",
            "  predict_steps_per_second   =      7.728\n"
          ]
        }
      ],
      "source": [
        "# Prediction\n",
        "\n",
        "predictions, labels, metrics = trainer.predict(tokenized_datasets[\"test\"], metric_key_prefix=\"predict\")\n",
        "trainer.log_metrics(\"predict\", metrics)\n",
        "trainer.save_metrics(\"predict\", metrics)\n",
        "predictions = np.argmax(predictions, axis=1)"
      ]
    },
    {
      "cell_type": "code",
      "execution_count": null,
      "metadata": {
        "colab": {
          "base_uri": "https://localhost:8080/"
        },
        "id": "T91pdVHRzf2k",
        "outputId": "a549ca8e-68ba-48f4-a4e5-0bd5b8e4e543"
      },
      "outputs": [
        {
          "name": "stdout",
          "output_type": "stream",
          "text": [
            "              precision    recall  f1-score   support\n",
            "\n",
            "           0       0.85      0.90      0.87        77\n",
            "           1       0.94      0.91      0.93       136\n",
            "\n",
            "    accuracy                           0.91       213\n",
            "   macro avg       0.90      0.90      0.90       213\n",
            "weighted avg       0.91      0.91      0.91       213\n",
            "\n"
          ]
        }
      ],
      "source": [
        "from sklearn.metrics import classification_report\n",
        "print(classification_report(predictions, labels, labels=[0, 1]))"
      ]
    },
    {
      "cell_type": "code",
      "execution_count": null,
      "metadata": {
        "colab": {
          "base_uri": "https://localhost:8080/",
          "height": 17,
          "referenced_widgets": [
            "93217c65a58e4df1a23616c5f77f7a3c"
          ]
        },
        "id": "uDqPOypJzf4i",
        "outputId": "01362586-0125-4a22-f102-be73c6b8e908"
      },
      "outputs": [
        {
          "data": {
            "application/vnd.jupyter.widget-view+json": {
              "model_id": "93217c65a58e4df1a23616c5f77f7a3c",
              "version_major": 2,
              "version_minor": 0
            },
            "text/plain": [
              "Map:   0%|          | 0/305708 [00:00<?, ? examples/s]"
            ]
          },
          "metadata": {},
          "output_type": "display_data"
        }
      ],
      "source": [
        "# Predict all comments\n",
        "\n",
        "comments_dataset = Dataset.from_pandas(comments_no_ad[[\"Text\"]].rename(columns={'Text': 'text'}))\n",
        "tokenized_comments = comments_dataset.map(tokenize_function, batched=True)"
      ]
    },
    {
      "cell_type": "code",
      "execution_count": null,
      "metadata": {
        "colab": {
          "base_uri": "https://localhost:8080/",
          "height": 106
        },
        "id": "GTdH6JrWz7xO",
        "outputId": "e7ed63f2-0424-4387-b60f-ca4c444130a5"
      },
      "outputs": [
        {
          "name": "stderr",
          "output_type": "stream",
          "text": [
            "The following columns in the test set don't have a corresponding argument in `DistilBertForSequenceClassification.forward` and have been ignored: text, __index_level_0__. If text, __index_level_0__ are not expected by `DistilBertForSequenceClassification.forward`,  you can safely ignore this message.\n",
            "***** Running Prediction *****\n",
            "  Num examples = 50\n",
            "  Batch size = 8\n"
          ]
        },
        {
          "data": {
            "text/html": [],
            "text/plain": [
              "<IPython.core.display.HTML object>"
            ]
          },
          "metadata": {},
          "output_type": "display_data"
        }
      ],
      "source": [
        "predictions = trainer.predict(tokenized_comments, metric_key_prefix=\"predict\")"
      ]
    },
    {
      "cell_type": "code",
      "execution_count": null,
      "metadata": {
        "colab": {
          "base_uri": "https://localhost:8080/"
        },
        "id": "5Ptc7OMFz7z0",
        "outputId": "c296f207-6def-47c1-c6c4-81383f778599"
      },
      "outputs": [
        {
          "name": "stdout",
          "output_type": "stream",
          "text": [
            "***** predict metrics *****\n",
            "  predict_accuracy           =     0.9202\n",
            "  predict_loss               =     0.3988\n",
            "  predict_runtime            = 0:00:04.04\n",
            "  predict_samples_per_second =     52.609\n",
            "  predict_steps_per_second   =      6.669\n"
          ]
        }
      ],
      "source": [
        "trainer.log_metrics(\"predict\", metrics)\n",
        "trainer.save_metrics(\"predict\", metrics)\n",
        "\n",
        "predictions_binary = np.argmax(predictions[0], axis=1)"
      ]
    },
    {
      "cell_type": "code",
      "execution_count": null,
      "metadata": {
        "id": "o6FKcH7m0Hsk"
      },
      "outputs": [],
      "source": [
        "comments_no_ad_labeled = comments_no_ad[~np.array(predictions_binary).astype(bool)]"
      ]
    },
    {
      "cell_type": "code",
      "execution_count": null,
      "metadata": {
        "id": "mtS57Bos0Hu3"
      },
      "outputs": [],
      "source": [
        "comments_no_ad.to_csv('comments-scored.csv', index=False)"
      ]
    },
    {
      "cell_type": "markdown",
      "metadata": {
        "id": "m97EH7D9WGrr"
      },
      "source": [
        "# expert questionnaire and create Ground Truth"
      ]
    },
    {
      "cell_type": "code",
      "source": [
        "import pandas as pd\n",
        "\n",
        "# Read the CSV file\n",
        "df = pd.read_csv('experts.csv')\n",
        "\n",
        "# Drop rows with missing values\n",
        "df.dropna(inplace=True)\n",
        "\n",
        "# Ensure the labels are integers\n",
        "df['label'] = df['label'].astype(int)\n",
        "df['Expert 1'] = df['Expert 1'].astype(int)\n",
        "df['Expert 2'] = df['Expert 2'].astype(int)\n",
        "df['Expert 3'] = df['Expert 3'].astype(int)\n",
        "\n",
        "# Initialize variables\n",
        "n = len(df)  # Number of subjects\n",
        "k = 3        # Number of raters\n",
        "categories = 2  # Number of categories (0 and 1)\n",
        "\n",
        "# Create a DataFrame to store the ratings of each expert\n",
        "ratings = df[['Expert 1', 'Expert 2', 'Expert 3']].values\n",
        "\n",
        "# Calculate the agreement matrix\n",
        "agreement_matrix = [[0] * categories for _ in range(n)]\n",
        "for i, row in enumerate(ratings):\n",
        "    for j in range(categories):\n",
        "        agreement_matrix[i][j] = sum(row == j)\n",
        "\n",
        "# Calculate the marginal probabilities\n",
        "p_j = [sum([1 for row in agreement_matrix if row[j] == k]) / (n * k) for j in range(categories)]\n",
        "p_i = [sum(row) / (k * n) for row in agreement_matrix]\n",
        "\n",
        "# Calculate P_e (expected agreement)\n",
        "P_e = sum(p_j[i] ** 2 for i in range(categories))\n",
        "\n",
        "# Calculate P\n",
        "P = [(sum(row[i] ** 2 for i in range(categories)) - k) / (k * (k - 1)) for row in agreement_matrix]\n",
        "P_bar = sum(P) / n\n",
        "\n",
        "# Calculate Fleiss' Kappa\n",
        "kappa = (P_bar - P_e) / (1 - P_e)\n",
        "\n",
        "print(\"Fleiss' Kappa:\", kappa)\n"
      ],
      "metadata": {
        "id": "JICWb51AjABG",
        "colab": {
          "base_uri": "https://localhost:8080/"
        },
        "outputId": "c9f50c31-7bcb-46d6-f7db-35bdd7525fcf"
      },
      "execution_count": null,
      "outputs": [
        {
          "output_type": "stream",
          "name": "stdout",
          "text": [
            "Fleiss' Kappa: 0.8135457288575881\n"
          ]
        }
      ]
    },
    {
      "cell_type": "markdown",
      "metadata": {
        "id": "FHlCC2Fk4tp5"
      },
      "source": [
        "# Model criteria and compare against Ground Truth"
      ]
    },
    {
      "cell_type": "markdown",
      "source": [
        "### New Ground Truth"
      ],
      "metadata": {
        "id": "7TqKl2qmDMua"
      }
    },
    {
      "cell_type": "code",
      "source": [
        "import pandas as pd\n",
        "\n",
        "df = pd.read_csv('experts.csv')\n",
        "df['label'] = df['label'].astype(int)"
      ],
      "metadata": {
        "id": "MUaBDs80DPIJ"
      },
      "execution_count": null,
      "outputs": []
    },
    {
      "cell_type": "markdown",
      "source": [
        "### Calculate combined score"
      ],
      "metadata": {
        "id": "Lsmzf7xa0Njd"
      }
    },
    {
      "cell_type": "markdown",
      "source": [
        "#### Download all kernels"
      ],
      "metadata": {
        "id": "XlAQo18a0Vhe"
      }
    },
    {
      "cell_type": "code",
      "source": [
        "!wget https://zenodo.org/records/10317389/files/notebook_metrics.csv?download=1"
      ],
      "metadata": {
        "colab": {
          "base_uri": "https://localhost:8080/"
        },
        "id": "svaxRMvP0e3c",
        "outputId": "0a8593fc-b081-4a51-f3e8-90ae7e4d3c0b"
      },
      "execution_count": null,
      "outputs": [
        {
          "output_type": "stream",
          "name": "stdout",
          "text": [
            "--2024-04-15 13:47:29--  https://zenodo.org/records/10317389/files/notebook_metrics.csv?download=1\n",
            "Resolving zenodo.org (zenodo.org)... 188.185.79.172, 188.184.103.159, 188.184.98.238, ...\n",
            "Connecting to zenodo.org (zenodo.org)|188.185.79.172|:443... connected.\n",
            "HTTP request sent, awaiting response... 200 OK\n",
            "Length: 121066051 (115M) [text/plain]\n",
            "Saving to: ‘notebook_metrics.csv?download=1’\n",
            "\n",
            "notebook_metrics.cs 100%[===================>] 115.46M   969KB/s    in 2m 24s  \n",
            "\n",
            "2024-04-15 13:49:53 (821 KB/s) - ‘notebook_metrics.csv?download=1’ saved [121066051/121066051]\n",
            "\n"
          ]
        }
      ]
    },
    {
      "cell_type": "code",
      "source": [
        "import pandas as pd\n",
        "\n",
        "feat_df = pd.read_csv('notebook_metrics.csv?download=1', low_memory=False)"
      ],
      "metadata": {
        "id": "gA0DwVU3398B"
      },
      "execution_count": null,
      "outputs": []
    },
    {
      "cell_type": "code",
      "source": [
        "feat_df = feat_df.drop_duplicates(subset=['kernel_id'])\n",
        "# feat_df['kernel_id'] = feat_df['kernel_id'].unique()"
      ],
      "metadata": {
        "id": "08Q2D6-q4A17"
      },
      "execution_count": null,
      "outputs": []
    },
    {
      "cell_type": "code",
      "source": [
        "feat_df"
      ],
      "metadata": {
        "colab": {
          "base_uri": "https://localhost:8080/",
          "height": 443
        },
        "id": "-WWWUmbO6HAR",
        "outputId": "13d1017c-9e35-48c1-e940-2a3c9674c2a8"
      },
      "execution_count": null,
      "outputs": [
        {
          "output_type": "execute_result",
          "data": {
            "text/plain": [
              "        kernel_id  LOC  BLC   UDF   I   EH  NVD   NEC      S      P  ...  CC  \\\n",
              "0        12034794   68    0   3.0   6  0.0  0.0   0.0   15.0   68.0  ...   5   \n",
              "1        12035120   78    0   3.0   6  0.0  1.0   1.0   17.0   82.0  ...  10   \n",
              "2        12035356   68    0   3.0   6  0.0  0.0   0.0   15.0   68.0  ...   5   \n",
              "3        12035387   76    0   3.0   6  0.0  0.0   0.0   17.0   77.0  ...   8   \n",
              "4        12035410   84    0   3.0   6  0.0  2.0   2.0   19.0   86.0  ...  11   \n",
              "...           ...  ...  ...   ...  ..  ...  ...   ...    ...    ...  ...  ..   \n",
              "517487    9970903  770    1  15.0  59  1.0  2.0   2.0  102.0  422.0  ...  20   \n",
              "517488    9991246  197    0   2.0  17  0.0  1.0   2.0   22.0  117.0  ...  11   \n",
              "517489    9995660  137    2   0.0  19  0.0  0.0   0.0   16.0  126.0  ...  50   \n",
              "517490    9996831  293    0   4.0  15  0.0  8.0   1.0    9.0   44.0  ...  19   \n",
              "517491    9998547   87    5   0.0   7  0.0  0.0  37.0    0.0   57.0  ...  52   \n",
              "\n",
              "          MC             MeanWMC             MeanLMC   H1   H2   H3      MW  \\\n",
              "0        6.0  35.166666666666664  1.6666666666666667  0.0  3.0  0.0   211.0   \n",
              "1       11.0   19.90909090909091  1.3636363636363635  0.0  3.0  1.0   219.0   \n",
              "2        6.0  35.166666666666664  1.6666666666666667  0.0  3.0  0.0   211.0   \n",
              "3        9.0   23.88888888888889  1.4444444444444444  0.0  3.0  1.0   215.0   \n",
              "4       12.0  19.916666666666668  1.3333333333333333  0.0  3.0  2.0   239.0   \n",
              "...      ...                 ...                 ...  ...  ...  ...     ...   \n",
              "517487   0.0                 0.0                 0.0  0.0  0.0  0.0     0.0   \n",
              "517488   1.0                 2.0                 1.0  0.0  0.0  0.0     2.0   \n",
              "517489   3.0  2.6666666666666665                 1.0  0.0  0.0  0.0     8.0   \n",
              "517490  13.0  115.76923076923076   5.846153846153846  1.0  6.0  4.0  1505.0   \n",
              "517491   0.0                 0.0                 0.0  0.0  0.0  0.0     0.0   \n",
              "\n",
              "         LMC  PT  \n",
              "0       10.0   5  \n",
              "1       15.0   5  \n",
              "2       10.0   5  \n",
              "3       13.0   5  \n",
              "4       16.0   5  \n",
              "...      ...  ..  \n",
              "517487   0.0   1  \n",
              "517488   1.0   0  \n",
              "517489   3.0   0  \n",
              "517490  76.0   1  \n",
              "517491   0.0   1  \n",
              "\n",
              "[509135 rows x 36 columns]"
            ],
            "text/html": [
              "\n",
              "  <div id=\"df-3a43ffb8-8994-4151-ba29-32044fa4bae9\" class=\"colab-df-container\">\n",
              "    <div>\n",
              "<style scoped>\n",
              "    .dataframe tbody tr th:only-of-type {\n",
              "        vertical-align: middle;\n",
              "    }\n",
              "\n",
              "    .dataframe tbody tr th {\n",
              "        vertical-align: top;\n",
              "    }\n",
              "\n",
              "    .dataframe thead th {\n",
              "        text-align: right;\n",
              "    }\n",
              "</style>\n",
              "<table border=\"1\" class=\"dataframe\">\n",
              "  <thead>\n",
              "    <tr style=\"text-align: right;\">\n",
              "      <th></th>\n",
              "      <th>kernel_id</th>\n",
              "      <th>LOC</th>\n",
              "      <th>BLC</th>\n",
              "      <th>UDF</th>\n",
              "      <th>I</th>\n",
              "      <th>EH</th>\n",
              "      <th>NVD</th>\n",
              "      <th>NEC</th>\n",
              "      <th>S</th>\n",
              "      <th>P</th>\n",
              "      <th>...</th>\n",
              "      <th>CC</th>\n",
              "      <th>MC</th>\n",
              "      <th>MeanWMC</th>\n",
              "      <th>MeanLMC</th>\n",
              "      <th>H1</th>\n",
              "      <th>H2</th>\n",
              "      <th>H3</th>\n",
              "      <th>MW</th>\n",
              "      <th>LMC</th>\n",
              "      <th>PT</th>\n",
              "    </tr>\n",
              "  </thead>\n",
              "  <tbody>\n",
              "    <tr>\n",
              "      <th>0</th>\n",
              "      <td>12034794</td>\n",
              "      <td>68</td>\n",
              "      <td>0</td>\n",
              "      <td>3.0</td>\n",
              "      <td>6</td>\n",
              "      <td>0.0</td>\n",
              "      <td>0.0</td>\n",
              "      <td>0.0</td>\n",
              "      <td>15.0</td>\n",
              "      <td>68.0</td>\n",
              "      <td>...</td>\n",
              "      <td>5</td>\n",
              "      <td>6.0</td>\n",
              "      <td>35.166666666666664</td>\n",
              "      <td>1.6666666666666667</td>\n",
              "      <td>0.0</td>\n",
              "      <td>3.0</td>\n",
              "      <td>0.0</td>\n",
              "      <td>211.0</td>\n",
              "      <td>10.0</td>\n",
              "      <td>5</td>\n",
              "    </tr>\n",
              "    <tr>\n",
              "      <th>1</th>\n",
              "      <td>12035120</td>\n",
              "      <td>78</td>\n",
              "      <td>0</td>\n",
              "      <td>3.0</td>\n",
              "      <td>6</td>\n",
              "      <td>0.0</td>\n",
              "      <td>1.0</td>\n",
              "      <td>1.0</td>\n",
              "      <td>17.0</td>\n",
              "      <td>82.0</td>\n",
              "      <td>...</td>\n",
              "      <td>10</td>\n",
              "      <td>11.0</td>\n",
              "      <td>19.90909090909091</td>\n",
              "      <td>1.3636363636363635</td>\n",
              "      <td>0.0</td>\n",
              "      <td>3.0</td>\n",
              "      <td>1.0</td>\n",
              "      <td>219.0</td>\n",
              "      <td>15.0</td>\n",
              "      <td>5</td>\n",
              "    </tr>\n",
              "    <tr>\n",
              "      <th>2</th>\n",
              "      <td>12035356</td>\n",
              "      <td>68</td>\n",
              "      <td>0</td>\n",
              "      <td>3.0</td>\n",
              "      <td>6</td>\n",
              "      <td>0.0</td>\n",
              "      <td>0.0</td>\n",
              "      <td>0.0</td>\n",
              "      <td>15.0</td>\n",
              "      <td>68.0</td>\n",
              "      <td>...</td>\n",
              "      <td>5</td>\n",
              "      <td>6.0</td>\n",
              "      <td>35.166666666666664</td>\n",
              "      <td>1.6666666666666667</td>\n",
              "      <td>0.0</td>\n",
              "      <td>3.0</td>\n",
              "      <td>0.0</td>\n",
              "      <td>211.0</td>\n",
              "      <td>10.0</td>\n",
              "      <td>5</td>\n",
              "    </tr>\n",
              "    <tr>\n",
              "      <th>3</th>\n",
              "      <td>12035387</td>\n",
              "      <td>76</td>\n",
              "      <td>0</td>\n",
              "      <td>3.0</td>\n",
              "      <td>6</td>\n",
              "      <td>0.0</td>\n",
              "      <td>0.0</td>\n",
              "      <td>0.0</td>\n",
              "      <td>17.0</td>\n",
              "      <td>77.0</td>\n",
              "      <td>...</td>\n",
              "      <td>8</td>\n",
              "      <td>9.0</td>\n",
              "      <td>23.88888888888889</td>\n",
              "      <td>1.4444444444444444</td>\n",
              "      <td>0.0</td>\n",
              "      <td>3.0</td>\n",
              "      <td>1.0</td>\n",
              "      <td>215.0</td>\n",
              "      <td>13.0</td>\n",
              "      <td>5</td>\n",
              "    </tr>\n",
              "    <tr>\n",
              "      <th>4</th>\n",
              "      <td>12035410</td>\n",
              "      <td>84</td>\n",
              "      <td>0</td>\n",
              "      <td>3.0</td>\n",
              "      <td>6</td>\n",
              "      <td>0.0</td>\n",
              "      <td>2.0</td>\n",
              "      <td>2.0</td>\n",
              "      <td>19.0</td>\n",
              "      <td>86.0</td>\n",
              "      <td>...</td>\n",
              "      <td>11</td>\n",
              "      <td>12.0</td>\n",
              "      <td>19.916666666666668</td>\n",
              "      <td>1.3333333333333333</td>\n",
              "      <td>0.0</td>\n",
              "      <td>3.0</td>\n",
              "      <td>2.0</td>\n",
              "      <td>239.0</td>\n",
              "      <td>16.0</td>\n",
              "      <td>5</td>\n",
              "    </tr>\n",
              "    <tr>\n",
              "      <th>...</th>\n",
              "      <td>...</td>\n",
              "      <td>...</td>\n",
              "      <td>...</td>\n",
              "      <td>...</td>\n",
              "      <td>...</td>\n",
              "      <td>...</td>\n",
              "      <td>...</td>\n",
              "      <td>...</td>\n",
              "      <td>...</td>\n",
              "      <td>...</td>\n",
              "      <td>...</td>\n",
              "      <td>...</td>\n",
              "      <td>...</td>\n",
              "      <td>...</td>\n",
              "      <td>...</td>\n",
              "      <td>...</td>\n",
              "      <td>...</td>\n",
              "      <td>...</td>\n",
              "      <td>...</td>\n",
              "      <td>...</td>\n",
              "      <td>...</td>\n",
              "    </tr>\n",
              "    <tr>\n",
              "      <th>517487</th>\n",
              "      <td>9970903</td>\n",
              "      <td>770</td>\n",
              "      <td>1</td>\n",
              "      <td>15.0</td>\n",
              "      <td>59</td>\n",
              "      <td>1.0</td>\n",
              "      <td>2.0</td>\n",
              "      <td>2.0</td>\n",
              "      <td>102.0</td>\n",
              "      <td>422.0</td>\n",
              "      <td>...</td>\n",
              "      <td>20</td>\n",
              "      <td>0.0</td>\n",
              "      <td>0.0</td>\n",
              "      <td>0.0</td>\n",
              "      <td>0.0</td>\n",
              "      <td>0.0</td>\n",
              "      <td>0.0</td>\n",
              "      <td>0.0</td>\n",
              "      <td>0.0</td>\n",
              "      <td>1</td>\n",
              "    </tr>\n",
              "    <tr>\n",
              "      <th>517488</th>\n",
              "      <td>9991246</td>\n",
              "      <td>197</td>\n",
              "      <td>0</td>\n",
              "      <td>2.0</td>\n",
              "      <td>17</td>\n",
              "      <td>0.0</td>\n",
              "      <td>1.0</td>\n",
              "      <td>2.0</td>\n",
              "      <td>22.0</td>\n",
              "      <td>117.0</td>\n",
              "      <td>...</td>\n",
              "      <td>11</td>\n",
              "      <td>1.0</td>\n",
              "      <td>2.0</td>\n",
              "      <td>1.0</td>\n",
              "      <td>0.0</td>\n",
              "      <td>0.0</td>\n",
              "      <td>0.0</td>\n",
              "      <td>2.0</td>\n",
              "      <td>1.0</td>\n",
              "      <td>0</td>\n",
              "    </tr>\n",
              "    <tr>\n",
              "      <th>517489</th>\n",
              "      <td>9995660</td>\n",
              "      <td>137</td>\n",
              "      <td>2</td>\n",
              "      <td>0.0</td>\n",
              "      <td>19</td>\n",
              "      <td>0.0</td>\n",
              "      <td>0.0</td>\n",
              "      <td>0.0</td>\n",
              "      <td>16.0</td>\n",
              "      <td>126.0</td>\n",
              "      <td>...</td>\n",
              "      <td>50</td>\n",
              "      <td>3.0</td>\n",
              "      <td>2.6666666666666665</td>\n",
              "      <td>1.0</td>\n",
              "      <td>0.0</td>\n",
              "      <td>0.0</td>\n",
              "      <td>0.0</td>\n",
              "      <td>8.0</td>\n",
              "      <td>3.0</td>\n",
              "      <td>0</td>\n",
              "    </tr>\n",
              "    <tr>\n",
              "      <th>517490</th>\n",
              "      <td>9996831</td>\n",
              "      <td>293</td>\n",
              "      <td>0</td>\n",
              "      <td>4.0</td>\n",
              "      <td>15</td>\n",
              "      <td>0.0</td>\n",
              "      <td>8.0</td>\n",
              "      <td>1.0</td>\n",
              "      <td>9.0</td>\n",
              "      <td>44.0</td>\n",
              "      <td>...</td>\n",
              "      <td>19</td>\n",
              "      <td>13.0</td>\n",
              "      <td>115.76923076923076</td>\n",
              "      <td>5.846153846153846</td>\n",
              "      <td>1.0</td>\n",
              "      <td>6.0</td>\n",
              "      <td>4.0</td>\n",
              "      <td>1505.0</td>\n",
              "      <td>76.0</td>\n",
              "      <td>1</td>\n",
              "    </tr>\n",
              "    <tr>\n",
              "      <th>517491</th>\n",
              "      <td>9998547</td>\n",
              "      <td>87</td>\n",
              "      <td>5</td>\n",
              "      <td>0.0</td>\n",
              "      <td>7</td>\n",
              "      <td>0.0</td>\n",
              "      <td>0.0</td>\n",
              "      <td>37.0</td>\n",
              "      <td>0.0</td>\n",
              "      <td>57.0</td>\n",
              "      <td>...</td>\n",
              "      <td>52</td>\n",
              "      <td>0.0</td>\n",
              "      <td>0.0</td>\n",
              "      <td>0.0</td>\n",
              "      <td>0.0</td>\n",
              "      <td>0.0</td>\n",
              "      <td>0.0</td>\n",
              "      <td>0.0</td>\n",
              "      <td>0.0</td>\n",
              "      <td>1</td>\n",
              "    </tr>\n",
              "  </tbody>\n",
              "</table>\n",
              "<p>509135 rows × 36 columns</p>\n",
              "</div>\n",
              "    <div class=\"colab-df-buttons\">\n",
              "\n",
              "  <div class=\"colab-df-container\">\n",
              "    <button class=\"colab-df-convert\" onclick=\"convertToInteractive('df-3a43ffb8-8994-4151-ba29-32044fa4bae9')\"\n",
              "            title=\"Convert this dataframe to an interactive table.\"\n",
              "            style=\"display:none;\">\n",
              "\n",
              "  <svg xmlns=\"http://www.w3.org/2000/svg\" height=\"24px\" viewBox=\"0 -960 960 960\">\n",
              "    <path d=\"M120-120v-720h720v720H120Zm60-500h600v-160H180v160Zm220 220h160v-160H400v160Zm0 220h160v-160H400v160ZM180-400h160v-160H180v160Zm440 0h160v-160H620v160ZM180-180h160v-160H180v160Zm440 0h160v-160H620v160Z\"/>\n",
              "  </svg>\n",
              "    </button>\n",
              "\n",
              "  <style>\n",
              "    .colab-df-container {\n",
              "      display:flex;\n",
              "      gap: 12px;\n",
              "    }\n",
              "\n",
              "    .colab-df-convert {\n",
              "      background-color: #E8F0FE;\n",
              "      border: none;\n",
              "      border-radius: 50%;\n",
              "      cursor: pointer;\n",
              "      display: none;\n",
              "      fill: #1967D2;\n",
              "      height: 32px;\n",
              "      padding: 0 0 0 0;\n",
              "      width: 32px;\n",
              "    }\n",
              "\n",
              "    .colab-df-convert:hover {\n",
              "      background-color: #E2EBFA;\n",
              "      box-shadow: 0px 1px 2px rgba(60, 64, 67, 0.3), 0px 1px 3px 1px rgba(60, 64, 67, 0.15);\n",
              "      fill: #174EA6;\n",
              "    }\n",
              "\n",
              "    .colab-df-buttons div {\n",
              "      margin-bottom: 4px;\n",
              "    }\n",
              "\n",
              "    [theme=dark] .colab-df-convert {\n",
              "      background-color: #3B4455;\n",
              "      fill: #D2E3FC;\n",
              "    }\n",
              "\n",
              "    [theme=dark] .colab-df-convert:hover {\n",
              "      background-color: #434B5C;\n",
              "      box-shadow: 0px 1px 3px 1px rgba(0, 0, 0, 0.15);\n",
              "      filter: drop-shadow(0px 1px 2px rgba(0, 0, 0, 0.3));\n",
              "      fill: #FFFFFF;\n",
              "    }\n",
              "  </style>\n",
              "\n",
              "    <script>\n",
              "      const buttonEl =\n",
              "        document.querySelector('#df-3a43ffb8-8994-4151-ba29-32044fa4bae9 button.colab-df-convert');\n",
              "      buttonEl.style.display =\n",
              "        google.colab.kernel.accessAllowed ? 'block' : 'none';\n",
              "\n",
              "      async function convertToInteractive(key) {\n",
              "        const element = document.querySelector('#df-3a43ffb8-8994-4151-ba29-32044fa4bae9');\n",
              "        const dataTable =\n",
              "          await google.colab.kernel.invokeFunction('convertToInteractive',\n",
              "                                                    [key], {});\n",
              "        if (!dataTable) return;\n",
              "\n",
              "        const docLinkHtml = 'Like what you see? Visit the ' +\n",
              "          '<a target=\"_blank\" href=https://colab.research.google.com/notebooks/data_table.ipynb>data table notebook</a>'\n",
              "          + ' to learn more about interactive tables.';\n",
              "        element.innerHTML = '';\n",
              "        dataTable['output_type'] = 'display_data';\n",
              "        await google.colab.output.renderOutput(dataTable, element);\n",
              "        const docLink = document.createElement('div');\n",
              "        docLink.innerHTML = docLinkHtml;\n",
              "        element.appendChild(docLink);\n",
              "      }\n",
              "    </script>\n",
              "  </div>\n",
              "\n",
              "\n",
              "<div id=\"df-7e034c8b-401e-4038-9bdb-62304305b12b\">\n",
              "  <button class=\"colab-df-quickchart\" onclick=\"quickchart('df-7e034c8b-401e-4038-9bdb-62304305b12b')\"\n",
              "            title=\"Suggest charts\"\n",
              "            style=\"display:none;\">\n",
              "\n",
              "<svg xmlns=\"http://www.w3.org/2000/svg\" height=\"24px\"viewBox=\"0 0 24 24\"\n",
              "     width=\"24px\">\n",
              "    <g>\n",
              "        <path d=\"M19 3H5c-1.1 0-2 .9-2 2v14c0 1.1.9 2 2 2h14c1.1 0 2-.9 2-2V5c0-1.1-.9-2-2-2zM9 17H7v-7h2v7zm4 0h-2V7h2v10zm4 0h-2v-4h2v4z\"/>\n",
              "    </g>\n",
              "</svg>\n",
              "  </button>\n",
              "\n",
              "<style>\n",
              "  .colab-df-quickchart {\n",
              "      --bg-color: #E8F0FE;\n",
              "      --fill-color: #1967D2;\n",
              "      --hover-bg-color: #E2EBFA;\n",
              "      --hover-fill-color: #174EA6;\n",
              "      --disabled-fill-color: #AAA;\n",
              "      --disabled-bg-color: #DDD;\n",
              "  }\n",
              "\n",
              "  [theme=dark] .colab-df-quickchart {\n",
              "      --bg-color: #3B4455;\n",
              "      --fill-color: #D2E3FC;\n",
              "      --hover-bg-color: #434B5C;\n",
              "      --hover-fill-color: #FFFFFF;\n",
              "      --disabled-bg-color: #3B4455;\n",
              "      --disabled-fill-color: #666;\n",
              "  }\n",
              "\n",
              "  .colab-df-quickchart {\n",
              "    background-color: var(--bg-color);\n",
              "    border: none;\n",
              "    border-radius: 50%;\n",
              "    cursor: pointer;\n",
              "    display: none;\n",
              "    fill: var(--fill-color);\n",
              "    height: 32px;\n",
              "    padding: 0;\n",
              "    width: 32px;\n",
              "  }\n",
              "\n",
              "  .colab-df-quickchart:hover {\n",
              "    background-color: var(--hover-bg-color);\n",
              "    box-shadow: 0 1px 2px rgba(60, 64, 67, 0.3), 0 1px 3px 1px rgba(60, 64, 67, 0.15);\n",
              "    fill: var(--button-hover-fill-color);\n",
              "  }\n",
              "\n",
              "  .colab-df-quickchart-complete:disabled,\n",
              "  .colab-df-quickchart-complete:disabled:hover {\n",
              "    background-color: var(--disabled-bg-color);\n",
              "    fill: var(--disabled-fill-color);\n",
              "    box-shadow: none;\n",
              "  }\n",
              "\n",
              "  .colab-df-spinner {\n",
              "    border: 2px solid var(--fill-color);\n",
              "    border-color: transparent;\n",
              "    border-bottom-color: var(--fill-color);\n",
              "    animation:\n",
              "      spin 1s steps(1) infinite;\n",
              "  }\n",
              "\n",
              "  @keyframes spin {\n",
              "    0% {\n",
              "      border-color: transparent;\n",
              "      border-bottom-color: var(--fill-color);\n",
              "      border-left-color: var(--fill-color);\n",
              "    }\n",
              "    20% {\n",
              "      border-color: transparent;\n",
              "      border-left-color: var(--fill-color);\n",
              "      border-top-color: var(--fill-color);\n",
              "    }\n",
              "    30% {\n",
              "      border-color: transparent;\n",
              "      border-left-color: var(--fill-color);\n",
              "      border-top-color: var(--fill-color);\n",
              "      border-right-color: var(--fill-color);\n",
              "    }\n",
              "    40% {\n",
              "      border-color: transparent;\n",
              "      border-right-color: var(--fill-color);\n",
              "      border-top-color: var(--fill-color);\n",
              "    }\n",
              "    60% {\n",
              "      border-color: transparent;\n",
              "      border-right-color: var(--fill-color);\n",
              "    }\n",
              "    80% {\n",
              "      border-color: transparent;\n",
              "      border-right-color: var(--fill-color);\n",
              "      border-bottom-color: var(--fill-color);\n",
              "    }\n",
              "    90% {\n",
              "      border-color: transparent;\n",
              "      border-bottom-color: var(--fill-color);\n",
              "    }\n",
              "  }\n",
              "</style>\n",
              "\n",
              "  <script>\n",
              "    async function quickchart(key) {\n",
              "      const quickchartButtonEl =\n",
              "        document.querySelector('#' + key + ' button');\n",
              "      quickchartButtonEl.disabled = true;  // To prevent multiple clicks.\n",
              "      quickchartButtonEl.classList.add('colab-df-spinner');\n",
              "      try {\n",
              "        const charts = await google.colab.kernel.invokeFunction(\n",
              "            'suggestCharts', [key], {});\n",
              "      } catch (error) {\n",
              "        console.error('Error during call to suggestCharts:', error);\n",
              "      }\n",
              "      quickchartButtonEl.classList.remove('colab-df-spinner');\n",
              "      quickchartButtonEl.classList.add('colab-df-quickchart-complete');\n",
              "    }\n",
              "    (() => {\n",
              "      let quickchartButtonEl =\n",
              "        document.querySelector('#df-7e034c8b-401e-4038-9bdb-62304305b12b button');\n",
              "      quickchartButtonEl.style.display =\n",
              "        google.colab.kernel.accessAllowed ? 'block' : 'none';\n",
              "    })();\n",
              "  </script>\n",
              "</div>\n",
              "    </div>\n",
              "  </div>\n"
            ],
            "application/vnd.google.colaboratory.intrinsic+json": {
              "type": "dataframe",
              "variable_name": "feat_df"
            }
          },
          "metadata": {},
          "execution_count": 14
        }
      ]
    },
    {
      "cell_type": "code",
      "source": [
        "import os\n",
        "\n",
        "api_token = {\"username\":\"_\",\"key\":\"_\"}\n",
        "\n",
        "import json\n",
        "\n",
        "with open('kaggle.json', 'w') as file:\n",
        "  json.dump(api_token, file)\n",
        "\n",
        "!chmod 600 kaggle.json"
      ],
      "metadata": {
        "id": "VmcpdYEy6LCx"
      },
      "execution_count": null,
      "outputs": []
    },
    {
      "cell_type": "code",
      "source": [
        "os.environ[\"KAGGLE_CONFIG_DIR\"] = \"/content\""
      ],
      "metadata": {
        "id": "eDOVI5r_83oC"
      },
      "execution_count": null,
      "outputs": []
    },
    {
      "cell_type": "code",
      "source": [
        "!kaggle datasets download kaggle/meta-kaggle -f UserAchievements.csv"
      ],
      "metadata": {
        "colab": {
          "base_uri": "https://localhost:8080/"
        },
        "id": "_yNabdnXRtMx",
        "outputId": "190f9362-71b3-44a4-e4d7-e5752a9833ea"
      },
      "execution_count": null,
      "outputs": [
        {
          "output_type": "stream",
          "name": "stdout",
          "text": [
            "Downloading UserAchievements.csv.zip to /content\n",
            " 94% 377M/401M [00:04<00:00, 69.2MB/s]\n",
            "100% 401M/401M [00:04<00:00, 91.7MB/s]\n"
          ]
        }
      ]
    },
    {
      "cell_type": "code",
      "source": [
        "!unzip UserAchievements.csv.zip"
      ],
      "metadata": {
        "colab": {
          "base_uri": "https://localhost:8080/"
        },
        "id": "w42KpuRyR0dW",
        "outputId": "0b478e13-f129-4b9b-ef7b-a009b386fd4c"
      },
      "execution_count": null,
      "outputs": [
        {
          "output_type": "stream",
          "name": "stdout",
          "text": [
            "Archive:  UserAchievements.csv.zip\n",
            "  inflating: UserAchievements.csv    \n"
          ]
        }
      ]
    },
    {
      "cell_type": "code",
      "source": [
        "import pandas as pd\n",
        "\n",
        "user_achievements = pd.read_csv('UserAchievements.csv', usecols=['UserId', 'AchievementType', 'Tier', 'TierAchievementDate'])"
      ],
      "metadata": {
        "id": "u9YQzFOPR8cD"
      },
      "execution_count": null,
      "outputs": []
    },
    {
      "cell_type": "code",
      "source": [
        "len(user_achievements)"
      ],
      "metadata": {
        "colab": {
          "base_uri": "https://localhost:8080/"
        },
        "id": "ctBm9zQbUyRO",
        "outputId": "402862bb-9a59-465a-c54e-ccdd5a1d65fd"
      },
      "execution_count": null,
      "outputs": [
        {
          "output_type": "execute_result",
          "data": {
            "text/plain": [
              "71525000"
            ]
          },
          "metadata": {},
          "execution_count": 20
        }
      ]
    },
    {
      "cell_type": "code",
      "source": [
        "user_achievements.sort_values(by=['UserId'], inplace=True)"
      ],
      "metadata": {
        "id": "Q6WrhbkLVsHE"
      },
      "execution_count": null,
      "outputs": []
    },
    {
      "cell_type": "code",
      "source": [
        "user_achievements['UserId'].head(20)"
      ],
      "metadata": {
        "colab": {
          "base_uri": "https://localhost:8080/"
        },
        "id": "yDkmnt0qV7nd",
        "outputId": "76fa9ffc-a90d-45d1-d63e-9b9884f6e1fa"
      },
      "execution_count": null,
      "outputs": [
        {
          "output_type": "execute_result",
          "data": {
            "text/plain": [
              "0             1\n",
              "1026073       1\n",
              "10923747      1\n",
              "900           1\n",
              "10923748    368\n",
              "902         368\n",
              "1           368\n",
              "901         368\n",
              "903         381\n",
              "904         381\n",
              "11455864    381\n",
              "2           381\n",
              "11426705    383\n",
              "1925796     383\n",
              "585593      383\n",
              "3           383\n",
              "1168801     384\n",
              "10924849    384\n",
              "4           384\n",
              "543481      384\n",
              "Name: UserId, dtype: int64"
            ]
          },
          "metadata": {},
          "execution_count": 22
        }
      ]
    },
    {
      "cell_type": "code",
      "source": [
        "!kaggle datasets download kaggle/meta-kaggle -f Kernels.csv"
      ],
      "metadata": {
        "colab": {
          "base_uri": "https://localhost:8080/"
        },
        "id": "a_c_qefg86KN",
        "outputId": "b227f08f-dbf9-405f-f052-48c8970846fb"
      },
      "execution_count": null,
      "outputs": [
        {
          "output_type": "stream",
          "name": "stdout",
          "text": [
            "Downloading Kernels.csv.zip to /content\n",
            " 73% 33.0M/45.4M [00:00<00:00, 67.5MB/s]\n",
            "100% 45.4M/45.4M [00:00<00:00, 78.8MB/s]\n"
          ]
        }
      ]
    },
    {
      "cell_type": "code",
      "source": [
        "!kaggle datasets download kaggle/meta-kaggle -f Users.csv"
      ],
      "metadata": {
        "colab": {
          "base_uri": "https://localhost:8080/"
        },
        "id": "oYD74UbHIC3T",
        "outputId": "8098a2bf-a5bc-49d2-fe48-9cc1b611e188"
      },
      "execution_count": null,
      "outputs": [
        {
          "output_type": "stream",
          "name": "stdout",
          "text": [
            "Downloading Users.csv.zip to /content\n",
            " 96% 290M/301M [00:03<00:00, 76.9MB/s]\n",
            "100% 301M/301M [00:03<00:00, 86.9MB/s]\n"
          ]
        }
      ]
    },
    {
      "cell_type": "code",
      "source": [
        "!unzip Kernels.csv.zip"
      ],
      "metadata": {
        "colab": {
          "base_uri": "https://localhost:8080/"
        },
        "id": "9HjToF8f86PY",
        "outputId": "e60706cf-38ff-4555-fccb-badbe140b2df"
      },
      "execution_count": null,
      "outputs": [
        {
          "output_type": "stream",
          "name": "stdout",
          "text": [
            "Archive:  Kernels.csv.zip\n",
            "  inflating: Kernels.csv             \n"
          ]
        }
      ]
    },
    {
      "cell_type": "code",
      "source": [
        "!unzip Users.csv.zip"
      ],
      "metadata": {
        "colab": {
          "base_uri": "https://localhost:8080/"
        },
        "id": "2G8OhGI-IFmb",
        "outputId": "0ca319d8-cc1e-4486-bdea-457167a47db0"
      },
      "execution_count": null,
      "outputs": [
        {
          "output_type": "stream",
          "name": "stdout",
          "text": [
            "Archive:  Users.csv.zip\n",
            "  inflating: Users.csv               \n"
          ]
        }
      ]
    },
    {
      "cell_type": "code",
      "source": [
        "kernels = pd.read_csv('Kernels.csv')"
      ],
      "metadata": {
        "id": "ELL4oeJ186Tl"
      },
      "execution_count": null,
      "outputs": []
    },
    {
      "cell_type": "code",
      "source": [
        "users = pd.read_csv('Users.csv')"
      ],
      "metadata": {
        "id": "m2u0sXfPH-eU"
      },
      "execution_count": null,
      "outputs": []
    },
    {
      "cell_type": "code",
      "source": [
        "kernels_with_username = pd.merge(kernels, users[['Id', 'UserName', 'PerformanceTier', ]].rename(columns={'Id': 'AuthorUserId'}), on='AuthorUserId', how='inner')"
      ],
      "metadata": {
        "id": "BrTlXpftILpl"
      },
      "execution_count": null,
      "outputs": []
    },
    {
      "cell_type": "code",
      "source": [
        "all_kernels = pd.merge(feat_df, kernels_with_username[['Id', 'TotalVotes', 'TotalViews', 'CurrentUrlSlug', 'UserName', 'PerformanceTier' ]].rename(columns={'Id': 'kernel_id'}), on='kernel_id', how='inner')"
      ],
      "metadata": {
        "id": "YaS_z2Jt97tT"
      },
      "execution_count": null,
      "outputs": []
    },
    {
      "cell_type": "code",
      "source": [
        "all_kernels = all_kernels[['kernel_id', 'TotalVotes', 'TotalViews', 'CurrentUrlSlug', 'UserName', 'PerformanceTier', ]]"
      ],
      "metadata": {
        "id": "XALe-HtbBIL6"
      },
      "execution_count": null,
      "outputs": []
    },
    {
      "cell_type": "markdown",
      "source": [
        "#### Download comments"
      ],
      "metadata": {
        "id": "pvepLU5Z0S_V"
      }
    },
    {
      "cell_type": "code",
      "execution_count": null,
      "metadata": {
        "colab": {
          "base_uri": "https://localhost:8080/"
        },
        "id": "wEfT9WwM4u6d",
        "outputId": "43a32c84-413d-423f-91ce-b98a74006784"
      },
      "outputs": [
        {
          "output_type": "stream",
          "name": "stdout",
          "text": [
            "Downloading...\n",
            "From: https://drive.google.com/uc?id=1X7A-qqaMhgWHe5KZd_jrHFtCttHdwpZS\n",
            "To: /content/comments_by_votes.csv\n",
            "100% 30.9M/30.9M [00:00<00:00, 77.6MB/s]\n"
          ]
        }
      ],
      "source": [
        "!gdown 1X7A-qqaMhgWHe5KZd_jrHFtCttHdwpZS"
      ]
    },
    {
      "cell_type": "code",
      "execution_count": null,
      "metadata": {
        "id": "-zoxcheb4wnM"
      },
      "outputs": [],
      "source": [
        "import pandas as pd\n",
        "\n",
        "comments = pd.read_csv('comments_by_votes.csv') # comments_no_ad"
      ]
    },
    {
      "cell_type": "code",
      "execution_count": null,
      "metadata": {
        "colab": {
          "base_uri": "https://localhost:8080/",
          "height": 313
        },
        "id": "LdmRVK4mTwl3",
        "outputId": "d458823d-9977-46ff-d94a-de9208f059a0"
      },
      "outputs": [
        {
          "output_type": "execute_result",
          "data": {
            "text/plain": [
              "   CommentId  PostUserId  KernelId  AuthorUserId    UserName  \\\n",
              "0      80401      195039      4811         28963  datacanary   \n",
              "1      80882      195039      5111          2505   jeffmoser   \n",
              "2      80900      195039      5111          2505   jeffmoser   \n",
              "3      80920      195039      5111          2505   jeffmoser   \n",
              "4      80946      195039      5111          2505   jeffmoser   \n",
              "\n",
              "                     CurrentUrlSlug  TotalViews  TotalVotes  \\\n",
              "0           hello-this-is-my-script          31           0   \n",
              "1  testing-out-non-inline-rmarkdown         115           0   \n",
              "2  testing-out-non-inline-rmarkdown         115           0   \n",
              "3  testing-out-non-inline-rmarkdown         115           0   \n",
              "4  testing-out-non-inline-rmarkdown         115           0   \n",
              "\n",
              "   PerformanceTier_kerneluser  PerformanceTier_commentuser  bert_score  \\\n",
              "0                           2                            5           0   \n",
              "1                           5                            5           0   \n",
              "2                           5                            5           0   \n",
              "3                           5                            5           0   \n",
              "4                           5                            5           0   \n",
              "\n",
              "   CommentVote  \n",
              "0          0.0  \n",
              "1          0.0  \n",
              "2          0.0  \n",
              "3          0.0  \n",
              "4          0.0  "
            ],
            "text/html": [
              "\n",
              "  <div id=\"df-d4449acc-4f8e-4d86-b203-a978807c9b96\" class=\"colab-df-container\">\n",
              "    <div>\n",
              "<style scoped>\n",
              "    .dataframe tbody tr th:only-of-type {\n",
              "        vertical-align: middle;\n",
              "    }\n",
              "\n",
              "    .dataframe tbody tr th {\n",
              "        vertical-align: top;\n",
              "    }\n",
              "\n",
              "    .dataframe thead th {\n",
              "        text-align: right;\n",
              "    }\n",
              "</style>\n",
              "<table border=\"1\" class=\"dataframe\">\n",
              "  <thead>\n",
              "    <tr style=\"text-align: right;\">\n",
              "      <th></th>\n",
              "      <th>CommentId</th>\n",
              "      <th>PostUserId</th>\n",
              "      <th>KernelId</th>\n",
              "      <th>AuthorUserId</th>\n",
              "      <th>UserName</th>\n",
              "      <th>CurrentUrlSlug</th>\n",
              "      <th>TotalViews</th>\n",
              "      <th>TotalVotes</th>\n",
              "      <th>PerformanceTier_kerneluser</th>\n",
              "      <th>PerformanceTier_commentuser</th>\n",
              "      <th>bert_score</th>\n",
              "      <th>CommentVote</th>\n",
              "    </tr>\n",
              "  </thead>\n",
              "  <tbody>\n",
              "    <tr>\n",
              "      <th>0</th>\n",
              "      <td>80401</td>\n",
              "      <td>195039</td>\n",
              "      <td>4811</td>\n",
              "      <td>28963</td>\n",
              "      <td>datacanary</td>\n",
              "      <td>hello-this-is-my-script</td>\n",
              "      <td>31</td>\n",
              "      <td>0</td>\n",
              "      <td>2</td>\n",
              "      <td>5</td>\n",
              "      <td>0</td>\n",
              "      <td>0.0</td>\n",
              "    </tr>\n",
              "    <tr>\n",
              "      <th>1</th>\n",
              "      <td>80882</td>\n",
              "      <td>195039</td>\n",
              "      <td>5111</td>\n",
              "      <td>2505</td>\n",
              "      <td>jeffmoser</td>\n",
              "      <td>testing-out-non-inline-rmarkdown</td>\n",
              "      <td>115</td>\n",
              "      <td>0</td>\n",
              "      <td>5</td>\n",
              "      <td>5</td>\n",
              "      <td>0</td>\n",
              "      <td>0.0</td>\n",
              "    </tr>\n",
              "    <tr>\n",
              "      <th>2</th>\n",
              "      <td>80900</td>\n",
              "      <td>195039</td>\n",
              "      <td>5111</td>\n",
              "      <td>2505</td>\n",
              "      <td>jeffmoser</td>\n",
              "      <td>testing-out-non-inline-rmarkdown</td>\n",
              "      <td>115</td>\n",
              "      <td>0</td>\n",
              "      <td>5</td>\n",
              "      <td>5</td>\n",
              "      <td>0</td>\n",
              "      <td>0.0</td>\n",
              "    </tr>\n",
              "    <tr>\n",
              "      <th>3</th>\n",
              "      <td>80920</td>\n",
              "      <td>195039</td>\n",
              "      <td>5111</td>\n",
              "      <td>2505</td>\n",
              "      <td>jeffmoser</td>\n",
              "      <td>testing-out-non-inline-rmarkdown</td>\n",
              "      <td>115</td>\n",
              "      <td>0</td>\n",
              "      <td>5</td>\n",
              "      <td>5</td>\n",
              "      <td>0</td>\n",
              "      <td>0.0</td>\n",
              "    </tr>\n",
              "    <tr>\n",
              "      <th>4</th>\n",
              "      <td>80946</td>\n",
              "      <td>195039</td>\n",
              "      <td>5111</td>\n",
              "      <td>2505</td>\n",
              "      <td>jeffmoser</td>\n",
              "      <td>testing-out-non-inline-rmarkdown</td>\n",
              "      <td>115</td>\n",
              "      <td>0</td>\n",
              "      <td>5</td>\n",
              "      <td>5</td>\n",
              "      <td>0</td>\n",
              "      <td>0.0</td>\n",
              "    </tr>\n",
              "  </tbody>\n",
              "</table>\n",
              "</div>\n",
              "    <div class=\"colab-df-buttons\">\n",
              "\n",
              "  <div class=\"colab-df-container\">\n",
              "    <button class=\"colab-df-convert\" onclick=\"convertToInteractive('df-d4449acc-4f8e-4d86-b203-a978807c9b96')\"\n",
              "            title=\"Convert this dataframe to an interactive table.\"\n",
              "            style=\"display:none;\">\n",
              "\n",
              "  <svg xmlns=\"http://www.w3.org/2000/svg\" height=\"24px\" viewBox=\"0 -960 960 960\">\n",
              "    <path d=\"M120-120v-720h720v720H120Zm60-500h600v-160H180v160Zm220 220h160v-160H400v160Zm0 220h160v-160H400v160ZM180-400h160v-160H180v160Zm440 0h160v-160H620v160ZM180-180h160v-160H180v160Zm440 0h160v-160H620v160Z\"/>\n",
              "  </svg>\n",
              "    </button>\n",
              "\n",
              "  <style>\n",
              "    .colab-df-container {\n",
              "      display:flex;\n",
              "      gap: 12px;\n",
              "    }\n",
              "\n",
              "    .colab-df-convert {\n",
              "      background-color: #E8F0FE;\n",
              "      border: none;\n",
              "      border-radius: 50%;\n",
              "      cursor: pointer;\n",
              "      display: none;\n",
              "      fill: #1967D2;\n",
              "      height: 32px;\n",
              "      padding: 0 0 0 0;\n",
              "      width: 32px;\n",
              "    }\n",
              "\n",
              "    .colab-df-convert:hover {\n",
              "      background-color: #E2EBFA;\n",
              "      box-shadow: 0px 1px 2px rgba(60, 64, 67, 0.3), 0px 1px 3px 1px rgba(60, 64, 67, 0.15);\n",
              "      fill: #174EA6;\n",
              "    }\n",
              "\n",
              "    .colab-df-buttons div {\n",
              "      margin-bottom: 4px;\n",
              "    }\n",
              "\n",
              "    [theme=dark] .colab-df-convert {\n",
              "      background-color: #3B4455;\n",
              "      fill: #D2E3FC;\n",
              "    }\n",
              "\n",
              "    [theme=dark] .colab-df-convert:hover {\n",
              "      background-color: #434B5C;\n",
              "      box-shadow: 0px 1px 3px 1px rgba(0, 0, 0, 0.15);\n",
              "      filter: drop-shadow(0px 1px 2px rgba(0, 0, 0, 0.3));\n",
              "      fill: #FFFFFF;\n",
              "    }\n",
              "  </style>\n",
              "\n",
              "    <script>\n",
              "      const buttonEl =\n",
              "        document.querySelector('#df-d4449acc-4f8e-4d86-b203-a978807c9b96 button.colab-df-convert');\n",
              "      buttonEl.style.display =\n",
              "        google.colab.kernel.accessAllowed ? 'block' : 'none';\n",
              "\n",
              "      async function convertToInteractive(key) {\n",
              "        const element = document.querySelector('#df-d4449acc-4f8e-4d86-b203-a978807c9b96');\n",
              "        const dataTable =\n",
              "          await google.colab.kernel.invokeFunction('convertToInteractive',\n",
              "                                                    [key], {});\n",
              "        if (!dataTable) return;\n",
              "\n",
              "        const docLinkHtml = 'Like what you see? Visit the ' +\n",
              "          '<a target=\"_blank\" href=https://colab.research.google.com/notebooks/data_table.ipynb>data table notebook</a>'\n",
              "          + ' to learn more about interactive tables.';\n",
              "        element.innerHTML = '';\n",
              "        dataTable['output_type'] = 'display_data';\n",
              "        await google.colab.output.renderOutput(dataTable, element);\n",
              "        const docLink = document.createElement('div');\n",
              "        docLink.innerHTML = docLinkHtml;\n",
              "        element.appendChild(docLink);\n",
              "      }\n",
              "    </script>\n",
              "  </div>\n",
              "\n",
              "\n",
              "<div id=\"df-43e7a677-684a-4556-a5b8-da9a1ba43088\">\n",
              "  <button class=\"colab-df-quickchart\" onclick=\"quickchart('df-43e7a677-684a-4556-a5b8-da9a1ba43088')\"\n",
              "            title=\"Suggest charts\"\n",
              "            style=\"display:none;\">\n",
              "\n",
              "<svg xmlns=\"http://www.w3.org/2000/svg\" height=\"24px\"viewBox=\"0 0 24 24\"\n",
              "     width=\"24px\">\n",
              "    <g>\n",
              "        <path d=\"M19 3H5c-1.1 0-2 .9-2 2v14c0 1.1.9 2 2 2h14c1.1 0 2-.9 2-2V5c0-1.1-.9-2-2-2zM9 17H7v-7h2v7zm4 0h-2V7h2v10zm4 0h-2v-4h2v4z\"/>\n",
              "    </g>\n",
              "</svg>\n",
              "  </button>\n",
              "\n",
              "<style>\n",
              "  .colab-df-quickchart {\n",
              "      --bg-color: #E8F0FE;\n",
              "      --fill-color: #1967D2;\n",
              "      --hover-bg-color: #E2EBFA;\n",
              "      --hover-fill-color: #174EA6;\n",
              "      --disabled-fill-color: #AAA;\n",
              "      --disabled-bg-color: #DDD;\n",
              "  }\n",
              "\n",
              "  [theme=dark] .colab-df-quickchart {\n",
              "      --bg-color: #3B4455;\n",
              "      --fill-color: #D2E3FC;\n",
              "      --hover-bg-color: #434B5C;\n",
              "      --hover-fill-color: #FFFFFF;\n",
              "      --disabled-bg-color: #3B4455;\n",
              "      --disabled-fill-color: #666;\n",
              "  }\n",
              "\n",
              "  .colab-df-quickchart {\n",
              "    background-color: var(--bg-color);\n",
              "    border: none;\n",
              "    border-radius: 50%;\n",
              "    cursor: pointer;\n",
              "    display: none;\n",
              "    fill: var(--fill-color);\n",
              "    height: 32px;\n",
              "    padding: 0;\n",
              "    width: 32px;\n",
              "  }\n",
              "\n",
              "  .colab-df-quickchart:hover {\n",
              "    background-color: var(--hover-bg-color);\n",
              "    box-shadow: 0 1px 2px rgba(60, 64, 67, 0.3), 0 1px 3px 1px rgba(60, 64, 67, 0.15);\n",
              "    fill: var(--button-hover-fill-color);\n",
              "  }\n",
              "\n",
              "  .colab-df-quickchart-complete:disabled,\n",
              "  .colab-df-quickchart-complete:disabled:hover {\n",
              "    background-color: var(--disabled-bg-color);\n",
              "    fill: var(--disabled-fill-color);\n",
              "    box-shadow: none;\n",
              "  }\n",
              "\n",
              "  .colab-df-spinner {\n",
              "    border: 2px solid var(--fill-color);\n",
              "    border-color: transparent;\n",
              "    border-bottom-color: var(--fill-color);\n",
              "    animation:\n",
              "      spin 1s steps(1) infinite;\n",
              "  }\n",
              "\n",
              "  @keyframes spin {\n",
              "    0% {\n",
              "      border-color: transparent;\n",
              "      border-bottom-color: var(--fill-color);\n",
              "      border-left-color: var(--fill-color);\n",
              "    }\n",
              "    20% {\n",
              "      border-color: transparent;\n",
              "      border-left-color: var(--fill-color);\n",
              "      border-top-color: var(--fill-color);\n",
              "    }\n",
              "    30% {\n",
              "      border-color: transparent;\n",
              "      border-left-color: var(--fill-color);\n",
              "      border-top-color: var(--fill-color);\n",
              "      border-right-color: var(--fill-color);\n",
              "    }\n",
              "    40% {\n",
              "      border-color: transparent;\n",
              "      border-right-color: var(--fill-color);\n",
              "      border-top-color: var(--fill-color);\n",
              "    }\n",
              "    60% {\n",
              "      border-color: transparent;\n",
              "      border-right-color: var(--fill-color);\n",
              "    }\n",
              "    80% {\n",
              "      border-color: transparent;\n",
              "      border-right-color: var(--fill-color);\n",
              "      border-bottom-color: var(--fill-color);\n",
              "    }\n",
              "    90% {\n",
              "      border-color: transparent;\n",
              "      border-bottom-color: var(--fill-color);\n",
              "    }\n",
              "  }\n",
              "</style>\n",
              "\n",
              "  <script>\n",
              "    async function quickchart(key) {\n",
              "      const quickchartButtonEl =\n",
              "        document.querySelector('#' + key + ' button');\n",
              "      quickchartButtonEl.disabled = true;  // To prevent multiple clicks.\n",
              "      quickchartButtonEl.classList.add('colab-df-spinner');\n",
              "      try {\n",
              "        const charts = await google.colab.kernel.invokeFunction(\n",
              "            'suggestCharts', [key], {});\n",
              "      } catch (error) {\n",
              "        console.error('Error during call to suggestCharts:', error);\n",
              "      }\n",
              "      quickchartButtonEl.classList.remove('colab-df-spinner');\n",
              "      quickchartButtonEl.classList.add('colab-df-quickchart-complete');\n",
              "    }\n",
              "    (() => {\n",
              "      let quickchartButtonEl =\n",
              "        document.querySelector('#df-43e7a677-684a-4556-a5b8-da9a1ba43088 button');\n",
              "      quickchartButtonEl.style.display =\n",
              "        google.colab.kernel.accessAllowed ? 'block' : 'none';\n",
              "    })();\n",
              "  </script>\n",
              "</div>\n",
              "    </div>\n",
              "  </div>\n"
            ],
            "application/vnd.google.colaboratory.intrinsic+json": {
              "type": "dataframe",
              "variable_name": "comments"
            }
          },
          "metadata": {},
          "execution_count": 4
        }
      ],
      "source": [
        "comments.head()"
      ]
    },
    {
      "cell_type": "code",
      "execution_count": null,
      "metadata": {
        "id": "GPHCGNuEU2gq"
      },
      "outputs": [],
      "source": [
        "kernel_quality = comments.groupby(by=['KernelId','AuthorUserId','UserName', 'CurrentUrlSlug', 'TotalViews', 'TotalVotes',\n",
        "                      'PerformanceTier_kerneluser']).sum().reset_index()"
      ]
    },
    {
      "cell_type": "code",
      "source": [
        "kernel_quality.drop(columns=['CommentId'], inplace=True)"
      ],
      "metadata": {
        "id": "ZKfPnd9ONGfr"
      },
      "execution_count": null,
      "outputs": []
    },
    {
      "cell_type": "code",
      "execution_count": null,
      "metadata": {
        "id": "AS0h3A5AUWGo"
      },
      "outputs": [],
      "source": [
        "# kernel_quality.drop(columns=['PerformanceTier_kerneluser','CommentId'], inplace=True)"
      ]
    },
    {
      "cell_type": "code",
      "execution_count": null,
      "metadata": {
        "id": "oLjPc5a4buiA"
      },
      "outputs": [],
      "source": [
        "# kq = kernel_quality.sort_values(by=['TotalVotes', 'TotalViews'], ascending=[True, False])\n",
        "# first_500 = kq.head(500)\n",
        "# last_500 = kq.tail(500)\n",
        "\n",
        "# new_df = pd.concat([first_500, last_500], ignore_index=True)\n",
        "# new_df.to_csv('1000_notebook_for_CodeBERT_finetune.csv', index=False)"
      ]
    },
    {
      "cell_type": "code",
      "execution_count": null,
      "metadata": {
        "id": "89WXWPDkhq5N"
      },
      "outputs": [],
      "source": [
        "import numpy as np\n",
        "\n",
        "kernel_quality['pure_topic_score'] = kernel_quality['bert_score'] * (kernel_quality['CommentVote'] + 1)\n",
        "kernel_quality['topic_score'] = (kernel_quality['bert_score'] * (kernel_quality['CommentVote'] + 1) + 10 ) / np.sqrt(kernel_quality['TotalViews'])"
      ]
    },
    {
      "cell_type": "code",
      "source": [
        "augmented_kernel_quality = pd.merge(kernel_quality, all_kernels.rename(columns={'kernel_id': 'KernelId'}), on='KernelId', how='outer')"
      ],
      "metadata": {
        "id": "KrDxqB4IBRhw"
      },
      "execution_count": null,
      "outputs": []
    },
    {
      "cell_type": "code",
      "source": [
        "import math\n",
        "\n",
        "augmented_kernel_quality['topic_score'] = augmented_kernel_quality.apply(lambda x: (10 / np.sqrt(x['TotalViews_y']))  if math.isnan(x['topic_score'])  else x['topic_score'], axis=1)"
      ],
      "metadata": {
        "colab": {
          "base_uri": "https://localhost:8080/"
        },
        "id": "geIN4E8DCd8h",
        "outputId": "f104fb41-486b-4034-9242-eeb2829c1e2e"
      },
      "execution_count": null,
      "outputs": [
        {
          "output_type": "stream",
          "name": "stderr",
          "text": [
            "<ipython-input-34-9b355f5f1e78>:3: RuntimeWarning: divide by zero encountered in scalar divide\n",
            "  augmented_kernel_quality['topic_score'] = augmented_kernel_quality.apply(lambda x: (10 / np.sqrt(x['TotalViews_y']))  if math.isnan(x['topic_score'])  else x['topic_score'], axis=1)\n"
          ]
        }
      ]
    },
    {
      "cell_type": "code",
      "source": [
        "augmented_kernel_quality['TotalViews'] = augmented_kernel_quality.apply(lambda x: x['TotalViews_x']  if math.isnan(x['TotalViews_y']) else x['TotalViews_y'], axis=1)"
      ],
      "metadata": {
        "id": "hkUbsI5zPk_F"
      },
      "execution_count": null,
      "outputs": []
    },
    {
      "cell_type": "code",
      "source": [
        "augmented_kernel_quality['UserName'] = augmented_kernel_quality.apply(lambda x: x['UserName_x']  if pd.isnull(x['UserName_y']) else x['UserName_y'], axis=1)"
      ],
      "metadata": {
        "id": "qECYbBPpGVoi"
      },
      "execution_count": null,
      "outputs": []
    },
    {
      "cell_type": "code",
      "source": [
        "augmented_kernel_quality['TotalVotes'] = augmented_kernel_quality.apply(lambda x: x['TotalVotes_x']  if math.isnan(x['TotalVotes_y']) else x['TotalVotes_y'], axis=1)"
      ],
      "metadata": {
        "id": "0UysCZj4Fv2S"
      },
      "execution_count": null,
      "outputs": []
    },
    {
      "cell_type": "code",
      "source": [
        "augmented_kernel_quality['CurrentUrlSlug'] = augmented_kernel_quality.apply(lambda x: x['CurrentUrlSlug_x']  if pd.isnull(x['CurrentUrlSlug_y']) else x['CurrentUrlSlug_y'], axis=1)"
      ],
      "metadata": {
        "id": "qtlYNIM_MP06"
      },
      "execution_count": null,
      "outputs": []
    },
    {
      "cell_type": "code",
      "source": [
        "augmented_kernel_quality['PerformanceTier_kerneluser'] = augmented_kernel_quality.apply(lambda x: x['PerformanceTier_kerneluser']  if pd.isnull(x['PerformanceTier']) else x['PerformanceTier'], axis=1)"
      ],
      "metadata": {
        "id": "NaAtad7ZMlOk"
      },
      "execution_count": null,
      "outputs": []
    },
    {
      "cell_type": "code",
      "source": [
        "augmented_kernel_quality.drop(['TotalViews_x', 'TotalViews_y', 'TotalVotes_x', 'TotalVotes_y', 'CurrentUrlSlug_x', 'CurrentUrlSlug_y', 'UserName_x', 'UserName_y', 'PerformanceTier'], inplace=True, axis=1)"
      ],
      "metadata": {
        "id": "_qLEOUxqGS3f"
      },
      "execution_count": null,
      "outputs": []
    },
    {
      "cell_type": "code",
      "source": [
        "augmented_kernel_quality"
      ],
      "metadata": {
        "colab": {
          "base_uri": "https://localhost:8080/",
          "height": 669
        },
        "id": "91SlCmP3FnEH",
        "outputId": "18578b4b-2d6d-4f98-c37b-e2bf23b9c272"
      },
      "execution_count": null,
      "outputs": [
        {
          "output_type": "execute_result",
          "data": {
            "text/plain": [
              "        KernelId  AuthorUserId  PerformanceTier_kerneluser  PostUserId  \\\n",
              "0              2        3716.0                         2.0    836085.0   \n",
              "1             14         993.0                         5.0    378544.0   \n",
              "2             15         993.0                         5.0   3062474.0   \n",
              "3             17         993.0                         5.0   1295396.0   \n",
              "4             21         993.0                         5.0   9760541.0   \n",
              "...          ...           ...                         ...         ...   \n",
              "518362   9970903           NaN                         2.0         NaN   \n",
              "518363   9991246           NaN                         0.0         NaN   \n",
              "518364   9995660           NaN                         2.0         NaN   \n",
              "518365   9996831           NaN                         1.0         NaN   \n",
              "518366   9998547           NaN                         1.0         NaN   \n",
              "\n",
              "        PerformanceTier_commentuser  bert_score  CommentVote  \\\n",
              "0                               0.0         0.0          0.0   \n",
              "1                               5.0         1.0          4.0   \n",
              "2                               3.0         0.0         16.0   \n",
              "3                               2.0         0.0          0.0   \n",
              "4                              13.0         4.0         33.0   \n",
              "...                             ...         ...          ...   \n",
              "518362                          NaN         NaN          NaN   \n",
              "518363                          NaN         NaN          NaN   \n",
              "518364                          NaN         NaN          NaN   \n",
              "518365                          NaN         NaN          NaN   \n",
              "518366                          NaN         NaN          NaN   \n",
              "\n",
              "        pure_topic_score  topic_score  TotalViews         UserName  \\\n",
              "0                    0.0     0.107002      8734.0           dchudz   \n",
              "1                    5.0     0.143032     10998.0        benhamner   \n",
              "2                    0.0     0.055199     32820.0        benhamner   \n",
              "3                    0.0     0.095647     10931.0        benhamner   \n",
              "4                  136.0     0.604598     58314.0        benhamner   \n",
              "...                  ...          ...         ...              ...   \n",
              "518362               NaN     0.324785       948.0       bhavesjain   \n",
              "518363               NaN     0.677285       218.0      evketakrmak   \n",
              "518364               NaN     0.803219       155.0      cosmosankur   \n",
              "518365               NaN     0.527780       359.0  stephenofarrell   \n",
              "518366               NaN     0.860663       135.0    prakashmewari   \n",
              "\n",
              "        TotalVotes                                   CurrentUrlSlug  \n",
              "0             13.0                                     rf-proximity  \n",
              "1             11.0                             installed-r-packages  \n",
              "2             42.0                       example-handwritten-digits  \n",
              "3              8.0                pixel-mean-and-variances-by-digit  \n",
              "4             98.0                        random-forest-benchmark-1  \n",
              "...            ...                                              ...  \n",
              "518362         3.0                              modanet-maskrcnn-10  \n",
              "518363         2.0                      sevket-akirmak-makine-final  \n",
              "518364         2.0  keras-code-with-95-percent-accuracy-on-ad-click  \n",
              "518365         3.0           identifying-patterns-in-lol-level-ones  \n",
              "518366         4.0        exploratory-data-analysis-in-iris-dataset  \n",
              "\n",
              "[518367 rows x 13 columns]"
            ],
            "text/html": [
              "\n",
              "  <div id=\"df-bee64c66-0800-4e46-b3c1-c8062323dfd6\" class=\"colab-df-container\">\n",
              "    <div>\n",
              "<style scoped>\n",
              "    .dataframe tbody tr th:only-of-type {\n",
              "        vertical-align: middle;\n",
              "    }\n",
              "\n",
              "    .dataframe tbody tr th {\n",
              "        vertical-align: top;\n",
              "    }\n",
              "\n",
              "    .dataframe thead th {\n",
              "        text-align: right;\n",
              "    }\n",
              "</style>\n",
              "<table border=\"1\" class=\"dataframe\">\n",
              "  <thead>\n",
              "    <tr style=\"text-align: right;\">\n",
              "      <th></th>\n",
              "      <th>KernelId</th>\n",
              "      <th>AuthorUserId</th>\n",
              "      <th>PerformanceTier_kerneluser</th>\n",
              "      <th>PostUserId</th>\n",
              "      <th>PerformanceTier_commentuser</th>\n",
              "      <th>bert_score</th>\n",
              "      <th>CommentVote</th>\n",
              "      <th>pure_topic_score</th>\n",
              "      <th>topic_score</th>\n",
              "      <th>TotalViews</th>\n",
              "      <th>UserName</th>\n",
              "      <th>TotalVotes</th>\n",
              "      <th>CurrentUrlSlug</th>\n",
              "    </tr>\n",
              "  </thead>\n",
              "  <tbody>\n",
              "    <tr>\n",
              "      <th>0</th>\n",
              "      <td>2</td>\n",
              "      <td>3716.0</td>\n",
              "      <td>2.0</td>\n",
              "      <td>836085.0</td>\n",
              "      <td>0.0</td>\n",
              "      <td>0.0</td>\n",
              "      <td>0.0</td>\n",
              "      <td>0.0</td>\n",
              "      <td>0.107002</td>\n",
              "      <td>8734.0</td>\n",
              "      <td>dchudz</td>\n",
              "      <td>13.0</td>\n",
              "      <td>rf-proximity</td>\n",
              "    </tr>\n",
              "    <tr>\n",
              "      <th>1</th>\n",
              "      <td>14</td>\n",
              "      <td>993.0</td>\n",
              "      <td>5.0</td>\n",
              "      <td>378544.0</td>\n",
              "      <td>5.0</td>\n",
              "      <td>1.0</td>\n",
              "      <td>4.0</td>\n",
              "      <td>5.0</td>\n",
              "      <td>0.143032</td>\n",
              "      <td>10998.0</td>\n",
              "      <td>benhamner</td>\n",
              "      <td>11.0</td>\n",
              "      <td>installed-r-packages</td>\n",
              "    </tr>\n",
              "    <tr>\n",
              "      <th>2</th>\n",
              "      <td>15</td>\n",
              "      <td>993.0</td>\n",
              "      <td>5.0</td>\n",
              "      <td>3062474.0</td>\n",
              "      <td>3.0</td>\n",
              "      <td>0.0</td>\n",
              "      <td>16.0</td>\n",
              "      <td>0.0</td>\n",
              "      <td>0.055199</td>\n",
              "      <td>32820.0</td>\n",
              "      <td>benhamner</td>\n",
              "      <td>42.0</td>\n",
              "      <td>example-handwritten-digits</td>\n",
              "    </tr>\n",
              "    <tr>\n",
              "      <th>3</th>\n",
              "      <td>17</td>\n",
              "      <td>993.0</td>\n",
              "      <td>5.0</td>\n",
              "      <td>1295396.0</td>\n",
              "      <td>2.0</td>\n",
              "      <td>0.0</td>\n",
              "      <td>0.0</td>\n",
              "      <td>0.0</td>\n",
              "      <td>0.095647</td>\n",
              "      <td>10931.0</td>\n",
              "      <td>benhamner</td>\n",
              "      <td>8.0</td>\n",
              "      <td>pixel-mean-and-variances-by-digit</td>\n",
              "    </tr>\n",
              "    <tr>\n",
              "      <th>4</th>\n",
              "      <td>21</td>\n",
              "      <td>993.0</td>\n",
              "      <td>5.0</td>\n",
              "      <td>9760541.0</td>\n",
              "      <td>13.0</td>\n",
              "      <td>4.0</td>\n",
              "      <td>33.0</td>\n",
              "      <td>136.0</td>\n",
              "      <td>0.604598</td>\n",
              "      <td>58314.0</td>\n",
              "      <td>benhamner</td>\n",
              "      <td>98.0</td>\n",
              "      <td>random-forest-benchmark-1</td>\n",
              "    </tr>\n",
              "    <tr>\n",
              "      <th>...</th>\n",
              "      <td>...</td>\n",
              "      <td>...</td>\n",
              "      <td>...</td>\n",
              "      <td>...</td>\n",
              "      <td>...</td>\n",
              "      <td>...</td>\n",
              "      <td>...</td>\n",
              "      <td>...</td>\n",
              "      <td>...</td>\n",
              "      <td>...</td>\n",
              "      <td>...</td>\n",
              "      <td>...</td>\n",
              "      <td>...</td>\n",
              "    </tr>\n",
              "    <tr>\n",
              "      <th>518362</th>\n",
              "      <td>9970903</td>\n",
              "      <td>NaN</td>\n",
              "      <td>2.0</td>\n",
              "      <td>NaN</td>\n",
              "      <td>NaN</td>\n",
              "      <td>NaN</td>\n",
              "      <td>NaN</td>\n",
              "      <td>NaN</td>\n",
              "      <td>0.324785</td>\n",
              "      <td>948.0</td>\n",
              "      <td>bhavesjain</td>\n",
              "      <td>3.0</td>\n",
              "      <td>modanet-maskrcnn-10</td>\n",
              "    </tr>\n",
              "    <tr>\n",
              "      <th>518363</th>\n",
              "      <td>9991246</td>\n",
              "      <td>NaN</td>\n",
              "      <td>0.0</td>\n",
              "      <td>NaN</td>\n",
              "      <td>NaN</td>\n",
              "      <td>NaN</td>\n",
              "      <td>NaN</td>\n",
              "      <td>NaN</td>\n",
              "      <td>0.677285</td>\n",
              "      <td>218.0</td>\n",
              "      <td>evketakrmak</td>\n",
              "      <td>2.0</td>\n",
              "      <td>sevket-akirmak-makine-final</td>\n",
              "    </tr>\n",
              "    <tr>\n",
              "      <th>518364</th>\n",
              "      <td>9995660</td>\n",
              "      <td>NaN</td>\n",
              "      <td>2.0</td>\n",
              "      <td>NaN</td>\n",
              "      <td>NaN</td>\n",
              "      <td>NaN</td>\n",
              "      <td>NaN</td>\n",
              "      <td>NaN</td>\n",
              "      <td>0.803219</td>\n",
              "      <td>155.0</td>\n",
              "      <td>cosmosankur</td>\n",
              "      <td>2.0</td>\n",
              "      <td>keras-code-with-95-percent-accuracy-on-ad-click</td>\n",
              "    </tr>\n",
              "    <tr>\n",
              "      <th>518365</th>\n",
              "      <td>9996831</td>\n",
              "      <td>NaN</td>\n",
              "      <td>1.0</td>\n",
              "      <td>NaN</td>\n",
              "      <td>NaN</td>\n",
              "      <td>NaN</td>\n",
              "      <td>NaN</td>\n",
              "      <td>NaN</td>\n",
              "      <td>0.527780</td>\n",
              "      <td>359.0</td>\n",
              "      <td>stephenofarrell</td>\n",
              "      <td>3.0</td>\n",
              "      <td>identifying-patterns-in-lol-level-ones</td>\n",
              "    </tr>\n",
              "    <tr>\n",
              "      <th>518366</th>\n",
              "      <td>9998547</td>\n",
              "      <td>NaN</td>\n",
              "      <td>1.0</td>\n",
              "      <td>NaN</td>\n",
              "      <td>NaN</td>\n",
              "      <td>NaN</td>\n",
              "      <td>NaN</td>\n",
              "      <td>NaN</td>\n",
              "      <td>0.860663</td>\n",
              "      <td>135.0</td>\n",
              "      <td>prakashmewari</td>\n",
              "      <td>4.0</td>\n",
              "      <td>exploratory-data-analysis-in-iris-dataset</td>\n",
              "    </tr>\n",
              "  </tbody>\n",
              "</table>\n",
              "<p>518367 rows × 13 columns</p>\n",
              "</div>\n",
              "    <div class=\"colab-df-buttons\">\n",
              "\n",
              "  <div class=\"colab-df-container\">\n",
              "    <button class=\"colab-df-convert\" onclick=\"convertToInteractive('df-bee64c66-0800-4e46-b3c1-c8062323dfd6')\"\n",
              "            title=\"Convert this dataframe to an interactive table.\"\n",
              "            style=\"display:none;\">\n",
              "\n",
              "  <svg xmlns=\"http://www.w3.org/2000/svg\" height=\"24px\" viewBox=\"0 -960 960 960\">\n",
              "    <path d=\"M120-120v-720h720v720H120Zm60-500h600v-160H180v160Zm220 220h160v-160H400v160Zm0 220h160v-160H400v160ZM180-400h160v-160H180v160Zm440 0h160v-160H620v160ZM180-180h160v-160H180v160Zm440 0h160v-160H620v160Z\"/>\n",
              "  </svg>\n",
              "    </button>\n",
              "\n",
              "  <style>\n",
              "    .colab-df-container {\n",
              "      display:flex;\n",
              "      gap: 12px;\n",
              "    }\n",
              "\n",
              "    .colab-df-convert {\n",
              "      background-color: #E8F0FE;\n",
              "      border: none;\n",
              "      border-radius: 50%;\n",
              "      cursor: pointer;\n",
              "      display: none;\n",
              "      fill: #1967D2;\n",
              "      height: 32px;\n",
              "      padding: 0 0 0 0;\n",
              "      width: 32px;\n",
              "    }\n",
              "\n",
              "    .colab-df-convert:hover {\n",
              "      background-color: #E2EBFA;\n",
              "      box-shadow: 0px 1px 2px rgba(60, 64, 67, 0.3), 0px 1px 3px 1px rgba(60, 64, 67, 0.15);\n",
              "      fill: #174EA6;\n",
              "    }\n",
              "\n",
              "    .colab-df-buttons div {\n",
              "      margin-bottom: 4px;\n",
              "    }\n",
              "\n",
              "    [theme=dark] .colab-df-convert {\n",
              "      background-color: #3B4455;\n",
              "      fill: #D2E3FC;\n",
              "    }\n",
              "\n",
              "    [theme=dark] .colab-df-convert:hover {\n",
              "      background-color: #434B5C;\n",
              "      box-shadow: 0px 1px 3px 1px rgba(0, 0, 0, 0.15);\n",
              "      filter: drop-shadow(0px 1px 2px rgba(0, 0, 0, 0.3));\n",
              "      fill: #FFFFFF;\n",
              "    }\n",
              "  </style>\n",
              "\n",
              "    <script>\n",
              "      const buttonEl =\n",
              "        document.querySelector('#df-bee64c66-0800-4e46-b3c1-c8062323dfd6 button.colab-df-convert');\n",
              "      buttonEl.style.display =\n",
              "        google.colab.kernel.accessAllowed ? 'block' : 'none';\n",
              "\n",
              "      async function convertToInteractive(key) {\n",
              "        const element = document.querySelector('#df-bee64c66-0800-4e46-b3c1-c8062323dfd6');\n",
              "        const dataTable =\n",
              "          await google.colab.kernel.invokeFunction('convertToInteractive',\n",
              "                                                    [key], {});\n",
              "        if (!dataTable) return;\n",
              "\n",
              "        const docLinkHtml = 'Like what you see? Visit the ' +\n",
              "          '<a target=\"_blank\" href=https://colab.research.google.com/notebooks/data_table.ipynb>data table notebook</a>'\n",
              "          + ' to learn more about interactive tables.';\n",
              "        element.innerHTML = '';\n",
              "        dataTable['output_type'] = 'display_data';\n",
              "        await google.colab.output.renderOutput(dataTable, element);\n",
              "        const docLink = document.createElement('div');\n",
              "        docLink.innerHTML = docLinkHtml;\n",
              "        element.appendChild(docLink);\n",
              "      }\n",
              "    </script>\n",
              "  </div>\n",
              "\n",
              "\n",
              "<div id=\"df-cab459b4-9d04-4d92-9f12-e7be0e367dc4\">\n",
              "  <button class=\"colab-df-quickchart\" onclick=\"quickchart('df-cab459b4-9d04-4d92-9f12-e7be0e367dc4')\"\n",
              "            title=\"Suggest charts\"\n",
              "            style=\"display:none;\">\n",
              "\n",
              "<svg xmlns=\"http://www.w3.org/2000/svg\" height=\"24px\"viewBox=\"0 0 24 24\"\n",
              "     width=\"24px\">\n",
              "    <g>\n",
              "        <path d=\"M19 3H5c-1.1 0-2 .9-2 2v14c0 1.1.9 2 2 2h14c1.1 0 2-.9 2-2V5c0-1.1-.9-2-2-2zM9 17H7v-7h2v7zm4 0h-2V7h2v10zm4 0h-2v-4h2v4z\"/>\n",
              "    </g>\n",
              "</svg>\n",
              "  </button>\n",
              "\n",
              "<style>\n",
              "  .colab-df-quickchart {\n",
              "      --bg-color: #E8F0FE;\n",
              "      --fill-color: #1967D2;\n",
              "      --hover-bg-color: #E2EBFA;\n",
              "      --hover-fill-color: #174EA6;\n",
              "      --disabled-fill-color: #AAA;\n",
              "      --disabled-bg-color: #DDD;\n",
              "  }\n",
              "\n",
              "  [theme=dark] .colab-df-quickchart {\n",
              "      --bg-color: #3B4455;\n",
              "      --fill-color: #D2E3FC;\n",
              "      --hover-bg-color: #434B5C;\n",
              "      --hover-fill-color: #FFFFFF;\n",
              "      --disabled-bg-color: #3B4455;\n",
              "      --disabled-fill-color: #666;\n",
              "  }\n",
              "\n",
              "  .colab-df-quickchart {\n",
              "    background-color: var(--bg-color);\n",
              "    border: none;\n",
              "    border-radius: 50%;\n",
              "    cursor: pointer;\n",
              "    display: none;\n",
              "    fill: var(--fill-color);\n",
              "    height: 32px;\n",
              "    padding: 0;\n",
              "    width: 32px;\n",
              "  }\n",
              "\n",
              "  .colab-df-quickchart:hover {\n",
              "    background-color: var(--hover-bg-color);\n",
              "    box-shadow: 0 1px 2px rgba(60, 64, 67, 0.3), 0 1px 3px 1px rgba(60, 64, 67, 0.15);\n",
              "    fill: var(--button-hover-fill-color);\n",
              "  }\n",
              "\n",
              "  .colab-df-quickchart-complete:disabled,\n",
              "  .colab-df-quickchart-complete:disabled:hover {\n",
              "    background-color: var(--disabled-bg-color);\n",
              "    fill: var(--disabled-fill-color);\n",
              "    box-shadow: none;\n",
              "  }\n",
              "\n",
              "  .colab-df-spinner {\n",
              "    border: 2px solid var(--fill-color);\n",
              "    border-color: transparent;\n",
              "    border-bottom-color: var(--fill-color);\n",
              "    animation:\n",
              "      spin 1s steps(1) infinite;\n",
              "  }\n",
              "\n",
              "  @keyframes spin {\n",
              "    0% {\n",
              "      border-color: transparent;\n",
              "      border-bottom-color: var(--fill-color);\n",
              "      border-left-color: var(--fill-color);\n",
              "    }\n",
              "    20% {\n",
              "      border-color: transparent;\n",
              "      border-left-color: var(--fill-color);\n",
              "      border-top-color: var(--fill-color);\n",
              "    }\n",
              "    30% {\n",
              "      border-color: transparent;\n",
              "      border-left-color: var(--fill-color);\n",
              "      border-top-color: var(--fill-color);\n",
              "      border-right-color: var(--fill-color);\n",
              "    }\n",
              "    40% {\n",
              "      border-color: transparent;\n",
              "      border-right-color: var(--fill-color);\n",
              "      border-top-color: var(--fill-color);\n",
              "    }\n",
              "    60% {\n",
              "      border-color: transparent;\n",
              "      border-right-color: var(--fill-color);\n",
              "    }\n",
              "    80% {\n",
              "      border-color: transparent;\n",
              "      border-right-color: var(--fill-color);\n",
              "      border-bottom-color: var(--fill-color);\n",
              "    }\n",
              "    90% {\n",
              "      border-color: transparent;\n",
              "      border-bottom-color: var(--fill-color);\n",
              "    }\n",
              "  }\n",
              "</style>\n",
              "\n",
              "  <script>\n",
              "    async function quickchart(key) {\n",
              "      const quickchartButtonEl =\n",
              "        document.querySelector('#' + key + ' button');\n",
              "      quickchartButtonEl.disabled = true;  // To prevent multiple clicks.\n",
              "      quickchartButtonEl.classList.add('colab-df-spinner');\n",
              "      try {\n",
              "        const charts = await google.colab.kernel.invokeFunction(\n",
              "            'suggestCharts', [key], {});\n",
              "      } catch (error) {\n",
              "        console.error('Error during call to suggestCharts:', error);\n",
              "      }\n",
              "      quickchartButtonEl.classList.remove('colab-df-spinner');\n",
              "      quickchartButtonEl.classList.add('colab-df-quickchart-complete');\n",
              "    }\n",
              "    (() => {\n",
              "      let quickchartButtonEl =\n",
              "        document.querySelector('#df-cab459b4-9d04-4d92-9f12-e7be0e367dc4 button');\n",
              "      quickchartButtonEl.style.display =\n",
              "        google.colab.kernel.accessAllowed ? 'block' : 'none';\n",
              "    })();\n",
              "  </script>\n",
              "</div>\n",
              "    </div>\n",
              "  </div>\n"
            ],
            "application/vnd.google.colaboratory.intrinsic+json": {
              "type": "dataframe",
              "variable_name": "augmented_kernel_quality"
            }
          },
          "metadata": {},
          "execution_count": 41
        }
      ]
    },
    {
      "cell_type": "markdown",
      "metadata": {
        "id": "aXCj4KUyAHkX"
      },
      "source": [
        "### delete outliers"
      ]
    },
    {
      "cell_type": "code",
      "source": [
        "kq = augmented_kernel_quality[augmented_kernel_quality['TotalVotes'] < 500]\n",
        "\n",
        "kq['TotalVotes'].hist()"
      ],
      "metadata": {
        "colab": {
          "base_uri": "https://localhost:8080/",
          "height": 448
        },
        "id": "dATlUZJVGvc1",
        "outputId": "256261bc-66d1-40b0-cc5f-8b615766e39f"
      },
      "execution_count": null,
      "outputs": [
        {
          "output_type": "execute_result",
          "data": {
            "text/plain": [
              "<Axes: >"
            ]
          },
          "metadata": {},
          "execution_count": 42
        },
        {
          "output_type": "display_data",
          "data": {
            "text/plain": [
              "<Figure size 640x480 with 1 Axes>"
            ],
            "image/png": "[encoded data removed]"
          },
          "metadata": {}
        }
      ]
    },
    {
      "cell_type": "code",
      "source": [
        "len(augmented_kernel_quality)"
      ],
      "metadata": {
        "colab": {
          "base_uri": "https://localhost:8080/"
        },
        "id": "YoSfSqRlG7ka",
        "outputId": "5c1c3b74-e582-42c1-9412-d7d0de56c624"
      },
      "execution_count": null,
      "outputs": [
        {
          "output_type": "execute_result",
          "data": {
            "text/plain": [
              "518367"
            ]
          },
          "metadata": {},
          "execution_count": 43
        }
      ]
    },
    {
      "cell_type": "code",
      "execution_count": null,
      "metadata": {
        "id": "BRSwbNRRKuvW"
      },
      "outputs": [],
      "source": [
        "augmented_kernel_quality = augmented_kernel_quality[augmented_kernel_quality['TotalVotes'] < 500]"
      ]
    },
    {
      "cell_type": "code",
      "source": [
        "len(augmented_kernel_quality)"
      ],
      "metadata": {
        "colab": {
          "base_uri": "https://localhost:8080/"
        },
        "id": "wZSa_52rC_ZN",
        "outputId": "d1d6cdee-7187-4dab-cf0f-9c232e386c03"
      },
      "execution_count": null,
      "outputs": [
        {
          "output_type": "execute_result",
          "data": {
            "text/plain": [
              "518019"
            ]
          },
          "metadata": {},
          "execution_count": 45
        }
      ]
    },
    {
      "cell_type": "code",
      "execution_count": null,
      "metadata": {
        "colab": {
          "base_uri": "https://localhost:8080/",
          "height": 448
        },
        "id": "oWsc5AVthNiA",
        "outputId": "01d7c749-8379-4394-d889-9d2358af2de4"
      },
      "outputs": [
        {
          "output_type": "execute_result",
          "data": {
            "text/plain": [
              "<Axes: >"
            ]
          },
          "metadata": {},
          "execution_count": 46
        },
        {
          "output_type": "display_data",
          "data": {
            "text/plain": [
              "<Figure size 640x480 with 1 Axes>"
            ],
            "image/png": "[encoded data removed]"
          },
          "metadata": {}
        }
      ],
      "source": [
        "kq2 = augmented_kernel_quality[augmented_kernel_quality['topic_score'] < 5]\n",
        "\n",
        "kq2['topic_score'].hist()"
      ]
    },
    {
      "cell_type": "code",
      "execution_count": null,
      "metadata": {
        "id": "C6gu8buRKnyC"
      },
      "outputs": [],
      "source": [
        "augmented_kernel_quality = augmented_kernel_quality[augmented_kernel_quality['topic_score'] < 5]"
      ]
    },
    {
      "cell_type": "code",
      "execution_count": null,
      "metadata": {
        "colab": {
          "base_uri": "https://localhost:8080/"
        },
        "id": "yp9QUO4cKw9Q",
        "outputId": "ff85fa6d-9940-4e56-f5df-1d227cfcd677"
      },
      "outputs": [
        {
          "output_type": "execute_result",
          "data": {
            "text/plain": [
              "517409"
            ]
          },
          "metadata": {},
          "execution_count": 48
        }
      ],
      "source": [
        "len(augmented_kernel_quality)"
      ]
    },
    {
      "cell_type": "code",
      "execution_count": null,
      "metadata": {
        "id": "xv-m4VyNV75Z"
      },
      "outputs": [],
      "source": [
        "augmented_kernel_quality['score_scaled'] = (augmented_kernel_quality['topic_score'] - augmented_kernel_quality['topic_score'].min()) / (augmented_kernel_quality['topic_score'].max() - augmented_kernel_quality['topic_score'].min() )\n",
        "augmented_kernel_quality['vote_scaled'] = ((augmented_kernel_quality['TotalVotes'] - augmented_kernel_quality['TotalVotes'].min())) / (augmented_kernel_quality['TotalVotes'].max() - augmented_kernel_quality['TotalVotes'].min())\n",
        "augmented_kernel_quality['combined_score'] = augmented_kernel_quality['score_scaled'] + augmented_kernel_quality['vote_scaled']"
      ]
    },
    {
      "cell_type": "code",
      "source": [
        "def metrics_reports(criterion):\n",
        "  from sklearn.metrics import classification_report\n",
        "  augmented_kernel_quality.sort_values(by=criterion, inplace=True)\n",
        "  X = augmented_kernel_quality.copy()\n",
        "  split_factor = 0.5\n",
        "  zeros_len = int(split_factor * len(X))\n",
        "  X[f'binary_{criterion}'] = [0 for _ in range(zeros_len)] + [1 for _ in range(len(X) - zeros_len)]\n",
        "  X = X.loc[:,~X.columns.duplicated()]\n",
        "  result = pd.merge(X, df, left_on='KernelId', right_on='KernelId', how='inner')\n",
        "  result = result[result[f'binary_{criterion}'].isna() != True]\n",
        "  print(classification_report(y_pred = result[f'binary_{criterion}'], y_true= result['expert_score']))\n",
        "  return result"
      ],
      "metadata": {
        "id": "2dBNY_xfD7uW"
      },
      "execution_count": null,
      "outputs": []
    },
    {
      "cell_type": "code",
      "execution_count": null,
      "metadata": {
        "colab": {
          "base_uri": "https://localhost:8080/"
        },
        "id": "S5XlVT2B5cGV",
        "outputId": "4dcdf576-6309-47d7-ef66-8c156907740f"
      },
      "outputs": [
        {
          "output_type": "stream",
          "name": "stdout",
          "text": [
            "              precision    recall  f1-score   support\n",
            "\n",
            "           0       0.65      0.98      0.78       565\n",
            "           1       0.94      0.38      0.55       484\n",
            "\n",
            "    accuracy                           0.70      1049\n",
            "   macro avg       0.79      0.68      0.66      1049\n",
            "weighted avg       0.78      0.70      0.67      1049\n",
            "\n"
          ]
        }
      ],
      "source": [
        "# New augmented approach\n",
        "\n",
        "result= metrics_reports('topic_score')"
      ]
    },
    {
      "cell_type": "code",
      "source": [
        "# New augmented approach\n",
        "\n",
        "r = metrics_reports('vote_scaled')"
      ],
      "metadata": {
        "colab": {
          "base_uri": "https://localhost:8080/"
        },
        "id": "ANAdMHjEK4XU",
        "outputId": "18eb9321-0872-4376-d31e-8e965051a3cf"
      },
      "execution_count": null,
      "outputs": [
        {
          "output_type": "stream",
          "name": "stdout",
          "text": [
            "              precision    recall  f1-score   support\n",
            "\n",
            "           0       0.94      0.26      0.41       565\n",
            "           1       0.53      0.98      0.69       484\n",
            "\n",
            "    accuracy                           0.59      1049\n",
            "   macro avg       0.73      0.62      0.55      1049\n",
            "weighted avg       0.75      0.59      0.54      1049\n",
            "\n"
          ]
        }
      ]
    },
    {
      "cell_type": "code",
      "execution_count": null,
      "metadata": {
        "id": "_DUvlm8YDdfF",
        "colab": {
          "base_uri": "https://localhost:8080/"
        },
        "outputId": "e3b972b9-dc89-4241-ca9f-74eeab829ae9"
      },
      "outputs": [
        {
          "output_type": "stream",
          "name": "stdout",
          "text": [
            "              precision    recall  f1-score   support\n",
            "\n",
            "           0       0.89      0.82      0.86       565\n",
            "           1       0.81      0.88      0.84       484\n",
            "\n",
            "    accuracy                           0.85      1049\n",
            "   macro avg       0.85      0.85      0.85      1049\n",
            "weighted avg       0.85      0.85      0.85      1049\n",
            "\n"
          ]
        }
      ],
      "source": [
        "# New augmented approach\n",
        "\n",
        "result = metrics_reports('combined_score')"
      ]
    },
    {
      "cell_type": "code",
      "source": [
        "augmented_kernel_quality"
      ],
      "metadata": {
        "colab": {
          "base_uri": "https://localhost:8080/",
          "height": 755
        },
        "id": "B8B7E8lHPU1M",
        "outputId": "f7234607-a2f2-4ef1-bd62-f592092722f8"
      },
      "execution_count": null,
      "outputs": [
        {
          "output_type": "execute_result",
          "data": {
            "text/plain": [
              "        KernelId  AuthorUserId  PerformanceTier_kerneluser   PostUserId  \\\n",
              "271163  12527393           NaN                         0.0          NaN   \n",
              "453771   8659234           NaN                         0.0          NaN   \n",
              "274904  13001688           NaN                         0.0          NaN   \n",
              "443515   8026490           NaN                         0.0          NaN   \n",
              "329283    227268           NaN                         4.0          NaN   \n",
              "...          ...           ...                         ...          ...   \n",
              "10481     925374     1013858.0                         2.0   39869793.0   \n",
              "9104      672341      813035.0                         2.0   98081465.0   \n",
              "53387   15434135     1723677.0                         4.0  216160250.0   \n",
              "17295    2892223      727004.0                         4.0  209625493.0   \n",
              "5468      316095       18102.0                         4.0   83577226.0   \n",
              "\n",
              "        PerformanceTier_commentuser  bert_score  CommentVote  \\\n",
              "271163                          NaN         NaN          NaN   \n",
              "453771                          NaN         NaN          NaN   \n",
              "274904                          NaN         NaN          NaN   \n",
              "443515                          NaN         NaN          NaN   \n",
              "329283                          NaN         NaN          NaN   \n",
              "...                             ...         ...          ...   \n",
              "10481                          39.0        20.0         45.0   \n",
              "9104                           26.0        15.0         85.0   \n",
              "53387                         119.0        24.0         27.0   \n",
              "17295                          86.0        60.0         17.0   \n",
              "5468                           79.0        46.0         23.0   \n",
              "\n",
              "        pure_topic_score  topic_score  TotalViews           UserName  \\\n",
              "271163               NaN     0.014028    508194.0            stephan   \n",
              "453771               NaN     0.032233     96251.0  benjaminschreiber   \n",
              "274904               NaN     0.032848     92678.0    pragyanshusingh   \n",
              "443515               NaN     0.024744    163328.0       pratikrandad   \n",
              "329283               NaN     0.036755     74025.0             kmader   \n",
              "...                  ...          ...         ...                ...   \n",
              "10481              920.0     4.768290     40558.0       wesamelshamy   \n",
              "9104              1290.0     3.781995    159056.0            itoeiji   \n",
              "53387              672.0     4.088967     33534.0            cdeotte   \n",
              "17295             1080.0     4.783049     60174.0             artgor   \n",
              "5468              1104.0     4.624358     67782.0         gaborfodor   \n",
              "\n",
              "        TotalVotes                                    CurrentUrlSlug  \\\n",
              "271163         1.0     4-7-finding-relationships-and-transformations   \n",
              "453771         0.0                         markov-decision-processes   \n",
              "274904         0.0                                       nov21-mbert   \n",
              "443515         1.0       executing-multiple-sql-queries-using-python   \n",
              "329283         0.0        qbi-comple-object-analysis-skeletonization   \n",
              "...            ...                                               ...   \n",
              "10481        386.0  trackml-problem-explanation-and-data-exploration   \n",
              "9104         494.0         deep-reinforcement-learning-on-stock-data   \n",
              "53387        465.0            part-2-rapids-tfidfvectorizer-cv-0-700   \n",
              "17295        458.0  eda-feature-engineering-and-model-interpretation   \n",
              "5468         480.0                      from-eda-to-the-top-lb-0-367   \n",
              "\n",
              "        score_scaled  vote_scaled  combined_score  \n",
              "271163      0.001374     0.002012        0.003386  \n",
              "453771      0.005020     0.000000        0.005020  \n",
              "274904      0.005144     0.000000        0.005144  \n",
              "443515      0.003520     0.002012        0.005532  \n",
              "329283      0.005926     0.000000        0.005926  \n",
              "...              ...          ...             ...  \n",
              "10481       0.953665     0.776660        1.730325  \n",
              "9104        0.756108     0.993964        1.750071  \n",
              "53387       0.817595     0.935614        1.753209  \n",
              "17295       0.956621     0.921529        1.878151  \n",
              "5468        0.924835     0.965795        1.890630  \n",
              "\n",
              "[517680 rows x 16 columns]"
            ],
            "text/html": [
              "\n",
              "  <div id=\"df-a6ea6cb4-372f-4214-a6ef-98c4ab50fe18\" class=\"colab-df-container\">\n",
              "    <div>\n",
              "<style scoped>\n",
              "    .dataframe tbody tr th:only-of-type {\n",
              "        vertical-align: middle;\n",
              "    }\n",
              "\n",
              "    .dataframe tbody tr th {\n",
              "        vertical-align: top;\n",
              "    }\n",
              "\n",
              "    .dataframe thead th {\n",
              "        text-align: right;\n",
              "    }\n",
              "</style>\n",
              "<table border=\"1\" class=\"dataframe\">\n",
              "  <thead>\n",
              "    <tr style=\"text-align: right;\">\n",
              "      <th></th>\n",
              "      <th>KernelId</th>\n",
              "      <th>AuthorUserId</th>\n",
              "      <th>PerformanceTier_kerneluser</th>\n",
              "      <th>PostUserId</th>\n",
              "      <th>PerformanceTier_commentuser</th>\n",
              "      <th>bert_score</th>\n",
              "      <th>CommentVote</th>\n",
              "      <th>pure_topic_score</th>\n",
              "      <th>topic_score</th>\n",
              "      <th>TotalViews</th>\n",
              "      <th>UserName</th>\n",
              "      <th>TotalVotes</th>\n",
              "      <th>CurrentUrlSlug</th>\n",
              "      <th>score_scaled</th>\n",
              "      <th>vote_scaled</th>\n",
              "      <th>combined_score</th>\n",
              "    </tr>\n",
              "  </thead>\n",
              "  <tbody>\n",
              "    <tr>\n",
              "      <th>271163</th>\n",
              "      <td>12527393</td>\n",
              "      <td>NaN</td>\n",
              "      <td>0.0</td>\n",
              "      <td>NaN</td>\n",
              "      <td>NaN</td>\n",
              "      <td>NaN</td>\n",
              "      <td>NaN</td>\n",
              "      <td>NaN</td>\n",
              "      <td>0.014028</td>\n",
              "      <td>508194.0</td>\n",
              "      <td>stephan</td>\n",
              "      <td>1.0</td>\n",
              "      <td>4-7-finding-relationships-and-transformations</td>\n",
              "      <td>0.001374</td>\n",
              "      <td>0.002012</td>\n",
              "      <td>0.003386</td>\n",
              "    </tr>\n",
              "    <tr>\n",
              "      <th>453771</th>\n",
              "      <td>8659234</td>\n",
              "      <td>NaN</td>\n",
              "      <td>0.0</td>\n",
              "      <td>NaN</td>\n",
              "      <td>NaN</td>\n",
              "      <td>NaN</td>\n",
              "      <td>NaN</td>\n",
              "      <td>NaN</td>\n",
              "      <td>0.032233</td>\n",
              "      <td>96251.0</td>\n",
              "      <td>benjaminschreiber</td>\n",
              "      <td>0.0</td>\n",
              "      <td>markov-decision-processes</td>\n",
              "      <td>0.005020</td>\n",
              "      <td>0.000000</td>\n",
              "      <td>0.005020</td>\n",
              "    </tr>\n",
              "    <tr>\n",
              "      <th>274904</th>\n",
              "      <td>13001688</td>\n",
              "      <td>NaN</td>\n",
              "      <td>0.0</td>\n",
              "      <td>NaN</td>\n",
              "      <td>NaN</td>\n",
              "      <td>NaN</td>\n",
              "      <td>NaN</td>\n",
              "      <td>NaN</td>\n",
              "      <td>0.032848</td>\n",
              "      <td>92678.0</td>\n",
              "      <td>pragyanshusingh</td>\n",
              "      <td>0.0</td>\n",
              "      <td>nov21-mbert</td>\n",
              "      <td>0.005144</td>\n",
              "      <td>0.000000</td>\n",
              "      <td>0.005144</td>\n",
              "    </tr>\n",
              "    <tr>\n",
              "      <th>443515</th>\n",
              "      <td>8026490</td>\n",
              "      <td>NaN</td>\n",
              "      <td>0.0</td>\n",
              "      <td>NaN</td>\n",
              "      <td>NaN</td>\n",
              "      <td>NaN</td>\n",
              "      <td>NaN</td>\n",
              "      <td>NaN</td>\n",
              "      <td>0.024744</td>\n",
              "      <td>163328.0</td>\n",
              "      <td>pratikrandad</td>\n",
              "      <td>1.0</td>\n",
              "      <td>executing-multiple-sql-queries-using-python</td>\n",
              "      <td>0.003520</td>\n",
              "      <td>0.002012</td>\n",
              "      <td>0.005532</td>\n",
              "    </tr>\n",
              "    <tr>\n",
              "      <th>329283</th>\n",
              "      <td>227268</td>\n",
              "      <td>NaN</td>\n",
              "      <td>4.0</td>\n",
              "      <td>NaN</td>\n",
              "      <td>NaN</td>\n",
              "      <td>NaN</td>\n",
              "      <td>NaN</td>\n",
              "      <td>NaN</td>\n",
              "      <td>0.036755</td>\n",
              "      <td>74025.0</td>\n",
              "      <td>kmader</td>\n",
              "      <td>0.0</td>\n",
              "      <td>qbi-comple-object-analysis-skeletonization</td>\n",
              "      <td>0.005926</td>\n",
              "      <td>0.000000</td>\n",
              "      <td>0.005926</td>\n",
              "    </tr>\n",
              "    <tr>\n",
              "      <th>...</th>\n",
              "      <td>...</td>\n",
              "      <td>...</td>\n",
              "      <td>...</td>\n",
              "      <td>...</td>\n",
              "      <td>...</td>\n",
              "      <td>...</td>\n",
              "      <td>...</td>\n",
              "      <td>...</td>\n",
              "      <td>...</td>\n",
              "      <td>...</td>\n",
              "      <td>...</td>\n",
              "      <td>...</td>\n",
              "      <td>...</td>\n",
              "      <td>...</td>\n",
              "      <td>...</td>\n",
              "      <td>...</td>\n",
              "    </tr>\n",
              "    <tr>\n",
              "      <th>10481</th>\n",
              "      <td>925374</td>\n",
              "      <td>1013858.0</td>\n",
              "      <td>2.0</td>\n",
              "      <td>39869793.0</td>\n",
              "      <td>39.0</td>\n",
              "      <td>20.0</td>\n",
              "      <td>45.0</td>\n",
              "      <td>920.0</td>\n",
              "      <td>4.768290</td>\n",
              "      <td>40558.0</td>\n",
              "      <td>wesamelshamy</td>\n",
              "      <td>386.0</td>\n",
              "      <td>trackml-problem-explanation-and-data-exploration</td>\n",
              "      <td>0.953665</td>\n",
              "      <td>0.776660</td>\n",
              "      <td>1.730325</td>\n",
              "    </tr>\n",
              "    <tr>\n",
              "      <th>9104</th>\n",
              "      <td>672341</td>\n",
              "      <td>813035.0</td>\n",
              "      <td>2.0</td>\n",
              "      <td>98081465.0</td>\n",
              "      <td>26.0</td>\n",
              "      <td>15.0</td>\n",
              "      <td>85.0</td>\n",
              "      <td>1290.0</td>\n",
              "      <td>3.781995</td>\n",
              "      <td>159056.0</td>\n",
              "      <td>itoeiji</td>\n",
              "      <td>494.0</td>\n",
              "      <td>deep-reinforcement-learning-on-stock-data</td>\n",
              "      <td>0.756108</td>\n",
              "      <td>0.993964</td>\n",
              "      <td>1.750071</td>\n",
              "    </tr>\n",
              "    <tr>\n",
              "      <th>53387</th>\n",
              "      <td>15434135</td>\n",
              "      <td>1723677.0</td>\n",
              "      <td>4.0</td>\n",
              "      <td>216160250.0</td>\n",
              "      <td>119.0</td>\n",
              "      <td>24.0</td>\n",
              "      <td>27.0</td>\n",
              "      <td>672.0</td>\n",
              "      <td>4.088967</td>\n",
              "      <td>33534.0</td>\n",
              "      <td>cdeotte</td>\n",
              "      <td>465.0</td>\n",
              "      <td>part-2-rapids-tfidfvectorizer-cv-0-700</td>\n",
              "      <td>0.817595</td>\n",
              "      <td>0.935614</td>\n",
              "      <td>1.753209</td>\n",
              "    </tr>\n",
              "    <tr>\n",
              "      <th>17295</th>\n",
              "      <td>2892223</td>\n",
              "      <td>727004.0</td>\n",
              "      <td>4.0</td>\n",
              "      <td>209625493.0</td>\n",
              "      <td>86.0</td>\n",
              "      <td>60.0</td>\n",
              "      <td>17.0</td>\n",
              "      <td>1080.0</td>\n",
              "      <td>4.783049</td>\n",
              "      <td>60174.0</td>\n",
              "      <td>artgor</td>\n",
              "      <td>458.0</td>\n",
              "      <td>eda-feature-engineering-and-model-interpretation</td>\n",
              "      <td>0.956621</td>\n",
              "      <td>0.921529</td>\n",
              "      <td>1.878151</td>\n",
              "    </tr>\n",
              "    <tr>\n",
              "      <th>5468</th>\n",
              "      <td>316095</td>\n",
              "      <td>18102.0</td>\n",
              "      <td>4.0</td>\n",
              "      <td>83577226.0</td>\n",
              "      <td>79.0</td>\n",
              "      <td>46.0</td>\n",
              "      <td>23.0</td>\n",
              "      <td>1104.0</td>\n",
              "      <td>4.624358</td>\n",
              "      <td>67782.0</td>\n",
              "      <td>gaborfodor</td>\n",
              "      <td>480.0</td>\n",
              "      <td>from-eda-to-the-top-lb-0-367</td>\n",
              "      <td>0.924835</td>\n",
              "      <td>0.965795</td>\n",
              "      <td>1.890630</td>\n",
              "    </tr>\n",
              "  </tbody>\n",
              "</table>\n",
              "<p>517680 rows × 16 columns</p>\n",
              "</div>\n",
              "    <div class=\"colab-df-buttons\">\n",
              "\n",
              "  <div class=\"colab-df-container\">\n",
              "    <button class=\"colab-df-convert\" onclick=\"convertToInteractive('df-a6ea6cb4-372f-4214-a6ef-98c4ab50fe18')\"\n",
              "            title=\"Convert this dataframe to an interactive table.\"\n",
              "            style=\"display:none;\">\n",
              "\n",
              "  <svg xmlns=\"http://www.w3.org/2000/svg\" height=\"24px\" viewBox=\"0 -960 960 960\">\n",
              "    <path d=\"M120-120v-720h720v720H120Zm60-500h600v-160H180v160Zm220 220h160v-160H400v160Zm0 220h160v-160H400v160ZM180-400h160v-160H180v160Zm440 0h160v-160H620v160ZM180-180h160v-160H180v160Zm440 0h160v-160H620v160Z\"/>\n",
              "  </svg>\n",
              "    </button>\n",
              "\n",
              "  <style>\n",
              "    .colab-df-container {\n",
              "      display:flex;\n",
              "      gap: 12px;\n",
              "    }\n",
              "\n",
              "    .colab-df-convert {\n",
              "      background-color: #E8F0FE;\n",
              "      border: none;\n",
              "      border-radius: 50%;\n",
              "      cursor: pointer;\n",
              "      display: none;\n",
              "      fill: #1967D2;\n",
              "      height: 32px;\n",
              "      padding: 0 0 0 0;\n",
              "      width: 32px;\n",
              "    }\n",
              "\n",
              "    .colab-df-convert:hover {\n",
              "      background-color: #E2EBFA;\n",
              "      box-shadow: 0px 1px 2px rgba(60, 64, 67, 0.3), 0px 1px 3px 1px rgba(60, 64, 67, 0.15);\n",
              "      fill: #174EA6;\n",
              "    }\n",
              "\n",
              "    .colab-df-buttons div {\n",
              "      margin-bottom: 4px;\n",
              "    }\n",
              "\n",
              "    [theme=dark] .colab-df-convert {\n",
              "      background-color: #3B4455;\n",
              "      fill: #D2E3FC;\n",
              "    }\n",
              "\n",
              "    [theme=dark] .colab-df-convert:hover {\n",
              "      background-color: #434B5C;\n",
              "      box-shadow: 0px 1px 3px 1px rgba(0, 0, 0, 0.15);\n",
              "      filter: drop-shadow(0px 1px 2px rgba(0, 0, 0, 0.3));\n",
              "      fill: #FFFFFF;\n",
              "    }\n",
              "  </style>\n",
              "\n",
              "    <script>\n",
              "      const buttonEl =\n",
              "        document.querySelector('#df-a6ea6cb4-372f-4214-a6ef-98c4ab50fe18 button.colab-df-convert');\n",
              "      buttonEl.style.display =\n",
              "        google.colab.kernel.accessAllowed ? 'block' : 'none';\n",
              "\n",
              "      async function convertToInteractive(key) {\n",
              "        const element = document.querySelector('#df-a6ea6cb4-372f-4214-a6ef-98c4ab50fe18');\n",
              "        const dataTable =\n",
              "          await google.colab.kernel.invokeFunction('convertToInteractive',\n",
              "                                                    [key], {});\n",
              "        if (!dataTable) return;\n",
              "\n",
              "        const docLinkHtml = 'Like what you see? Visit the ' +\n",
              "          '<a target=\"_blank\" href=https://colab.research.google.com/notebooks/data_table.ipynb>data table notebook</a>'\n",
              "          + ' to learn more about interactive tables.';\n",
              "        element.innerHTML = '';\n",
              "        dataTable['output_type'] = 'display_data';\n",
              "        await google.colab.output.renderOutput(dataTable, element);\n",
              "        const docLink = document.createElement('div');\n",
              "        docLink.innerHTML = docLinkHtml;\n",
              "        element.appendChild(docLink);\n",
              "      }\n",
              "    </script>\n",
              "  </div>\n",
              "\n",
              "\n",
              "<div id=\"df-de699c55-b6bb-4efe-b3d1-a533c4e789c8\">\n",
              "  <button class=\"colab-df-quickchart\" onclick=\"quickchart('df-de699c55-b6bb-4efe-b3d1-a533c4e789c8')\"\n",
              "            title=\"Suggest charts\"\n",
              "            style=\"display:none;\">\n",
              "\n",
              "<svg xmlns=\"http://www.w3.org/2000/svg\" height=\"24px\"viewBox=\"0 0 24 24\"\n",
              "     width=\"24px\">\n",
              "    <g>\n",
              "        <path d=\"M19 3H5c-1.1 0-2 .9-2 2v14c0 1.1.9 2 2 2h14c1.1 0 2-.9 2-2V5c0-1.1-.9-2-2-2zM9 17H7v-7h2v7zm4 0h-2V7h2v10zm4 0h-2v-4h2v4z\"/>\n",
              "    </g>\n",
              "</svg>\n",
              "  </button>\n",
              "\n",
              "<style>\n",
              "  .colab-df-quickchart {\n",
              "      --bg-color: #E8F0FE;\n",
              "      --fill-color: #1967D2;\n",
              "      --hover-bg-color: #E2EBFA;\n",
              "      --hover-fill-color: #174EA6;\n",
              "      --disabled-fill-color: #AAA;\n",
              "      --disabled-bg-color: #DDD;\n",
              "  }\n",
              "\n",
              "  [theme=dark] .colab-df-quickchart {\n",
              "      --bg-color: #3B4455;\n",
              "      --fill-color: #D2E3FC;\n",
              "      --hover-bg-color: #434B5C;\n",
              "      --hover-fill-color: #FFFFFF;\n",
              "      --disabled-bg-color: #3B4455;\n",
              "      --disabled-fill-color: #666;\n",
              "  }\n",
              "\n",
              "  .colab-df-quickchart {\n",
              "    background-color: var(--bg-color);\n",
              "    border: none;\n",
              "    border-radius: 50%;\n",
              "    cursor: pointer;\n",
              "    display: none;\n",
              "    fill: var(--fill-color);\n",
              "    height: 32px;\n",
              "    padding: 0;\n",
              "    width: 32px;\n",
              "  }\n",
              "\n",
              "  .colab-df-quickchart:hover {\n",
              "    background-color: var(--hover-bg-color);\n",
              "    box-shadow: 0 1px 2px rgba(60, 64, 67, 0.3), 0 1px 3px 1px rgba(60, 64, 67, 0.15);\n",
              "    fill: var(--button-hover-fill-color);\n",
              "  }\n",
              "\n",
              "  .colab-df-quickchart-complete:disabled,\n",
              "  .colab-df-quickchart-complete:disabled:hover {\n",
              "    background-color: var(--disabled-bg-color);\n",
              "    fill: var(--disabled-fill-color);\n",
              "    box-shadow: none;\n",
              "  }\n",
              "\n",
              "  .colab-df-spinner {\n",
              "    border: 2px solid var(--fill-color);\n",
              "    border-color: transparent;\n",
              "    border-bottom-color: var(--fill-color);\n",
              "    animation:\n",
              "      spin 1s steps(1) infinite;\n",
              "  }\n",
              "\n",
              "  @keyframes spin {\n",
              "    0% {\n",
              "      border-color: transparent;\n",
              "      border-bottom-color: var(--fill-color);\n",
              "      border-left-color: var(--fill-color);\n",
              "    }\n",
              "    20% {\n",
              "      border-color: transparent;\n",
              "      border-left-color: var(--fill-color);\n",
              "      border-top-color: var(--fill-color);\n",
              "    }\n",
              "    30% {\n",
              "      border-color: transparent;\n",
              "      border-left-color: var(--fill-color);\n",
              "      border-top-color: var(--fill-color);\n",
              "      border-right-color: var(--fill-color);\n",
              "    }\n",
              "    40% {\n",
              "      border-color: transparent;\n",
              "      border-right-color: var(--fill-color);\n",
              "      border-top-color: var(--fill-color);\n",
              "    }\n",
              "    60% {\n",
              "      border-color: transparent;\n",
              "      border-right-color: var(--fill-color);\n",
              "    }\n",
              "    80% {\n",
              "      border-color: transparent;\n",
              "      border-right-color: var(--fill-color);\n",
              "      border-bottom-color: var(--fill-color);\n",
              "    }\n",
              "    90% {\n",
              "      border-color: transparent;\n",
              "      border-bottom-color: var(--fill-color);\n",
              "    }\n",
              "  }\n",
              "</style>\n",
              "\n",
              "  <script>\n",
              "    async function quickchart(key) {\n",
              "      const quickchartButtonEl =\n",
              "        document.querySelector('#' + key + ' button');\n",
              "      quickchartButtonEl.disabled = true;  // To prevent multiple clicks.\n",
              "      quickchartButtonEl.classList.add('colab-df-spinner');\n",
              "      try {\n",
              "        const charts = await google.colab.kernel.invokeFunction(\n",
              "            'suggestCharts', [key], {});\n",
              "      } catch (error) {\n",
              "        console.error('Error during call to suggestCharts:', error);\n",
              "      }\n",
              "      quickchartButtonEl.classList.remove('colab-df-spinner');\n",
              "      quickchartButtonEl.classList.add('colab-df-quickchart-complete');\n",
              "    }\n",
              "    (() => {\n",
              "      let quickchartButtonEl =\n",
              "        document.querySelector('#df-de699c55-b6bb-4efe-b3d1-a533c4e789c8 button');\n",
              "      quickchartButtonEl.style.display =\n",
              "        google.colab.kernel.accessAllowed ? 'block' : 'none';\n",
              "    })();\n",
              "  </script>\n",
              "</div>\n",
              "    </div>\n",
              "  </div>\n"
            ],
            "application/vnd.google.colaboratory.intrinsic+json": {
              "type": "dataframe",
              "variable_name": "augmented_kernel_quality"
            }
          },
          "metadata": {},
          "execution_count": 48
        }
      ]
    },
    {
      "cell_type": "code",
      "source": [
        "augmented_kernel_quality.to_csv('augmented_kernel_quality.csv', index=False)"
      ],
      "metadata": {
        "id": "cyida7FdK2dQ"
      },
      "execution_count": null,
      "outputs": []
    },
    {
      "cell_type": "code",
      "source": [
        "!cp augmented_kernel_quality.csv drive/MyDrive/Meta_Kaggle/"
      ],
      "metadata": {
        "id": "VBdVC2i1QDMI"
      },
      "execution_count": null,
      "outputs": []
    },
    {
      "cell_type": "code",
      "source": [],
      "metadata": {
        "id": "6BTQPCpdDOg2"
      },
      "execution_count": null,
      "outputs": []
    }
  ],
  "metadata": {
    "colab": {
      "collapsed_sections": [
        "0HFYugwwJ8VS",
        "TU5l-LRCV3Ph",
        "pJE6GC4YQkso",
        "m97EH7D9WGrr"
      ],
      "provenance": [],
      "gpuType": "T4"
    },
    "kernelspec": {
      "display_name": "Python 3",
      "name": "python3"
    },
    "language_info": {
      "codemirror_mode": {
        "name": "ipython",
        "version": 3
      },
      "file_extension": ".py",
      "mimetype": "text/x-python",
      "name": "python",
      "nbconvert_exporter": "python",
      "pygments_lexer": "ipython3",
      "version": "3.9.12"
    },
    "widgets": {
      "application/vnd.jupyter.widget-state+json": {}
    },
    "accelerator": "GPU"
  },
  "nbformat": 4,
  "nbformat_minor": 0
}