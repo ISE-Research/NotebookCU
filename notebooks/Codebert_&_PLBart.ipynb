{
  "cells": [
    {
      "cell_type": "markdown",
      "source": [
        "# Create dataset"
      ],
      "metadata": {
        "id": "tHqBgUUyaLq-"
      }
    },
    {
      "cell_type": "code",
      "execution_count": 1,
      "metadata": {
        "colab": {
          "base_uri": "https://localhost:8080/"
        },
        "id": "uScOxMVS0vAf",
        "outputId": "a3cf63f1-c0b0-4682-86fa-5ee1e273e179"
      },
      "outputs": [
        {
          "output_type": "stream",
          "name": "stdout",
          "text": [
            "Downloading...\n",
            "From: https://drive.google.com/uc?id=1rks7UbT8Bbl7TdQvfqoXx6fXhaPM8xOv\n",
            "To: /content/augmented_kernel_quality.csv\n",
            "100% 75.8M/75.8M [00:00<00:00, 135MB/s]\n"
          ]
        }
      ],
      "source": [
        "!gdown 1rks7UbT8Bbl7TdQvfqoXx6fXhaPM8xOv"
      ]
    },
    {
      "cell_type": "code",
      "execution_count": 2,
      "metadata": {
        "id": "ZISeOWKJSMdE"
      },
      "outputs": [],
      "source": [
        "import os\n",
        "\n",
        "api_token = {\"username\":\"_\",\"key\":\"_\"}\n",
        "\n",
        "import json\n",
        "\n",
        "with open('kaggle.json', 'w') as file:\n",
        "  json.dump(api_token, file)\n",
        "\n",
        "!chmod 600 kaggle.json"
      ]
    },
    {
      "cell_type": "code",
      "execution_count": 3,
      "metadata": {
        "id": "BMwzJevJyChR"
      },
      "outputs": [],
      "source": [
        "os.environ[\"KAGGLE_CONFIG_DIR\"] = \"/content\""
      ]
    },
    {
      "cell_type": "markdown",
      "source": [
        "## Get code+markdown for 1050 new ground truth"
      ],
      "metadata": {
        "id": "QGwZu8eQLBOc"
      }
    },
    {
      "cell_type": "code",
      "source": [
        "import pandas as pd\n",
        "\n",
        "df_test = pd.read_csv('experts.csv')\n",
        "df_test['expert_score'] = df_test['expert_score'].astype(int)\n"
      ],
      "metadata": {
        "id": "P02U71ZGta8R"
      },
      "execution_count": 4,
      "outputs": []
    },
    {
      "cell_type": "code",
      "source": [
        "import json\n",
        "from kaggle import api\n",
        "import time\n",
        "\n",
        "codes = []\n",
        "markdowns = []\n",
        "errors = []\n",
        "\n",
        "for i, row in df_test.iterrows():\n",
        "  try:\n",
        "    out = api.kernel_pull(row['UserName'], row['CurrentUrlSlug'])\n",
        "    src = out['blob']['source']\n",
        "    code = ' \\n '.join([x['source'] for x in json.loads(src)['cells'] if x['cell_type'] == 'code'])\n",
        "    markdown = ' \\n '.join([x['source'] for x in json.loads(src)['cells'] if x['cell_type'] == 'markdown'])\n",
        "    codes.append(code)\n",
        "    markdowns.append(markdown)\n",
        "    time.sleep(2)\n",
        "  except:\n",
        "    errors.append(i)"
      ],
      "metadata": {
        "id": "DiQhJ3zYtmNd"
      },
      "execution_count": 6,
      "outputs": []
    },
    {
      "cell_type": "code",
      "source": [
        "notebooks = df_test.copy()\n",
        "notebooks.index = range(len(df_test))\n",
        "notebooks = notebooks.drop(errors)\n",
        "notebooks['code'] = codes\n",
        "notebooks['markdown'] = markdowns"
      ],
      "metadata": {
        "id": "qtpC21P33oIC"
      },
      "execution_count": 16,
      "outputs": []
    },
    {
      "cell_type": "code",
      "source": [
        "notebooks[['KernelId', 'code', 'markdown', 'label']].to_csv('1050_train_codebert.csv', index=False)"
      ],
      "metadata": {
        "id": "9_fSYh_R37EN"
      },
      "execution_count": 18,
      "outputs": []
    },
    {
      "cell_type": "code",
      "source": [
        "!cp 1050_train_codebert.csv drive/MyDrive/Meta_Kaggle/"
      ],
      "metadata": {
        "id": "xn1vQSVt4QeW"
      },
      "execution_count": 20,
      "outputs": []
    },
    {
      "cell_type": "markdown",
      "source": [
        "## Get code+markdown for 10k samples"
      ],
      "metadata": {
        "id": "kjftMgjPLJTZ"
      }
    },
    {
      "cell_type": "code",
      "execution_count": 4,
      "metadata": {
        "id": "YYuXbFD8yK1c"
      },
      "outputs": [],
      "source": [
        "import pandas as pd\n",
        "\n",
        "kernel_quality = pd.read_csv('augmented_kernel_quality.csv')"
      ]
    },
    {
      "cell_type": "code",
      "execution_count": 5,
      "metadata": {
        "id": "plCdYGP51fm0"
      },
      "outputs": [],
      "source": [
        "kernel_quality = kernel_quality[kernel_quality['TotalViews'] >= 500]"
      ]
    },
    {
      "cell_type": "code",
      "execution_count": 6,
      "metadata": {
        "id": "7q-3m0Hi1UOR"
      },
      "outputs": [],
      "source": [
        "kernel_quality['score'] = (kernel_quality['TotalVotes'] + 1) / kernel_quality['TotalViews']"
      ]
    },
    {
      "cell_type": "code",
      "execution_count": 7,
      "metadata": {
        "id": "IiWQaZcd2-Pj"
      },
      "outputs": [],
      "source": [
        "kernel_quality.sort_values(by=['score'], inplace=True)"
      ]
    },
    {
      "cell_type": "code",
      "execution_count": 8,
      "metadata": {
        "id": "PQjJf62s3QrB"
      },
      "outputs": [],
      "source": [
        "sample_len = 10**4\n",
        "samples = pd.concat([kernel_quality.head(sample_len // 2), kernel_quality.tail(sample_len // 2)])"
      ]
    },
    {
      "cell_type": "code",
      "execution_count": 10,
      "metadata": {
        "id": "lvUlN8OPkj3i"
      },
      "outputs": [],
      "source": [
        "import json\n",
        "from kaggle import api\n",
        "import time\n",
        "\n",
        "codes = []\n",
        "markdowns = []\n",
        "errors = []\n",
        "\n",
        "for i, row in samples.iterrows():\n",
        "  try:\n",
        "    out = api.kernel_pull(row['UserName'], row['CurrentUrlSlug'])\n",
        "    src = out['blob']['source']\n",
        "    code = ' \\n '.join([x['source'] for x in json.loads(src)['cells'] if x['cell_type'] == 'code'])\n",
        "    markdown = ' \\n '.join([x['source'] for x in json.loads(src)['cells'] if x['cell_type'] == 'markdown'])\n",
        "    codes.append(code)\n",
        "    markdowns.append(markdown)\n",
        "    time.sleep(2)\n",
        "  except:\n",
        "    errors.append(i)"
      ]
    },
    {
      "cell_type": "code",
      "source": [
        "notebooks = samples.copy()\n",
        "notebooks.index = range(len(samples))\n",
        "notebooks = notebooks.drop(errors)\n",
        "notebooks['code'] = codes\n",
        "notebooks['markdown'] = markdowns"
      ],
      "metadata": {
        "id": "9nwHCPLRLdBM"
      },
      "execution_count": null,
      "outputs": []
    },
    {
      "cell_type": "code",
      "execution_count": 46,
      "metadata": {
        "id": "_BuoRoBnyOrt"
      },
      "outputs": [],
      "source": [
        "notebooks[['KernelId', 'code', 'markdown', 'score']].to_csv('10000_train_codebert.csv', index=False)"
      ]
    },
    {
      "cell_type": "code",
      "execution_count": 47,
      "metadata": {
        "id": "56Zr0ll1mKWA"
      },
      "outputs": [],
      "source": [
        "!cp 10000_train_codebert.csv drive/MyDrive/Meta_Kaggle/"
      ]
    },
    {
      "cell_type": "markdown",
      "source": [
        "# Setup training data"
      ],
      "metadata": {
        "id": "vUIuU9p2WuID"
      }
    },
    {
      "cell_type": "code",
      "source": [
        "!gdown 15jJ04nVQb3wIGih696kWaizugiyxNKj5"
      ],
      "metadata": {
        "colab": {
          "base_uri": "https://localhost:8080/"
        },
        "id": "RR0EDzUaWw2x",
        "outputId": "bef194db-70e5-4abe-c737-b7375311f923"
      },
      "execution_count": 1,
      "outputs": [
        {
          "output_type": "stream",
          "name": "stdout",
          "text": [
            "Downloading...\n",
            "From: https://drive.google.com/uc?id=15jJ04nVQb3wIGih696kWaizugiyxNKj5\n",
            "To: /content/5000_train_codebert.csv\n",
            "100% 77.1M/77.1M [00:00<00:00, 123MB/s]\n"
          ]
        }
      ]
    },
    {
      "cell_type": "code",
      "source": [
        "!gdown 1uR9olJJXEpTBEVodeuM-SEgtiMRS9czA"
      ],
      "metadata": {
        "colab": {
          "base_uri": "https://localhost:8080/"
        },
        "id": "3H3HSafiXQsH",
        "outputId": "ee0819c7-d12b-4a99-8b93-94d3072e57e2"
      },
      "execution_count": 2,
      "outputs": [
        {
          "output_type": "stream",
          "name": "stdout",
          "text": [
            "Downloading...\n",
            "From: https://drive.google.com/uc?id=1uR9olJJXEpTBEVodeuM-SEgtiMRS9czA\n",
            "To: /content/10000_train_codebert.csv\n",
            "100% 49.3M/49.3M [00:02<00:00, 21.6MB/s]\n"
          ]
        }
      ]
    },
    {
      "cell_type": "code",
      "source": [
        "import pandas as pd\n",
        "\n",
        "zeros = pd.read_csv('./10000_train_codebert.csv')\n",
        "ones = pd.read_csv('./5000_train_codebert.csv')"
      ],
      "metadata": {
        "id": "v7QIuIb0XThW"
      },
      "execution_count": 3,
      "outputs": []
    },
    {
      "cell_type": "code",
      "source": [
        "ones = ones.head(len(zeros))"
      ],
      "metadata": {
        "id": "4L1cVMR7XmN2"
      },
      "execution_count": 4,
      "outputs": []
    },
    {
      "cell_type": "code",
      "source": [
        "zeros['label'] = 0\n",
        "ones['label'] = 1"
      ],
      "metadata": {
        "id": "pFxNVrP7XoXt"
      },
      "execution_count": 5,
      "outputs": []
    },
    {
      "cell_type": "code",
      "source": [
        "df = pd.concat([zeros, ones])"
      ],
      "metadata": {
        "id": "bl9JmT_HX1yx"
      },
      "execution_count": 6,
      "outputs": []
    },
    {
      "cell_type": "code",
      "source": [
        "df.dropna(subset=['code'], inplace=True)"
      ],
      "metadata": {
        "id": "9cdMEUK_X-JU"
      },
      "execution_count": 7,
      "outputs": []
    },
    {
      "cell_type": "code",
      "source": [
        "df.fillna('', inplace=True)"
      ],
      "metadata": {
        "id": "6zSh7xTMYYgP"
      },
      "execution_count": 8,
      "outputs": []
    },
    {
      "cell_type": "markdown",
      "source": [
        "# Train Codebert"
      ],
      "metadata": {
        "id": "RbYypMWOsgjD"
      }
    },
    {
      "cell_type": "markdown",
      "source": [
        "## functions and imports"
      ],
      "metadata": {
        "id": "BZZXoAP9RF9M"
      }
    },
    {
      "cell_type": "code",
      "source": [
        "!pip install -q transformers accelerate\n",
        "!pip install datasets -q\n",
        "!pip install evaluate -q"
      ],
      "metadata": {
        "colab": {
          "base_uri": "https://localhost:8080/"
        },
        "id": "AEAZlOK1aAJf",
        "outputId": "09751894-11e4-4669-fcda-376531989afc"
      },
      "execution_count": 9,
      "outputs": [
        {
          "output_type": "stream",
          "name": "stdout",
          "text": [
            "\u001b[2K     \u001b[90m━━━━━━━━━━━━━━━━━━━━━━━━━━━━━━━━━━━━━━━━\u001b[0m \u001b[32m297.6/297.6 kB\u001b[0m \u001b[31m5.0 MB/s\u001b[0m eta \u001b[36m0:00:00\u001b[0m\n",
            "\u001b[2K     \u001b[90m━━━━━━━━━━━━━━━━━━━━━━━━━━━━━━━━━━━━━━━━\u001b[0m \u001b[32m542.0/542.0 kB\u001b[0m \u001b[31m9.3 MB/s\u001b[0m eta \u001b[36m0:00:00\u001b[0m\n",
            "\u001b[2K     \u001b[90m━━━━━━━━━━━━━━━━━━━━━━━━━━━━━━━━━━━━━━━━\u001b[0m \u001b[32m116.3/116.3 kB\u001b[0m \u001b[31m11.6 MB/s\u001b[0m eta \u001b[36m0:00:00\u001b[0m\n",
            "\u001b[2K     \u001b[90m━━━━━━━━━━━━━━━━━━━━━━━━━━━━━━━━━━━━━━━━\u001b[0m \u001b[32m194.1/194.1 kB\u001b[0m \u001b[31m16.3 MB/s\u001b[0m eta \u001b[36m0:00:00\u001b[0m\n",
            "\u001b[2K     \u001b[90m━━━━━━━━━━━━━━━━━━━━━━━━━━━━━━━━━━━━━━━━\u001b[0m \u001b[32m134.8/134.8 kB\u001b[0m \u001b[31m13.4 MB/s\u001b[0m eta \u001b[36m0:00:00\u001b[0m\n",
            "\u001b[2K     \u001b[90m━━━━━━━━━━━━━━━━━━━━━━━━━━━━━━━━━━━━━━━━\u001b[0m \u001b[32m388.9/388.9 kB\u001b[0m \u001b[31m25.0 MB/s\u001b[0m eta \u001b[36m0:00:00\u001b[0m\n",
            "\u001b[2K     \u001b[90m━━━━━━━━━━━━━━━━━━━━━━━━━━━━━━━━━━━━━━━━\u001b[0m \u001b[32m84.1/84.1 kB\u001b[0m \u001b[31m2.8 MB/s\u001b[0m eta \u001b[36m0:00:00\u001b[0m\n",
            "\u001b[?25h"
          ]
        }
      ]
    },
    {
      "cell_type": "code",
      "source": [
        "import pandas as pd\n",
        "import numpy as np\n",
        "\n",
        "import json\n",
        "import evaluate\n",
        "from datasets import Dataset, DatasetDict\n",
        "from sklearn.model_selection import train_test_split\n",
        "from sklearn.metrics import classification_report\n",
        "from transformers import AutoTokenizer, AutoModel\n",
        "import torch\n",
        "from transformers import AutoModelForSequenceClassification\n",
        "from transformers import TrainingArguments, Trainer"
      ],
      "metadata": {
        "id": "jIaCblzBZ9yt"
      },
      "execution_count": 10,
      "outputs": []
    },
    {
      "cell_type": "code",
      "source": [
        "def create_dataset(data):\n",
        "  X_train, X_eval, y_train, y_eval = train_test_split(data[['code', 'markdown']], data['label'], test_size=0.10, random_state=1)\n",
        "  X_train, X_test, y_train, y_test = train_test_split(X_train, y_train, test_size=0.25, random_state=1)\n",
        "  df_train = pd.DataFrame({'code': X_train['code'], 'markdown': X_train['markdown'], 'label': y_train})\n",
        "  df_eval = pd.DataFrame({'code': X_eval['code'], 'markdown': X_eval['markdown'], 'label': y_eval})\n",
        "  df_test = pd.DataFrame({'code': X_test['code'], 'markdown': X_test['markdown'], 'label': y_test})\n",
        "  dataset = DatasetDict({\n",
        "      \"train\": Dataset.from_pandas(df_train),\n",
        "      \"eval\": Dataset.from_pandas(df_eval),\n",
        "      \"test\": Dataset.from_pandas(df_test),\n",
        "  })\n",
        "  return dataset\n",
        "\n",
        "def tokenize_function(examples):\n",
        "  markdown_max_len = 300\n",
        "  truncated_markdown = [markdown[:markdown_max_len] for markdown in examples['markdown']]\n",
        "\n",
        "  result = tokenizer(\n",
        "      truncated_markdown,\n",
        "      examples['code'],\n",
        "      truncation=True,\n",
        "      padding='max_length',\n",
        "      return_tensors='pt',\n",
        "  )\n",
        "  return result\n",
        "\n",
        "def tokenize_dataset(dataset, tokenizer):\n",
        "  tokenized_dataset = dataset.map(tokenize_function, batched=True)\n",
        "  return tokenized_dataset\n",
        "\n",
        "def compute_metrics(eval_pred):\n",
        "  logits, labels = eval_pred\n",
        "  predictions = np.argmax(logits, axis=-1)\n",
        "  metric = evaluate.load(\"accuracy\")\n",
        "  return metric.compute(predictions=predictions, references=labels)\n",
        "\n",
        "def create_trainer(tokenized_dataset, model, num_train_epochs, logging_steps):\n",
        "  device = torch.device(\"cuda\" if torch.cuda.is_available() else \"cpu\")\n",
        "  model.to(device)\n",
        "  for param in model.roberta.parameters():\n",
        "      param.requires_grad = False\n",
        "\n",
        "  training_args = TrainingArguments(output_dir=\"test_trainer\", evaluation_strategy=\"epoch\",\n",
        "                                    num_train_epochs=num_train_epochs, log_level='debug', logging_steps=logging_steps,)\n",
        "  training_args.do_predict = True\n",
        "  training_args.do_train = True\n",
        "  training_args.do_eval = True\n",
        "  trainer = Trainer(\n",
        "    model=model,\n",
        "    args=training_args,\n",
        "    train_dataset=tokenized_dataset[\"train\"].shuffle(seed=42),\n",
        "    eval_dataset=tokenized_dataset[\"eval\"].shuffle(seed=42),\n",
        "    compute_metrics=compute_metrics,\n",
        "  )\n",
        "  return trainer"
      ],
      "metadata": {
        "id": "ANAa32sCsU-o"
      },
      "execution_count": null,
      "outputs": []
    },
    {
      "cell_type": "code",
      "source": [
        "model_name = \"microsoft/codebert-base\"\n",
        "\n",
        "tokenizer = AutoTokenizer.from_pretrained(model_name)\n",
        "model = AutoModelForSequenceClassification.from_pretrained(model_name, num_labels=2)"
      ],
      "metadata": {
        "id": "YkiQQHW2sw7U"
      },
      "execution_count": null,
      "outputs": []
    },
    {
      "cell_type": "markdown",
      "source": [
        "## Chart for accuracy precision recall f1 on test set"
      ],
      "metadata": {
        "id": "0Q6lSmWlQ4L7"
      }
    },
    {
      "cell_type": "code",
      "source": [
        "import seaborn as sns\n",
        "import matplotlib.pyplot as plt\n",
        "import pandas as pd\n",
        "\n",
        "models = ['1K', '2K', '4K', '8K', '10K',]\n",
        "accuracy =  [0.64, 0.68, 0.71, 0.71, 0.71,]\n",
        "precision = [0.62, 0.66, 0.71, 0.72, 0.71,]\n",
        "recall =    [0.64, 0.68, 0.68, 0.71, 0.72,]\n",
        "f1 =        [0.62, 0.67, 0.69, 0.71, 0.71,]\n",
        "\n",
        "data = pd.DataFrame({'Model': models * 4,\n",
        "                     'Metric': ['Accuracy'] * 5 + ['Precision'] * 5 + ['Recall'] * 5 + ['F1'] * 5,\n",
        "                     'Score': accuracy + precision + recall + f1})\n",
        "\n",
        "# Plot using Seaborn\n",
        "plt.figure(figsize=(10, 6))\n",
        "sns.barplot(x='Model', y='Score', hue='Metric', data=data, palette='Set2')\n",
        "plt.title('Performance Metrics of Training Baseline Model\\nwith Different Data Sizes Tested on Test Set')\n",
        "plt.xlabel('Models')\n",
        "plt.ylabel('Scores')\n",
        "plt.legend(title='Metrics', bbox_to_anchor=(1, 1.05), loc='upper left')\n",
        "\n",
        "plt.tight_layout()\n",
        "plt.show()\n"
      ],
      "metadata": {
        "colab": {
          "base_uri": "https://localhost:8080/",
          "height": 607
        },
        "id": "uhTU5rUhTN5p",
        "outputId": "eaf51fbe-3cae-4e45-e55a-c9cd1442c56d"
      },
      "execution_count": 4,
      "outputs": [
        {
          "output_type": "display_data",
          "data": {
            "text/plain": [
              "<Figure size 1000x600 with 1 Axes>"
            ],
            "image/png": "[encoded data removed]"
          },
          "metadata": {}
        }
      ]
    },
    {
      "cell_type": "markdown",
      "source": [
        "## Chart for accuracy precision recall f1 on GT"
      ],
      "metadata": {
        "id": "A9SBRU0kRAE0"
      }
    },
    {
      "cell_type": "code",
      "source": [
        "import seaborn as sns\n",
        "import matplotlib.pyplot as plt\n",
        "import pandas as pd\n",
        "\n",
        "models = ['1K', '2K', '4K', '8K', '10K',]\n",
        "accuracy =  [0.59, 0.60, 0.62, 0.61, 0.62,]\n",
        "precision = [0.57, 0.58, 0.62, 0.62, 0.61,]\n",
        "recall =    [0.58, 0.60, 0.60, 0.61, 0.62,]\n",
        "f1 =        [0.57, 0.59, 0.61, 0.61, 0.61,]\n",
        "\n",
        "data = pd.DataFrame({'Model': models * 4,\n",
        "                     'Metric': ['Accuracy'] * 5 + ['Precision'] * 5 + ['Recall'] * 5 + ['F1'] * 5,\n",
        "                     'Score': accuracy + precision + recall + f1})\n",
        "\n",
        "# Plot using Seaborn\n",
        "plt.figure(figsize=(10, 6))\n",
        "sns.barplot(x='Model', y='Score', hue='Metric', data=data, palette='Set2')\n",
        "plt.title('Performance Metrics of Training Baseline Model\\nwith Different Data Sizes Tested on Ground Truth')\n",
        "plt.xlabel('Models')\n",
        "plt.ylabel('Scores')\n",
        "plt.legend(title='Metrics', bbox_to_anchor=(1, 1.05), loc='upper left')\n",
        "\n",
        "plt.tight_layout()\n",
        "plt.show()\n"
      ],
      "metadata": {
        "colab": {
          "base_uri": "https://localhost:8080/",
          "height": 607
        },
        "id": "ymebwvEKQ_o7",
        "outputId": "7ab4370c-7928-464e-ec2f-6a4324e8e314"
      },
      "execution_count": 5,
      "outputs": [
        {
          "output_type": "display_data",
          "data": {
            "text/plain": [
              "<Figure size 1000x600 with 1 Axes>"
            ],
            "image/png": "[encoded data removed]"
          },
          "metadata": {}
        }
      ]
    },
    {
      "cell_type": "markdown",
      "source": [
        "## Load GT"
      ],
      "metadata": {
        "id": "v1MHd39ZPpxA"
      }
    },
    {
      "cell_type": "code",
      "source": [
        "!gdown 14tqOq2fmW90LhaCpXhRvQstqW1DI9c2S"
      ],
      "metadata": {
        "colab": {
          "base_uri": "https://localhost:8080/"
        },
        "id": "yTHblVXgo7nc",
        "outputId": "985e1030-8013-4eb3-ebf0-f4fa8f8a8007"
      },
      "execution_count": null,
      "outputs": [
        {
          "output_type": "stream",
          "name": "stdout",
          "text": [
            "Downloading...\n",
            "From: https://drive.google.com/uc?id=14tqOq2fmW90LhaCpXhRvQstqW1DI9c2S\n",
            "To: /content/1050_train_codebert.csv\n",
            "100% 15.4M/15.4M [00:00<00:00, 72.6MB/s]\n"
          ]
        }
      ]
    },
    {
      "cell_type": "code",
      "source": [
        "df_test = pd.read_csv('1050_train_codebert.csv')\n",
        "df_test.dropna(subset=['code'], inplace=True)\n",
        "df_test.fillna('', inplace=True)\n",
        "df_test.dropna(inplace=True)"
      ],
      "metadata": {
        "id": "AOaNLtdnMrWF"
      },
      "execution_count": null,
      "outputs": []
    },
    {
      "cell_type": "code",
      "source": [
        "df_test_input = pd.DataFrame({'code': df_test['code'], 'markdown': df_test['markdown'], 'label': df_test['label']})\n",
        "test_dataset = DatasetDict({\n",
        "  \"test\": Dataset.from_pandas(df_test_input),\n",
        "})\n",
        "\n",
        "tokenized_test_dataset = tokenize_dataset(test_dataset, tokenizer)"
      ],
      "metadata": {
        "id": "9Cl59oxSM0iJ"
      },
      "execution_count": null,
      "outputs": []
    },
    {
      "cell_type": "markdown",
      "source": [
        "## Train with 1k samples"
      ],
      "metadata": {
        "id": "ZidvgBTxsnwZ"
      }
    },
    {
      "cell_type": "code",
      "source": [
        "data = df.sample(1000)\n",
        "dataset = create_dataset(data)\n",
        "tokenized_dataset = tokenize_dataset(dataset, tokenizer)\n",
        "trainer = create_trainer(tokenized_dataset, model, 10, 10)"
      ],
      "metadata": {
        "id": "10ctRETtspyS"
      },
      "execution_count": null,
      "outputs": []
    },
    {
      "cell_type": "code",
      "source": [
        "train_result = trainer.train()"
      ],
      "metadata": {
        "colab": {
          "base_uri": "https://localhost:8080/",
          "height": 1000
        },
        "id": "1qzvtp9-appb",
        "outputId": "6f425aa9-8cdd-473f-a6aa-9c09defa9e49"
      },
      "execution_count": 44,
      "outputs": [
        {
          "output_type": "stream",
          "name": "stderr",
          "text": [
            "Currently training with a batch size of: 8\n",
            "The following columns in the training set don't have a corresponding argument in `RobertaForSequenceClassification.forward` and have been ignored: code, markdown, __index_level_0__. If code, markdown, __index_level_0__ are not expected by `RobertaForSequenceClassification.forward`,  you can safely ignore this message.\n",
            "***** Running training *****\n",
            "  Num examples = 675\n",
            "  Num Epochs = 10\n",
            "  Instantaneous batch size per device = 8\n",
            "  Total train batch size (w. parallel, distributed & accumulation) = 8\n",
            "  Gradient Accumulation steps = 1\n",
            "  Total optimization steps = 850\n",
            "  Number of trainable parameters = 592,130\n"
          ]
        },
        {
          "output_type": "display_data",
          "data": {
            "text/plain": [
              "<IPython.core.display.HTML object>"
            ],
            "text/html": [
              "\n",
              "    <div>\n",
              "      \n",
              "      <progress value='850' max='850' style='width:300px; height:20px; vertical-align: middle;'></progress>\n",
              "      [850/850 04:38, Epoch 10/10]\n",
              "    </div>\n",
              "    <table border=\"1\" class=\"dataframe\">\n",
              "  <thead>\n",
              " <tr style=\"text-align: left;\">\n",
              "      <th>Epoch</th>\n",
              "      <th>Training Loss</th>\n",
              "      <th>Validation Loss</th>\n",
              "      <th>Accuracy</th>\n",
              "    </tr>\n",
              "  </thead>\n",
              "  <tbody>\n",
              "    <tr>\n",
              "      <td>1</td>\n",
              "      <td>0.692500</td>\n",
              "      <td>0.676775</td>\n",
              "      <td>0.580000</td>\n",
              "    </tr>\n",
              "    <tr>\n",
              "      <td>2</td>\n",
              "      <td>0.690400</td>\n",
              "      <td>0.725250</td>\n",
              "      <td>0.420000</td>\n",
              "    </tr>\n",
              "    <tr>\n",
              "      <td>3</td>\n",
              "      <td>0.702100</td>\n",
              "      <td>0.668008</td>\n",
              "      <td>0.600000</td>\n",
              "    </tr>\n",
              "    <tr>\n",
              "      <td>4</td>\n",
              "      <td>0.681000</td>\n",
              "      <td>0.679526</td>\n",
              "      <td>0.630000</td>\n",
              "    </tr>\n",
              "    <tr>\n",
              "      <td>5</td>\n",
              "      <td>0.664200</td>\n",
              "      <td>0.706550</td>\n",
              "      <td>0.420000</td>\n",
              "    </tr>\n",
              "    <tr>\n",
              "      <td>6</td>\n",
              "      <td>0.681600</td>\n",
              "      <td>0.659093</td>\n",
              "      <td>0.630000</td>\n",
              "    </tr>\n",
              "    <tr>\n",
              "      <td>7</td>\n",
              "      <td>0.666700</td>\n",
              "      <td>0.673682</td>\n",
              "      <td>0.660000</td>\n",
              "    </tr>\n",
              "    <tr>\n",
              "      <td>8</td>\n",
              "      <td>0.655700</td>\n",
              "      <td>0.671386</td>\n",
              "      <td>0.670000</td>\n",
              "    </tr>\n",
              "    <tr>\n",
              "      <td>9</td>\n",
              "      <td>0.672200</td>\n",
              "      <td>0.675498</td>\n",
              "      <td>0.600000</td>\n",
              "    </tr>\n",
              "    <tr>\n",
              "      <td>10</td>\n",
              "      <td>0.650500</td>\n",
              "      <td>0.674204</td>\n",
              "      <td>0.630000</td>\n",
              "    </tr>\n",
              "  </tbody>\n",
              "</table><p>"
            ]
          },
          "metadata": {}
        },
        {
          "output_type": "stream",
          "name": "stderr",
          "text": [
            "The following columns in the evaluation set don't have a corresponding argument in `RobertaForSequenceClassification.forward` and have been ignored: code, markdown, __index_level_0__. If code, markdown, __index_level_0__ are not expected by `RobertaForSequenceClassification.forward`,  you can safely ignore this message.\n",
            "***** Running Evaluation *****\n",
            "  Num examples = 100\n",
            "  Batch size = 8\n",
            "The following columns in the evaluation set don't have a corresponding argument in `RobertaForSequenceClassification.forward` and have been ignored: code, markdown, __index_level_0__. If code, markdown, __index_level_0__ are not expected by `RobertaForSequenceClassification.forward`,  you can safely ignore this message.\n",
            "***** Running Evaluation *****\n",
            "  Num examples = 100\n",
            "  Batch size = 8\n",
            "The following columns in the evaluation set don't have a corresponding argument in `RobertaForSequenceClassification.forward` and have been ignored: code, markdown, __index_level_0__. If code, markdown, __index_level_0__ are not expected by `RobertaForSequenceClassification.forward`,  you can safely ignore this message.\n",
            "***** Running Evaluation *****\n",
            "  Num examples = 100\n",
            "  Batch size = 8\n",
            "The following columns in the evaluation set don't have a corresponding argument in `RobertaForSequenceClassification.forward` and have been ignored: code, markdown, __index_level_0__. If code, markdown, __index_level_0__ are not expected by `RobertaForSequenceClassification.forward`,  you can safely ignore this message.\n",
            "***** Running Evaluation *****\n",
            "  Num examples = 100\n",
            "  Batch size = 8\n",
            "The following columns in the evaluation set don't have a corresponding argument in `RobertaForSequenceClassification.forward` and have been ignored: code, markdown, __index_level_0__. If code, markdown, __index_level_0__ are not expected by `RobertaForSequenceClassification.forward`,  you can safely ignore this message.\n",
            "***** Running Evaluation *****\n",
            "  Num examples = 100\n",
            "  Batch size = 8\n",
            "Checkpoint destination directory test_trainer/checkpoint-500 already exists and is non-empty. Saving will proceed but saved results may be invalid.\n",
            "Saving model checkpoint to test_trainer/checkpoint-500\n",
            "Configuration saved in test_trainer/checkpoint-500/config.json\n",
            "Model weights saved in test_trainer/checkpoint-500/model.safetensors\n",
            "The following columns in the evaluation set don't have a corresponding argument in `RobertaForSequenceClassification.forward` and have been ignored: code, markdown, __index_level_0__. If code, markdown, __index_level_0__ are not expected by `RobertaForSequenceClassification.forward`,  you can safely ignore this message.\n",
            "***** Running Evaluation *****\n",
            "  Num examples = 100\n",
            "  Batch size = 8\n",
            "The following columns in the evaluation set don't have a corresponding argument in `RobertaForSequenceClassification.forward` and have been ignored: code, markdown, __index_level_0__. If code, markdown, __index_level_0__ are not expected by `RobertaForSequenceClassification.forward`,  you can safely ignore this message.\n",
            "***** Running Evaluation *****\n",
            "  Num examples = 100\n",
            "  Batch size = 8\n",
            "The following columns in the evaluation set don't have a corresponding argument in `RobertaForSequenceClassification.forward` and have been ignored: code, markdown, __index_level_0__. If code, markdown, __index_level_0__ are not expected by `RobertaForSequenceClassification.forward`,  you can safely ignore this message.\n",
            "***** Running Evaluation *****\n",
            "  Num examples = 100\n",
            "  Batch size = 8\n",
            "The following columns in the evaluation set don't have a corresponding argument in `RobertaForSequenceClassification.forward` and have been ignored: code, markdown, __index_level_0__. If code, markdown, __index_level_0__ are not expected by `RobertaForSequenceClassification.forward`,  you can safely ignore this message.\n",
            "***** Running Evaluation *****\n",
            "  Num examples = 100\n",
            "  Batch size = 8\n",
            "The following columns in the evaluation set don't have a corresponding argument in `RobertaForSequenceClassification.forward` and have been ignored: code, markdown, __index_level_0__. If code, markdown, __index_level_0__ are not expected by `RobertaForSequenceClassification.forward`,  you can safely ignore this message.\n",
            "***** Running Evaluation *****\n",
            "  Num examples = 100\n",
            "  Batch size = 8\n",
            "\n",
            "\n",
            "Training completed. Do not forget to share your model on huggingface.co/models =)\n",
            "\n",
            "\n"
          ]
        }
      ]
    },
    {
      "cell_type": "code",
      "source": [
        "metrics = train_result.metrics\n",
        "trainer.save_model()  # Saves the tokenizer too for easy upload\n",
        "\n",
        "trainer.log_metrics(\"train\", metrics)\n",
        "trainer.save_metrics(\"train\", metrics)\n",
        "trainer.save_state()"
      ],
      "metadata": {
        "colab": {
          "base_uri": "https://localhost:8080/"
        },
        "id": "z8sgJV87astA",
        "outputId": "b407855b-b658-489d-c02a-4c1294492cfc"
      },
      "execution_count": 45,
      "outputs": [
        {
          "output_type": "stream",
          "name": "stderr",
          "text": [
            "Saving model checkpoint to test_trainer\n",
            "Configuration saved in test_trainer/config.json\n",
            "Model weights saved in test_trainer/model.safetensors\n"
          ]
        },
        {
          "output_type": "stream",
          "name": "stdout",
          "text": [
            "***** train metrics *****\n",
            "  epoch                    =       10.0\n",
            "  total_flos               =  1654028GF\n",
            "  train_loss               =     0.6817\n",
            "  train_runtime            = 0:04:38.69\n",
            "  train_samples_per_second =      24.22\n",
            "  train_steps_per_second   =       3.05\n"
          ]
        }
      ]
    },
    {
      "cell_type": "code",
      "source": [
        "# Evaluation\n",
        "\n",
        "metrics = trainer.evaluate(eval_dataset=tokenized_dataset[\"eval\"].shuffle(seed=42))\n",
        "\n",
        "trainer.log_metrics(\"eval\", metrics)\n",
        "trainer.save_metrics(\"eval\", metrics)"
      ],
      "metadata": {
        "colab": {
          "base_uri": "https://localhost:8080/",
          "height": 257
        },
        "id": "h2FFgV0las--",
        "outputId": "267b6fa3-67fa-41ef-b504-0e9ff4793afd"
      },
      "execution_count": 46,
      "outputs": [
        {
          "output_type": "stream",
          "name": "stderr",
          "text": [
            "The following columns in the evaluation set don't have a corresponding argument in `RobertaForSequenceClassification.forward` and have been ignored: code, markdown, __index_level_0__. If code, markdown, __index_level_0__ are not expected by `RobertaForSequenceClassification.forward`,  you can safely ignore this message.\n",
            "***** Running Evaluation *****\n",
            "  Num examples = 100\n",
            "  Batch size = 8\n"
          ]
        },
        {
          "output_type": "display_data",
          "data": {
            "text/plain": [
              "<IPython.core.display.HTML object>"
            ],
            "text/html": [
              "\n",
              "    <div>\n",
              "      \n",
              "      <progress value='13' max='13' style='width:300px; height:20px; vertical-align: middle;'></progress>\n",
              "      [13/13 00:03]\n",
              "    </div>\n",
              "    "
            ]
          },
          "metadata": {}
        },
        {
          "output_type": "stream",
          "name": "stdout",
          "text": [
            "***** eval metrics *****\n",
            "  epoch                   =       10.0\n",
            "  eval_accuracy           =       0.63\n",
            "  eval_loss               =     0.6742\n",
            "  eval_runtime            = 0:00:03.35\n",
            "  eval_samples_per_second =     29.786\n",
            "  eval_steps_per_second   =      3.872\n"
          ]
        }
      ]
    },
    {
      "cell_type": "code",
      "source": [
        "# Prediction\n",
        "\n",
        "predictions, labels, metrics = trainer.predict(tokenized_dataset[\"test\"], metric_key_prefix=\"predict\")\n",
        "\n",
        "trainer.log_metrics(\"predict\", metrics)\n",
        "trainer.save_metrics(\"predict\", metrics)\n",
        "\n",
        "predictions = np.argmax(predictions, axis=1)"
      ],
      "metadata": {
        "colab": {
          "base_uri": "https://localhost:8080/",
          "height": 218
        },
        "id": "6vd64yb9auAW",
        "outputId": "148fbdda-ec77-433c-8471-c6a0ae70adac"
      },
      "execution_count": 47,
      "outputs": [
        {
          "output_type": "stream",
          "name": "stderr",
          "text": [
            "The following columns in the test set don't have a corresponding argument in `RobertaForSequenceClassification.forward` and have been ignored: code, markdown, __index_level_0__. If code, markdown, __index_level_0__ are not expected by `RobertaForSequenceClassification.forward`,  you can safely ignore this message.\n",
            "***** Running Prediction *****\n",
            "  Num examples = 225\n",
            "  Batch size = 8\n"
          ]
        },
        {
          "output_type": "display_data",
          "data": {
            "text/plain": [
              "<IPython.core.display.HTML object>"
            ],
            "text/html": []
          },
          "metadata": {}
        },
        {
          "output_type": "stream",
          "name": "stdout",
          "text": [
            "***** predict metrics *****\n",
            "  predict_accuracy           =       0.64\n",
            "  predict_loss               =     0.6621\n",
            "  predict_runtime            = 0:00:07.79\n",
            "  predict_samples_per_second =     28.847\n",
            "  predict_steps_per_second   =      3.718\n"
          ]
        }
      ]
    },
    {
      "cell_type": "code",
      "source": [
        "print(classification_report(predictions, labels, labels=[0, 1]))"
      ],
      "metadata": {
        "colab": {
          "base_uri": "https://localhost:8080/"
        },
        "id": "VYGCRqgvavBQ",
        "outputId": "f12cb916-d3bf-4b71-fc50-4557b0604e8e"
      },
      "execution_count": 48,
      "outputs": [
        {
          "output_type": "stream",
          "name": "stdout",
          "text": [
            "              precision    recall  f1-score   support\n",
            "\n",
            "           0       0.46      0.64      0.53        72\n",
            "           1       0.79      0.64      0.71       153\n",
            "\n",
            "    accuracy                           0.64       225\n",
            "   macro avg       0.62      0.64      0.62       225\n",
            "weighted avg       0.68      0.64      0.65       225\n",
            "\n"
          ]
        }
      ]
    },
    {
      "cell_type": "markdown",
      "source": [
        "## Train with 2k samples"
      ],
      "metadata": {
        "id": "IJ6KqqfPvILP"
      }
    },
    {
      "cell_type": "code",
      "source": [
        "data = df.sample(2000)\n",
        "dataset = create_dataset(data)\n",
        "tokenized_dataset = tokenize_dataset(dataset, tokenizer)\n",
        "trainer = create_trainer(tokenized_dataset, model, 10, 10)"
      ],
      "metadata": {
        "id": "FIefw5GU8MVs"
      },
      "execution_count": null,
      "outputs": []
    },
    {
      "cell_type": "code",
      "source": [
        "train_result = trainer.train()"
      ],
      "metadata": {
        "colab": {
          "base_uri": "https://localhost:8080/",
          "height": 1000,
          "referenced_widgets": [
            "a8217906742a4a288280654e0d038082",
            "20b8849626d94f709fb9e33c195cc519",
            "22be0b89bf464b3e957a4b6f7929778e",
            "79863b216774407dbd255892723b94b8",
            "d6e6390eea474faa8dfc3610d8f4ce19",
            "a877d22e6cf8408db522fb424c35760a",
            "88fbd91d45304b42b2a1b4d5dff4ad92",
            "d79193961099446b8296f070019e1091",
            "91c3e1de89cc4270beefbf0addb2df1a",
            "37c2b69483d24ac5bd6e454d0d55b53b",
            "0c29de6b5a054459bd756b83c222a997"
          ]
        },
        "id": "xFBrE_k4-rph",
        "outputId": "6b54aecb-6123-4b7f-b9f9-77e9c02d3f2c"
      },
      "execution_count": null,
      "outputs": [
        {
          "output_type": "stream",
          "name": "stderr",
          "text": [
            "Currently training with a batch size of: 8\n",
            "The following columns in the training set don't have a corresponding argument in `RobertaForSequenceClassification.forward` and have been ignored: __index_level_0__, code, markdown. If __index_level_0__, code, markdown are not expected by `RobertaForSequenceClassification.forward`,  you can safely ignore this message.\n",
            "***** Running training *****\n",
            "  Num examples = 1,350\n",
            "  Num Epochs = 10\n",
            "  Instantaneous batch size per device = 8\n",
            "  Total train batch size (w. parallel, distributed & accumulation) = 8\n",
            "  Gradient Accumulation steps = 1\n",
            "  Total optimization steps = 1,690\n",
            "  Number of trainable parameters = 592,130\n"
          ]
        },
        {
          "output_type": "display_data",
          "data": {
            "text/plain": [
              "<IPython.core.display.HTML object>"
            ],
            "text/html": [
              "\n",
              "    <div>\n",
              "      \n",
              "      <progress value='1690' max='1690' style='width:300px; height:20px; vertical-align: middle;'></progress>\n",
              "      [1690/1690 09:19, Epoch 10/10]\n",
              "    </div>\n",
              "    <table border=\"1\" class=\"dataframe\">\n",
              "  <thead>\n",
              " <tr style=\"text-align: left;\">\n",
              "      <th>Epoch</th>\n",
              "      <th>Training Loss</th>\n",
              "      <th>Validation Loss</th>\n",
              "      <th>Accuracy</th>\n",
              "    </tr>\n",
              "  </thead>\n",
              "  <tbody>\n",
              "    <tr>\n",
              "      <td>1</td>\n",
              "      <td>0.689400</td>\n",
              "      <td>0.704932</td>\n",
              "      <td>0.445000</td>\n",
              "    </tr>\n",
              "    <tr>\n",
              "      <td>2</td>\n",
              "      <td>0.685000</td>\n",
              "      <td>0.675178</td>\n",
              "      <td>0.555000</td>\n",
              "    </tr>\n",
              "    <tr>\n",
              "      <td>3</td>\n",
              "      <td>0.680200</td>\n",
              "      <td>0.661891</td>\n",
              "      <td>0.665000</td>\n",
              "    </tr>\n",
              "    <tr>\n",
              "      <td>4</td>\n",
              "      <td>0.659300</td>\n",
              "      <td>0.667012</td>\n",
              "      <td>0.640000</td>\n",
              "    </tr>\n",
              "    <tr>\n",
              "      <td>5</td>\n",
              "      <td>0.645700</td>\n",
              "      <td>0.647279</td>\n",
              "      <td>0.635000</td>\n",
              "    </tr>\n",
              "    <tr>\n",
              "      <td>6</td>\n",
              "      <td>0.676200</td>\n",
              "      <td>0.644324</td>\n",
              "      <td>0.590000</td>\n",
              "    </tr>\n",
              "    <tr>\n",
              "      <td>7</td>\n",
              "      <td>0.647600</td>\n",
              "      <td>0.652114</td>\n",
              "      <td>0.655000</td>\n",
              "    </tr>\n",
              "    <tr>\n",
              "      <td>8</td>\n",
              "      <td>0.629100</td>\n",
              "      <td>0.642429</td>\n",
              "      <td>0.670000</td>\n",
              "    </tr>\n",
              "    <tr>\n",
              "      <td>9</td>\n",
              "      <td>0.645200</td>\n",
              "      <td>0.638015</td>\n",
              "      <td>0.670000</td>\n",
              "    </tr>\n",
              "    <tr>\n",
              "      <td>10</td>\n",
              "      <td>0.656600</td>\n",
              "      <td>0.639712</td>\n",
              "      <td>0.675000</td>\n",
              "    </tr>\n",
              "  </tbody>\n",
              "</table><p>"
            ]
          },
          "metadata": {}
        },
        {
          "output_type": "stream",
          "name": "stderr",
          "text": [
            "The following columns in the evaluation set don't have a corresponding argument in `RobertaForSequenceClassification.forward` and have been ignored: __index_level_0__, code, markdown. If __index_level_0__, code, markdown are not expected by `RobertaForSequenceClassification.forward`,  you can safely ignore this message.\n",
            "***** Running Evaluation *****\n",
            "  Num examples = 200\n",
            "  Batch size = 8\n"
          ]
        },
        {
          "output_type": "display_data",
          "data": {
            "text/plain": [
              "Downloading builder script:   0%|          | 0.00/4.20k [00:00<?, ?B/s]"
            ],
            "application/vnd.jupyter.widget-view+json": {
              "version_major": 2,
              "version_minor": 0,
              "model_id": "a8217906742a4a288280654e0d038082"
            }
          },
          "metadata": {}
        },
        {
          "output_type": "stream",
          "name": "stderr",
          "text": [
            "The following columns in the evaluation set don't have a corresponding argument in `RobertaForSequenceClassification.forward` and have been ignored: __index_level_0__, code, markdown. If __index_level_0__, code, markdown are not expected by `RobertaForSequenceClassification.forward`,  you can safely ignore this message.\n",
            "***** Running Evaluation *****\n",
            "  Num examples = 200\n",
            "  Batch size = 8\n",
            "Saving model checkpoint to test_trainer/tmp-checkpoint-500\n",
            "Configuration saved in test_trainer/tmp-checkpoint-500/config.json\n",
            "Model weights saved in test_trainer/tmp-checkpoint-500/model.safetensors\n",
            "The following columns in the evaluation set don't have a corresponding argument in `RobertaForSequenceClassification.forward` and have been ignored: __index_level_0__, code, markdown. If __index_level_0__, code, markdown are not expected by `RobertaForSequenceClassification.forward`,  you can safely ignore this message.\n",
            "***** Running Evaluation *****\n",
            "  Num examples = 200\n",
            "  Batch size = 8\n",
            "The following columns in the evaluation set don't have a corresponding argument in `RobertaForSequenceClassification.forward` and have been ignored: __index_level_0__, code, markdown. If __index_level_0__, code, markdown are not expected by `RobertaForSequenceClassification.forward`,  you can safely ignore this message.\n",
            "***** Running Evaluation *****\n",
            "  Num examples = 200\n",
            "  Batch size = 8\n",
            "The following columns in the evaluation set don't have a corresponding argument in `RobertaForSequenceClassification.forward` and have been ignored: __index_level_0__, code, markdown. If __index_level_0__, code, markdown are not expected by `RobertaForSequenceClassification.forward`,  you can safely ignore this message.\n",
            "***** Running Evaluation *****\n",
            "  Num examples = 200\n",
            "  Batch size = 8\n",
            "Saving model checkpoint to test_trainer/tmp-checkpoint-1000\n",
            "Configuration saved in test_trainer/tmp-checkpoint-1000/config.json\n",
            "Model weights saved in test_trainer/tmp-checkpoint-1000/model.safetensors\n",
            "The following columns in the evaluation set don't have a corresponding argument in `RobertaForSequenceClassification.forward` and have been ignored: __index_level_0__, code, markdown. If __index_level_0__, code, markdown are not expected by `RobertaForSequenceClassification.forward`,  you can safely ignore this message.\n",
            "***** Running Evaluation *****\n",
            "  Num examples = 200\n",
            "  Batch size = 8\n",
            "The following columns in the evaluation set don't have a corresponding argument in `RobertaForSequenceClassification.forward` and have been ignored: __index_level_0__, code, markdown. If __index_level_0__, code, markdown are not expected by `RobertaForSequenceClassification.forward`,  you can safely ignore this message.\n",
            "***** Running Evaluation *****\n",
            "  Num examples = 200\n",
            "  Batch size = 8\n",
            "The following columns in the evaluation set don't have a corresponding argument in `RobertaForSequenceClassification.forward` and have been ignored: __index_level_0__, code, markdown. If __index_level_0__, code, markdown are not expected by `RobertaForSequenceClassification.forward`,  you can safely ignore this message.\n",
            "***** Running Evaluation *****\n",
            "  Num examples = 200\n",
            "  Batch size = 8\n",
            "Saving model checkpoint to test_trainer/tmp-checkpoint-1500\n",
            "Configuration saved in test_trainer/tmp-checkpoint-1500/config.json\n",
            "Model weights saved in test_trainer/tmp-checkpoint-1500/model.safetensors\n",
            "The following columns in the evaluation set don't have a corresponding argument in `RobertaForSequenceClassification.forward` and have been ignored: __index_level_0__, code, markdown. If __index_level_0__, code, markdown are not expected by `RobertaForSequenceClassification.forward`,  you can safely ignore this message.\n",
            "***** Running Evaluation *****\n",
            "  Num examples = 200\n",
            "  Batch size = 8\n",
            "The following columns in the evaluation set don't have a corresponding argument in `RobertaForSequenceClassification.forward` and have been ignored: __index_level_0__, code, markdown. If __index_level_0__, code, markdown are not expected by `RobertaForSequenceClassification.forward`,  you can safely ignore this message.\n",
            "***** Running Evaluation *****\n",
            "  Num examples = 200\n",
            "  Batch size = 8\n",
            "\n",
            "\n",
            "Training completed. Do not forget to share your model on huggingface.co/models =)\n",
            "\n",
            "\n"
          ]
        }
      ]
    },
    {
      "cell_type": "code",
      "source": [
        "metrics = train_result.metrics\n",
        "trainer.save_model()  # Saves the tokenizer too for easy upload\n",
        "\n",
        "trainer.log_metrics(\"train\", metrics)\n",
        "trainer.save_metrics(\"train\", metrics)\n",
        "trainer.save_state()\n",
        "\n",
        "# Evaluation\n",
        "\n",
        "metrics = trainer.evaluate(eval_dataset=tokenized_dataset[\"eval\"].shuffle(seed=42))\n",
        "\n",
        "trainer.log_metrics(\"eval\", metrics)\n",
        "trainer.save_metrics(\"eval\", metrics)\n",
        "\n",
        "# Prediction\n",
        "\n",
        "predictions, labels, metrics = trainer.predict(tokenized_dataset[\"test\"], metric_key_prefix=\"predict\")\n",
        "\n",
        "trainer.log_metrics(\"predict\", metrics)\n",
        "trainer.save_metrics(\"predict\", metrics)\n",
        "\n",
        "predictions = np.argmax(predictions, axis=1)\n",
        "\n",
        "print(classification_report(predictions, labels, labels=[0, 1]))"
      ],
      "metadata": {
        "colab": {
          "base_uri": "https://localhost:8080/",
          "height": 762
        },
        "id": "fufpOv5m-uT8",
        "outputId": "64b9c732-259d-401e-a76b-75d2cf8d21c9"
      },
      "execution_count": null,
      "outputs": [
        {
          "output_type": "stream",
          "name": "stderr",
          "text": [
            "Saving model checkpoint to test_trainer\n",
            "Configuration saved in test_trainer/config.json\n",
            "Model weights saved in test_trainer/model.safetensors\n",
            "The following columns in the evaluation set don't have a corresponding argument in `RobertaForSequenceClassification.forward` and have been ignored: __index_level_0__, code, markdown. If __index_level_0__, code, markdown are not expected by `RobertaForSequenceClassification.forward`,  you can safely ignore this message.\n",
            "***** Running Evaluation *****\n",
            "  Num examples = 200\n",
            "  Batch size = 8\n"
          ]
        },
        {
          "output_type": "stream",
          "name": "stdout",
          "text": [
            "***** train metrics *****\n",
            "  epoch                    =       10.0\n",
            "  total_flos               =  3308057GF\n",
            "  train_loss               =     0.6638\n",
            "  train_runtime            = 0:09:22.65\n",
            "  train_samples_per_second =     23.993\n",
            "  train_steps_per_second   =      3.004\n"
          ]
        },
        {
          "output_type": "display_data",
          "data": {
            "text/plain": [
              "<IPython.core.display.HTML object>"
            ],
            "text/html": []
          },
          "metadata": {}
        },
        {
          "output_type": "stream",
          "name": "stderr",
          "text": [
            "The following columns in the test set don't have a corresponding argument in `RobertaForSequenceClassification.forward` and have been ignored: __index_level_0__, code, markdown. If __index_level_0__, code, markdown are not expected by `RobertaForSequenceClassification.forward`,  you can safely ignore this message.\n",
            "***** Running Prediction *****\n",
            "  Num examples = 450\n",
            "  Batch size = 8\n"
          ]
        },
        {
          "output_type": "stream",
          "name": "stdout",
          "text": [
            "***** eval metrics *****\n",
            "  epoch                   =       10.0\n",
            "  eval_accuracy           =      0.675\n",
            "  eval_loss               =     0.6397\n",
            "  eval_runtime            = 0:00:07.60\n",
            "  eval_samples_per_second =     26.308\n",
            "  eval_steps_per_second   =      3.289\n",
            "***** predict metrics *****\n",
            "  predict_accuracy           =     0.6844\n",
            "  predict_loss               =     0.6351\n",
            "  predict_runtime            = 0:00:16.00\n",
            "  predict_samples_per_second =     28.109\n",
            "  predict_steps_per_second   =       3.56\n",
            "              precision    recall  f1-score   support\n",
            "\n",
            "           0       0.70      0.71      0.71       240\n",
            "           1       0.67      0.65      0.66       210\n",
            "\n",
            "    accuracy                           0.68       450\n",
            "   macro avg       0.68      0.68      0.68       450\n",
            "weighted avg       0.68      0.68      0.68       450\n",
            "\n"
          ]
        }
      ]
    },
    {
      "cell_type": "markdown",
      "source": [
        "### Test with GT"
      ],
      "metadata": {
        "id": "Xgzf0SGwMqBr"
      }
    },
    {
      "cell_type": "code",
      "source": [
        "predictions, labels, metrics = trainer.predict(tokenized_test_dataset['test'], metric_key_prefix=\"predict\")\n",
        "\n",
        "trainer.log_metrics(\"predict\", metrics)\n",
        "trainer.save_metrics(\"predict\", metrics)\n",
        "\n",
        "predictions = np.argmax(predictions, axis=1)"
      ],
      "metadata": {
        "colab": {
          "base_uri": "https://localhost:8080/",
          "height": 218
        },
        "id": "l6xSoj0-qHhy",
        "outputId": "ab8a1db1-d383-4e6e-d8a0-b77e8a14f009"
      },
      "execution_count": null,
      "outputs": [
        {
          "output_type": "stream",
          "name": "stderr",
          "text": [
            "The following columns in the test set don't have a corresponding argument in `RobertaForSequenceClassification.forward` and have been ignored: __index_level_0__, code, markdown. If __index_level_0__, code, markdown are not expected by `RobertaForSequenceClassification.forward`,  you can safely ignore this message.\n",
            "***** Running Prediction *****\n",
            "  Num examples = 991\n",
            "  Batch size = 8\n"
          ]
        },
        {
          "output_type": "display_data",
          "data": {
            "text/plain": [
              "<IPython.core.display.HTML object>"
            ],
            "text/html": []
          },
          "metadata": {}
        },
        {
          "output_type": "stream",
          "name": "stdout",
          "text": [
            "***** predict metrics *****\n",
            "  predict_accuracy           =     0.5954\n",
            "  predict_loss               =     0.6642\n",
            "  predict_runtime            = 0:00:36.60\n",
            "  predict_samples_per_second =     27.076\n",
            "  predict_steps_per_second   =      3.388\n"
          ]
        }
      ]
    },
    {
      "cell_type": "code",
      "source": [
        "print(classification_report(predictions, labels, labels=[0, 1]))"
      ],
      "metadata": {
        "colab": {
          "base_uri": "https://localhost:8080/"
        },
        "id": "IZJgt0rUqeFx",
        "outputId": "40cbf3d3-c8e1-4ce4-de54-c9883340ae70"
      },
      "execution_count": null,
      "outputs": [
        {
          "output_type": "stream",
          "name": "stdout",
          "text": [
            "              precision    recall  f1-score   support\n",
            "\n",
            "           0       0.56      0.61      0.58       465\n",
            "           1       0.63      0.59      0.61       526\n",
            "\n",
            "    accuracy                           0.60       991\n",
            "   macro avg       0.60      0.60      0.60       991\n",
            "weighted avg       0.60      0.60      0.60       991\n",
            "\n"
          ]
        }
      ]
    },
    {
      "cell_type": "markdown",
      "source": [
        "## Train with 4k samples"
      ],
      "metadata": {
        "id": "Q95XYQfjNLKh"
      }
    },
    {
      "cell_type": "code",
      "source": [
        "data = df.sample(4000)\n",
        "dataset = create_dataset(data)\n",
        "tokenized_dataset = tokenize_dataset(dataset, tokenizer)\n",
        "trainer = create_trainer(tokenized_dataset, model, 10, 10)"
      ],
      "metadata": {
        "id": "kF6t0hJnNOn4"
      },
      "execution_count": null,
      "outputs": []
    },
    {
      "cell_type": "code",
      "source": [
        "train_result = trainer.train()"
      ],
      "metadata": {
        "colab": {
          "base_uri": "https://localhost:8080/",
          "height": 1000
        },
        "id": "NTQ3u7D0T_yG",
        "outputId": "f015a70d-ae2d-4224-aea4-e57747c7048c"
      },
      "execution_count": null,
      "outputs": [
        {
          "output_type": "stream",
          "name": "stderr",
          "text": [
            "Currently training with a batch size of: 8\n",
            "The following columns in the training set don't have a corresponding argument in `RobertaForSequenceClassification.forward` and have been ignored: __index_level_0__, code, markdown. If __index_level_0__, code, markdown are not expected by `RobertaForSequenceClassification.forward`,  you can safely ignore this message.\n",
            "***** Running training *****\n",
            "  Num examples = 2,700\n",
            "  Num Epochs = 10\n",
            "  Instantaneous batch size per device = 8\n",
            "  Total train batch size (w. parallel, distributed & accumulation) = 8\n",
            "  Gradient Accumulation steps = 1\n",
            "  Total optimization steps = 3,380\n",
            "  Number of trainable parameters = 592,130\n"
          ]
        },
        {
          "output_type": "display_data",
          "data": {
            "text/plain": [
              "<IPython.core.display.HTML object>"
            ],
            "text/html": [
              "\n",
              "    <div>\n",
              "      \n",
              "      <progress value='3380' max='3380' style='width:300px; height:20px; vertical-align: middle;'></progress>\n",
              "      [3380/3380 18:50, Epoch 10/10]\n",
              "    </div>\n",
              "    <table border=\"1\" class=\"dataframe\">\n",
              "  <thead>\n",
              " <tr style=\"text-align: left;\">\n",
              "      <th>Epoch</th>\n",
              "      <th>Training Loss</th>\n",
              "      <th>Validation Loss</th>\n",
              "      <th>Accuracy</th>\n",
              "    </tr>\n",
              "  </thead>\n",
              "  <tbody>\n",
              "    <tr>\n",
              "      <td>1</td>\n",
              "      <td>0.672800</td>\n",
              "      <td>0.671799</td>\n",
              "      <td>0.522500</td>\n",
              "    </tr>\n",
              "    <tr>\n",
              "      <td>2</td>\n",
              "      <td>0.644700</td>\n",
              "      <td>0.647652</td>\n",
              "      <td>0.662500</td>\n",
              "    </tr>\n",
              "    <tr>\n",
              "      <td>3</td>\n",
              "      <td>0.688100</td>\n",
              "      <td>0.648802</td>\n",
              "      <td>0.592500</td>\n",
              "    </tr>\n",
              "    <tr>\n",
              "      <td>4</td>\n",
              "      <td>0.711300</td>\n",
              "      <td>0.626143</td>\n",
              "      <td>0.655000</td>\n",
              "    </tr>\n",
              "    <tr>\n",
              "      <td>5</td>\n",
              "      <td>0.668600</td>\n",
              "      <td>0.613160</td>\n",
              "      <td>0.670000</td>\n",
              "    </tr>\n",
              "    <tr>\n",
              "      <td>6</td>\n",
              "      <td>0.623700</td>\n",
              "      <td>0.604414</td>\n",
              "      <td>0.690000</td>\n",
              "    </tr>\n",
              "    <tr>\n",
              "      <td>7</td>\n",
              "      <td>0.629300</td>\n",
              "      <td>0.598861</td>\n",
              "      <td>0.695000</td>\n",
              "    </tr>\n",
              "    <tr>\n",
              "      <td>8</td>\n",
              "      <td>0.593200</td>\n",
              "      <td>0.618031</td>\n",
              "      <td>0.652500</td>\n",
              "    </tr>\n",
              "    <tr>\n",
              "      <td>9</td>\n",
              "      <td>0.600400</td>\n",
              "      <td>0.592445</td>\n",
              "      <td>0.712500</td>\n",
              "    </tr>\n",
              "    <tr>\n",
              "      <td>10</td>\n",
              "      <td>0.593000</td>\n",
              "      <td>0.590288</td>\n",
              "      <td>0.722500</td>\n",
              "    </tr>\n",
              "  </tbody>\n",
              "</table><p>"
            ]
          },
          "metadata": {}
        },
        {
          "output_type": "stream",
          "name": "stderr",
          "text": [
            "The following columns in the evaluation set don't have a corresponding argument in `RobertaForSequenceClassification.forward` and have been ignored: __index_level_0__, code, markdown. If __index_level_0__, code, markdown are not expected by `RobertaForSequenceClassification.forward`,  you can safely ignore this message.\n",
            "***** Running Evaluation *****\n",
            "  Num examples = 400\n",
            "  Batch size = 8\n",
            "Checkpoint destination directory test_trainer/checkpoint-500 already exists and is non-empty. Saving will proceed but saved results may be invalid.\n",
            "Saving model checkpoint to test_trainer/checkpoint-500\n",
            "Configuration saved in test_trainer/checkpoint-500/config.json\n",
            "Model weights saved in test_trainer/checkpoint-500/model.safetensors\n",
            "The following columns in the evaluation set don't have a corresponding argument in `RobertaForSequenceClassification.forward` and have been ignored: __index_level_0__, code, markdown. If __index_level_0__, code, markdown are not expected by `RobertaForSequenceClassification.forward`,  you can safely ignore this message.\n",
            "***** Running Evaluation *****\n",
            "  Num examples = 400\n",
            "  Batch size = 8\n",
            "Checkpoint destination directory test_trainer/checkpoint-1000 already exists and is non-empty. Saving will proceed but saved results may be invalid.\n",
            "Saving model checkpoint to test_trainer/checkpoint-1000\n",
            "Configuration saved in test_trainer/checkpoint-1000/config.json\n",
            "Model weights saved in test_trainer/checkpoint-1000/model.safetensors\n",
            "The following columns in the evaluation set don't have a corresponding argument in `RobertaForSequenceClassification.forward` and have been ignored: __index_level_0__, code, markdown. If __index_level_0__, code, markdown are not expected by `RobertaForSequenceClassification.forward`,  you can safely ignore this message.\n",
            "***** Running Evaluation *****\n",
            "  Num examples = 400\n",
            "  Batch size = 8\n",
            "The following columns in the evaluation set don't have a corresponding argument in `RobertaForSequenceClassification.forward` and have been ignored: __index_level_0__, code, markdown. If __index_level_0__, code, markdown are not expected by `RobertaForSequenceClassification.forward`,  you can safely ignore this message.\n",
            "***** Running Evaluation *****\n",
            "  Num examples = 400\n",
            "  Batch size = 8\n",
            "Checkpoint destination directory test_trainer/checkpoint-1500 already exists and is non-empty. Saving will proceed but saved results may be invalid.\n",
            "Saving model checkpoint to test_trainer/checkpoint-1500\n",
            "Configuration saved in test_trainer/checkpoint-1500/config.json\n",
            "Model weights saved in test_trainer/checkpoint-1500/model.safetensors\n",
            "The following columns in the evaluation set don't have a corresponding argument in `RobertaForSequenceClassification.forward` and have been ignored: __index_level_0__, code, markdown. If __index_level_0__, code, markdown are not expected by `RobertaForSequenceClassification.forward`,  you can safely ignore this message.\n",
            "***** Running Evaluation *****\n",
            "  Num examples = 400\n",
            "  Batch size = 8\n",
            "Saving model checkpoint to test_trainer/tmp-checkpoint-2000\n",
            "Configuration saved in test_trainer/tmp-checkpoint-2000/config.json\n",
            "Model weights saved in test_trainer/tmp-checkpoint-2000/model.safetensors\n",
            "The following columns in the evaluation set don't have a corresponding argument in `RobertaForSequenceClassification.forward` and have been ignored: __index_level_0__, code, markdown. If __index_level_0__, code, markdown are not expected by `RobertaForSequenceClassification.forward`,  you can safely ignore this message.\n",
            "***** Running Evaluation *****\n",
            "  Num examples = 400\n",
            "  Batch size = 8\n",
            "The following columns in the evaluation set don't have a corresponding argument in `RobertaForSequenceClassification.forward` and have been ignored: __index_level_0__, code, markdown. If __index_level_0__, code, markdown are not expected by `RobertaForSequenceClassification.forward`,  you can safely ignore this message.\n",
            "***** Running Evaluation *****\n",
            "  Num examples = 400\n",
            "  Batch size = 8\n",
            "Saving model checkpoint to test_trainer/tmp-checkpoint-2500\n",
            "Configuration saved in test_trainer/tmp-checkpoint-2500/config.json\n",
            "Model weights saved in test_trainer/tmp-checkpoint-2500/model.safetensors\n",
            "The following columns in the evaluation set don't have a corresponding argument in `RobertaForSequenceClassification.forward` and have been ignored: __index_level_0__, code, markdown. If __index_level_0__, code, markdown are not expected by `RobertaForSequenceClassification.forward`,  you can safely ignore this message.\n",
            "***** Running Evaluation *****\n",
            "  Num examples = 400\n",
            "  Batch size = 8\n",
            "Saving model checkpoint to test_trainer/tmp-checkpoint-3000\n",
            "Configuration saved in test_trainer/tmp-checkpoint-3000/config.json\n",
            "Model weights saved in test_trainer/tmp-checkpoint-3000/model.safetensors\n",
            "The following columns in the evaluation set don't have a corresponding argument in `RobertaForSequenceClassification.forward` and have been ignored: __index_level_0__, code, markdown. If __index_level_0__, code, markdown are not expected by `RobertaForSequenceClassification.forward`,  you can safely ignore this message.\n",
            "***** Running Evaluation *****\n",
            "  Num examples = 400\n",
            "  Batch size = 8\n",
            "The following columns in the evaluation set don't have a corresponding argument in `RobertaForSequenceClassification.forward` and have been ignored: __index_level_0__, code, markdown. If __index_level_0__, code, markdown are not expected by `RobertaForSequenceClassification.forward`,  you can safely ignore this message.\n",
            "***** Running Evaluation *****\n",
            "  Num examples = 400\n",
            "  Batch size = 8\n",
            "\n",
            "\n",
            "Training completed. Do not forget to share your model on huggingface.co/models =)\n",
            "\n",
            "\n"
          ]
        }
      ]
    },
    {
      "cell_type": "code",
      "source": [
        "metrics = train_result.metrics\n",
        "trainer.save_model()  # Saves the tokenizer too for easy upload\n",
        "\n",
        "trainer.log_metrics(\"train\", metrics)\n",
        "trainer.save_metrics(\"train\", metrics)\n",
        "trainer.save_state()\n",
        "\n",
        "# Evaluation\n",
        "\n",
        "metrics = trainer.evaluate(eval_dataset=tokenized_dataset[\"eval\"].shuffle(seed=42))\n",
        "\n",
        "trainer.log_metrics(\"eval\", metrics)\n",
        "trainer.save_metrics(\"eval\", metrics)\n",
        "\n",
        "# Prediction\n",
        "\n",
        "predictions, labels, metrics = trainer.predict(tokenized_dataset[\"test\"], metric_key_prefix=\"predict\")\n",
        "\n",
        "trainer.log_metrics(\"predict\", metrics)\n",
        "trainer.save_metrics(\"predict\", metrics)\n",
        "\n",
        "predictions = np.argmax(predictions, axis=1)\n",
        "\n",
        "print(classification_report(predictions, labels, labels=[0, 1]))"
      ],
      "metadata": {
        "colab": {
          "base_uri": "https://localhost:8080/",
          "height": 762
        },
        "id": "iuDrU195UAAx",
        "outputId": "1c9a19cf-58d1-4a0d-d053-1e8e9941ff8e"
      },
      "execution_count": null,
      "outputs": [
        {
          "output_type": "stream",
          "name": "stderr",
          "text": [
            "Saving model checkpoint to test_trainer\n",
            "Configuration saved in test_trainer/config.json\n",
            "Model weights saved in test_trainer/model.safetensors\n",
            "The following columns in the evaluation set don't have a corresponding argument in `RobertaForSequenceClassification.forward` and have been ignored: code, markdown, __index_level_0__. If code, markdown, __index_level_0__ are not expected by `RobertaForSequenceClassification.forward`,  you can safely ignore this message.\n",
            "***** Running Evaluation *****\n",
            "  Num examples = 400\n",
            "  Batch size = 8\n"
          ]
        },
        {
          "output_type": "stream",
          "name": "stdout",
          "text": [
            "***** train metrics *****\n",
            "  epoch                    =       10.0\n",
            "  total_flos               =  6616114GF\n",
            "  train_loss               =     0.6452\n",
            "  train_runtime            = 0:19:27.88\n",
            "  train_samples_per_second =     23.119\n",
            "  train_steps_per_second   =      2.894\n"
          ]
        },
        {
          "output_type": "display_data",
          "data": {
            "text/plain": [
              "<IPython.core.display.HTML object>"
            ],
            "text/html": []
          },
          "metadata": {}
        },
        {
          "output_type": "stream",
          "name": "stderr",
          "text": [
            "The following columns in the test set don't have a corresponding argument in `RobertaForSequenceClassification.forward` and have been ignored: code, markdown, __index_level_0__. If code, markdown, __index_level_0__ are not expected by `RobertaForSequenceClassification.forward`,  you can safely ignore this message.\n",
            "***** Running Prediction *****\n",
            "  Num examples = 900\n",
            "  Batch size = 8\n"
          ]
        },
        {
          "output_type": "stream",
          "name": "stdout",
          "text": [
            "***** eval metrics *****\n",
            "  epoch                   =       10.0\n",
            "  eval_accuracy           =       0.68\n",
            "  eval_loss               =     0.6137\n",
            "  eval_runtime            = 0:00:14.60\n",
            "  eval_samples_per_second =     27.389\n",
            "  eval_steps_per_second   =      3.424\n",
            "***** predict metrics *****\n",
            "  predict_accuracy           =     0.7078\n",
            "  predict_loss               =     0.5996\n",
            "  predict_runtime            = 0:00:32.51\n",
            "  predict_samples_per_second =     27.678\n",
            "  predict_steps_per_second   =      3.475\n",
            "              precision    recall  f1-score   support\n",
            "\n",
            "           0       0.72      0.71      0.72       470\n",
            "           1       0.69      0.70      0.70       430\n",
            "\n",
            "    accuracy                           0.71       900\n",
            "   macro avg       0.71      0.71      0.71       900\n",
            "weighted avg       0.71      0.71      0.71       900\n",
            "\n"
          ]
        }
      ]
    },
    {
      "cell_type": "markdown",
      "source": [
        "### Test with GT"
      ],
      "metadata": {
        "id": "yQPaVWWIPPqJ"
      }
    },
    {
      "cell_type": "code",
      "source": [
        "predictions, labels, metrics = trainer.predict(tokenized_test_dataset['test'], metric_key_prefix=\"predict\")\n",
        "\n",
        "trainer.log_metrics(\"predict\", metrics)\n",
        "trainer.save_metrics(\"predict\", metrics)\n",
        "\n",
        "predictions = np.argmax(predictions, axis=1)"
      ],
      "metadata": {
        "colab": {
          "base_uri": "https://localhost:8080/",
          "height": 218
        },
        "id": "eB7d1-3P69BK",
        "outputId": "4380f7db-d473-47fd-a239-cbfb4498d624"
      },
      "execution_count": null,
      "outputs": [
        {
          "output_type": "stream",
          "name": "stderr",
          "text": [
            "The following columns in the test set don't have a corresponding argument in `RobertaForSequenceClassification.forward` and have been ignored: __index_level_0__, code, markdown. If __index_level_0__, code, markdown are not expected by `RobertaForSequenceClassification.forward`,  you can safely ignore this message.\n",
            "***** Running Prediction *****\n",
            "  Num examples = 991\n",
            "  Batch size = 8\n"
          ]
        },
        {
          "output_type": "display_data",
          "data": {
            "text/plain": [
              "<IPython.core.display.HTML object>"
            ],
            "text/html": []
          },
          "metadata": {}
        },
        {
          "output_type": "stream",
          "name": "stdout",
          "text": [
            "***** predict metrics *****\n",
            "  predict_accuracy           =     0.6186\n",
            "  predict_loss               =     0.6515\n",
            "  predict_runtime            = 0:00:36.35\n",
            "  predict_samples_per_second =     27.255\n",
            "  predict_steps_per_second   =       3.41\n"
          ]
        }
      ]
    },
    {
      "cell_type": "code",
      "source": [
        "print(classification_report(predictions, labels, labels=[0, 1]))"
      ],
      "metadata": {
        "colab": {
          "base_uri": "https://localhost:8080/"
        },
        "id": "mVXnO6Om7Gz-",
        "outputId": "a438b02f-daaf-4bc7-93d9-100922a496fc"
      },
      "execution_count": null,
      "outputs": [
        {
          "output_type": "stream",
          "name": "stdout",
          "text": [
            "              precision    recall  f1-score   support\n",
            "\n",
            "           0       0.59      0.63      0.61       464\n",
            "           1       0.65      0.61      0.63       527\n",
            "\n",
            "    accuracy                           0.62       991\n",
            "   macro avg       0.62      0.62      0.62       991\n",
            "weighted avg       0.62      0.62      0.62       991\n",
            "\n"
          ]
        }
      ]
    },
    {
      "cell_type": "markdown",
      "source": [
        "## Train with 8k samples"
      ],
      "metadata": {
        "id": "S-2upZc2NXpY"
      }
    },
    {
      "cell_type": "code",
      "source": [
        "data = df.sample(8000)\n",
        "dataset = create_dataset(data)\n",
        "tokenized_dataset = tokenize_dataset(dataset, tokenizer)\n",
        "trainer = create_trainer(tokenized_dataset, model, 10, 10)"
      ],
      "metadata": {
        "id": "nBOhDYWWNWDT"
      },
      "execution_count": null,
      "outputs": []
    },
    {
      "cell_type": "code",
      "source": [
        "train_result = trainer.train()"
      ],
      "metadata": {
        "colab": {
          "base_uri": "https://localhost:8080/",
          "height": 1000
        },
        "id": "ryJxV-c2UKRx",
        "outputId": "ab1a7515-227b-4fd1-d322-a2743a998086"
      },
      "execution_count": null,
      "outputs": [
        {
          "output_type": "stream",
          "name": "stderr",
          "text": [
            "Currently training with a batch size of: 8\n",
            "The following columns in the training set don't have a corresponding argument in `RobertaForSequenceClassification.forward` and have been ignored: __index_level_0__, code, markdown. If __index_level_0__, code, markdown are not expected by `RobertaForSequenceClassification.forward`,  you can safely ignore this message.\n",
            "***** Running training *****\n",
            "  Num examples = 5,400\n",
            "  Num Epochs = 10\n",
            "  Instantaneous batch size per device = 8\n",
            "  Total train batch size (w. parallel, distributed & accumulation) = 8\n",
            "  Gradient Accumulation steps = 1\n",
            "  Total optimization steps = 6,750\n",
            "  Number of trainable parameters = 592,130\n"
          ]
        },
        {
          "output_type": "display_data",
          "data": {
            "text/plain": [
              "<IPython.core.display.HTML object>"
            ],
            "text/html": [
              "\n",
              "    <div>\n",
              "      \n",
              "      <progress value='6301' max='6750' style='width:300px; height:20px; vertical-align: middle;'></progress>\n",
              "      [6301/6750 34:40 < 02:28, 3.03 it/s, Epoch 9.33/10]\n",
              "    </div>\n",
              "    <table border=\"1\" class=\"dataframe\">\n",
              "  <thead>\n",
              " <tr style=\"text-align: left;\">\n",
              "      <th>Epoch</th>\n",
              "      <th>Training Loss</th>\n",
              "      <th>Validation Loss</th>\n",
              "      <th>Accuracy</th>\n",
              "    </tr>\n",
              "  </thead>\n",
              "  <tbody>\n",
              "    <tr>\n",
              "      <td>1</td>\n",
              "      <td>0.626000</td>\n",
              "      <td>0.596924</td>\n",
              "      <td>0.670000</td>\n",
              "    </tr>\n",
              "    <tr>\n",
              "      <td>2</td>\n",
              "      <td>0.576300</td>\n",
              "      <td>0.587207</td>\n",
              "      <td>0.696250</td>\n",
              "    </tr>\n",
              "    <tr>\n",
              "      <td>3</td>\n",
              "      <td>0.610000</td>\n",
              "      <td>0.571790</td>\n",
              "      <td>0.681250</td>\n",
              "    </tr>\n",
              "    <tr>\n",
              "      <td>4</td>\n",
              "      <td>0.551500</td>\n",
              "      <td>0.586806</td>\n",
              "      <td>0.683750</td>\n",
              "    </tr>\n",
              "    <tr>\n",
              "      <td>5</td>\n",
              "      <td>0.532700</td>\n",
              "      <td>0.611897</td>\n",
              "      <td>0.655000</td>\n",
              "    </tr>\n",
              "    <tr>\n",
              "      <td>6</td>\n",
              "      <td>0.649500</td>\n",
              "      <td>0.589258</td>\n",
              "      <td>0.681250</td>\n",
              "    </tr>\n",
              "    <tr>\n",
              "      <td>7</td>\n",
              "      <td>0.643400</td>\n",
              "      <td>0.556786</td>\n",
              "      <td>0.705000</td>\n",
              "    </tr>\n",
              "    <tr>\n",
              "      <td>8</td>\n",
              "      <td>0.642700</td>\n",
              "      <td>0.555304</td>\n",
              "      <td>0.702500</td>\n",
              "    </tr>\n",
              "    <tr>\n",
              "      <td>9</td>\n",
              "      <td>0.598000</td>\n",
              "      <td>0.556167</td>\n",
              "      <td>0.705000</td>\n",
              "    </tr>\n",
              "  </tbody>\n",
              "</table><p>"
            ]
          },
          "metadata": {}
        },
        {
          "output_type": "stream",
          "name": "stderr",
          "text": [
            "Checkpoint destination directory test_trainer/checkpoint-500 already exists and is non-empty. Saving will proceed but saved results may be invalid.\n",
            "Saving model checkpoint to test_trainer/checkpoint-500\n",
            "Configuration saved in test_trainer/checkpoint-500/config.json\n",
            "Model weights saved in test_trainer/checkpoint-500/model.safetensors\n",
            "The following columns in the evaluation set don't have a corresponding argument in `RobertaForSequenceClassification.forward` and have been ignored: __index_level_0__, code, markdown. If __index_level_0__, code, markdown are not expected by `RobertaForSequenceClassification.forward`,  you can safely ignore this message.\n",
            "***** Running Evaluation *****\n",
            "  Num examples = 800\n",
            "  Batch size = 8\n",
            "Checkpoint destination directory test_trainer/checkpoint-1000 already exists and is non-empty. Saving will proceed but saved results may be invalid.\n",
            "Saving model checkpoint to test_trainer/checkpoint-1000\n",
            "Configuration saved in test_trainer/checkpoint-1000/config.json\n",
            "Model weights saved in test_trainer/checkpoint-1000/model.safetensors\n",
            "The following columns in the evaluation set don't have a corresponding argument in `RobertaForSequenceClassification.forward` and have been ignored: __index_level_0__, code, markdown. If __index_level_0__, code, markdown are not expected by `RobertaForSequenceClassification.forward`,  you can safely ignore this message.\n",
            "***** Running Evaluation *****\n",
            "  Num examples = 800\n",
            "  Batch size = 8\n",
            "Checkpoint destination directory test_trainer/checkpoint-1500 already exists and is non-empty. Saving will proceed but saved results may be invalid.\n",
            "Saving model checkpoint to test_trainer/checkpoint-1500\n",
            "Configuration saved in test_trainer/checkpoint-1500/config.json\n",
            "Model weights saved in test_trainer/checkpoint-1500/model.safetensors\n",
            "Checkpoint destination directory test_trainer/checkpoint-2000 already exists and is non-empty. Saving will proceed but saved results may be invalid.\n",
            "Saving model checkpoint to test_trainer/checkpoint-2000\n",
            "Configuration saved in test_trainer/checkpoint-2000/config.json\n",
            "Model weights saved in test_trainer/checkpoint-2000/model.safetensors\n",
            "The following columns in the evaluation set don't have a corresponding argument in `RobertaForSequenceClassification.forward` and have been ignored: __index_level_0__, code, markdown. If __index_level_0__, code, markdown are not expected by `RobertaForSequenceClassification.forward`,  you can safely ignore this message.\n",
            "***** Running Evaluation *****\n",
            "  Num examples = 800\n",
            "  Batch size = 8\n",
            "Checkpoint destination directory test_trainer/checkpoint-2500 already exists and is non-empty. Saving will proceed but saved results may be invalid.\n",
            "Saving model checkpoint to test_trainer/checkpoint-2500\n",
            "Configuration saved in test_trainer/checkpoint-2500/config.json\n",
            "Model weights saved in test_trainer/checkpoint-2500/model.safetensors\n",
            "The following columns in the evaluation set don't have a corresponding argument in `RobertaForSequenceClassification.forward` and have been ignored: __index_level_0__, code, markdown. If __index_level_0__, code, markdown are not expected by `RobertaForSequenceClassification.forward`,  you can safely ignore this message.\n",
            "***** Running Evaluation *****\n",
            "  Num examples = 800\n",
            "  Batch size = 8\n",
            "Checkpoint destination directory test_trainer/checkpoint-3000 already exists and is non-empty. Saving will proceed but saved results may be invalid.\n",
            "Saving model checkpoint to test_trainer/checkpoint-3000\n",
            "Configuration saved in test_trainer/checkpoint-3000/config.json\n",
            "Model weights saved in test_trainer/checkpoint-3000/model.safetensors\n",
            "The following columns in the evaluation set don't have a corresponding argument in `RobertaForSequenceClassification.forward` and have been ignored: __index_level_0__, code, markdown. If __index_level_0__, code, markdown are not expected by `RobertaForSequenceClassification.forward`,  you can safely ignore this message.\n",
            "***** Running Evaluation *****\n",
            "  Num examples = 800\n",
            "  Batch size = 8\n",
            "Saving model checkpoint to test_trainer/tmp-checkpoint-3500\n",
            "Configuration saved in test_trainer/tmp-checkpoint-3500/config.json\n",
            "Model weights saved in test_trainer/tmp-checkpoint-3500/model.safetensors\n",
            "Saving model checkpoint to test_trainer/tmp-checkpoint-4000\n",
            "Configuration saved in test_trainer/tmp-checkpoint-4000/config.json\n",
            "Model weights saved in test_trainer/tmp-checkpoint-4000/model.safetensors\n",
            "The following columns in the evaluation set don't have a corresponding argument in `RobertaForSequenceClassification.forward` and have been ignored: __index_level_0__, code, markdown. If __index_level_0__, code, markdown are not expected by `RobertaForSequenceClassification.forward`,  you can safely ignore this message.\n",
            "***** Running Evaluation *****\n",
            "  Num examples = 800\n",
            "  Batch size = 8\n",
            "Saving model checkpoint to test_trainer/tmp-checkpoint-4500\n",
            "Configuration saved in test_trainer/tmp-checkpoint-4500/config.json\n",
            "Model weights saved in test_trainer/tmp-checkpoint-4500/model.safetensors\n",
            "The following columns in the evaluation set don't have a corresponding argument in `RobertaForSequenceClassification.forward` and have been ignored: __index_level_0__, code, markdown. If __index_level_0__, code, markdown are not expected by `RobertaForSequenceClassification.forward`,  you can safely ignore this message.\n",
            "***** Running Evaluation *****\n",
            "  Num examples = 800\n",
            "  Batch size = 8\n",
            "Saving model checkpoint to test_trainer/tmp-checkpoint-5000\n",
            "Configuration saved in test_trainer/tmp-checkpoint-5000/config.json\n",
            "Model weights saved in test_trainer/tmp-checkpoint-5000/model.safetensors\n",
            "The following columns in the evaluation set don't have a corresponding argument in `RobertaForSequenceClassification.forward` and have been ignored: __index_level_0__, code, markdown. If __index_level_0__, code, markdown are not expected by `RobertaForSequenceClassification.forward`,  you can safely ignore this message.\n",
            "***** Running Evaluation *****\n",
            "  Num examples = 800\n",
            "  Batch size = 8\n",
            "Saving model checkpoint to test_trainer/tmp-checkpoint-5500\n",
            "Configuration saved in test_trainer/tmp-checkpoint-5500/config.json\n",
            "Model weights saved in test_trainer/tmp-checkpoint-5500/model.safetensors\n",
            "Saving model checkpoint to test_trainer/tmp-checkpoint-6000\n",
            "Configuration saved in test_trainer/tmp-checkpoint-6000/config.json\n",
            "Model weights saved in test_trainer/tmp-checkpoint-6000/model.safetensors\n",
            "The following columns in the evaluation set don't have a corresponding argument in `RobertaForSequenceClassification.forward` and have been ignored: __index_level_0__, code, markdown. If __index_level_0__, code, markdown are not expected by `RobertaForSequenceClassification.forward`,  you can safely ignore this message.\n",
            "***** Running Evaluation *****\n",
            "  Num examples = 800\n",
            "  Batch size = 8\n"
          ]
        }
      ]
    },
    {
      "cell_type": "code",
      "source": [
        "metrics = train_result.metrics\n",
        "trainer.save_model()  # Saves the tokenizer too for easy upload\n",
        "\n",
        "trainer.log_metrics(\"train\", metrics)\n",
        "trainer.save_metrics(\"train\", metrics)\n",
        "trainer.save_state()\n",
        "\n",
        "# Evaluation\n",
        "\n",
        "metrics = trainer.evaluate(eval_dataset=tokenized_dataset[\"eval\"].shuffle(seed=42))\n",
        "\n",
        "trainer.log_metrics(\"eval\", metrics)\n",
        "trainer.save_metrics(\"eval\", metrics)\n",
        "\n",
        "# Prediction\n",
        "\n",
        "predictions, labels, metrics = trainer.predict(tokenized_dataset[\"test\"], metric_key_prefix=\"predict\")\n",
        "\n",
        "trainer.log_metrics(\"predict\", metrics)\n",
        "trainer.save_metrics(\"predict\", metrics)\n",
        "\n",
        "predictions = np.argmax(predictions, axis=1)\n",
        "\n",
        "print(classification_report(predictions, labels, labels=[0, 1]))"
      ],
      "metadata": {
        "colab": {
          "base_uri": "https://localhost:8080/",
          "height": 762
        },
        "id": "wzB7_v3hULNA",
        "outputId": "456ed5dd-10fe-43e0-eb99-0866a6305eff"
      },
      "execution_count": null,
      "outputs": [
        {
          "output_type": "stream",
          "name": "stderr",
          "text": [
            "Saving model checkpoint to test_trainer\n",
            "Configuration saved in test_trainer/config.json\n",
            "Model weights saved in test_trainer/model.safetensors\n",
            "The following columns in the evaluation set don't have a corresponding argument in `RobertaForSequenceClassification.forward` and have been ignored: code, markdown, __index_level_0__. If code, markdown, __index_level_0__ are not expected by `RobertaForSequenceClassification.forward`,  you can safely ignore this message.\n",
            "***** Running Evaluation *****\n",
            "  Num examples = 800\n",
            "  Batch size = 8\n"
          ]
        },
        {
          "output_type": "stream",
          "name": "stdout",
          "text": [
            "***** train metrics *****\n",
            "  epoch                    =       10.0\n",
            "  total_flos               = 13232228GF\n",
            "  train_loss               =     0.6248\n",
            "  train_runtime            = 0:38:51.35\n",
            "  train_samples_per_second =     23.163\n",
            "  train_steps_per_second   =      2.895\n"
          ]
        },
        {
          "output_type": "display_data",
          "data": {
            "text/plain": [
              "<IPython.core.display.HTML object>"
            ],
            "text/html": []
          },
          "metadata": {}
        },
        {
          "output_type": "stream",
          "name": "stderr",
          "text": [
            "The following columns in the test set don't have a corresponding argument in `RobertaForSequenceClassification.forward` and have been ignored: code, markdown, __index_level_0__. If code, markdown, __index_level_0__ are not expected by `RobertaForSequenceClassification.forward`,  you can safely ignore this message.\n",
            "***** Running Prediction *****\n",
            "  Num examples = 1800\n",
            "  Batch size = 8\n"
          ]
        },
        {
          "output_type": "stream",
          "name": "stdout",
          "text": [
            "***** eval metrics *****\n",
            "  epoch                   =       10.0\n",
            "  eval_accuracy           =       0.68\n",
            "  eval_loss               =      0.577\n",
            "  eval_runtime            = 0:00:29.03\n",
            "  eval_samples_per_second =     27.553\n",
            "  eval_steps_per_second   =      3.444\n",
            "***** predict metrics *****\n",
            "  predict_accuracy           =     0.7144\n",
            "  predict_loss               =     0.5674\n",
            "  predict_runtime            = 0:01:04.11\n",
            "  predict_samples_per_second =     28.077\n",
            "  predict_steps_per_second   =       3.51\n",
            "              precision    recall  f1-score   support\n",
            "\n",
            "           0       0.69      0.72      0.71       861\n",
            "           1       0.74      0.71      0.72       939\n",
            "\n",
            "    accuracy                           0.71      1800\n",
            "   macro avg       0.71      0.71      0.71      1800\n",
            "weighted avg       0.72      0.71      0.71      1800\n",
            "\n"
          ]
        }
      ]
    },
    {
      "cell_type": "markdown",
      "source": [
        "### Test with GT"
      ],
      "metadata": {
        "id": "-z28hgLkPUyU"
      }
    },
    {
      "cell_type": "code",
      "source": [
        "predictions, labels, metrics = trainer.predict(tokenized_test_dataset['test'], metric_key_prefix=\"predict\")\n",
        "\n",
        "trainer.log_metrics(\"predict\", metrics)\n",
        "trainer.save_metrics(\"predict\", metrics)\n",
        "\n",
        "predictions = np.argmax(predictions, axis=1)"
      ],
      "metadata": {
        "colab": {
          "base_uri": "https://localhost:8080/",
          "height": 453
        },
        "id": "C0u5LJOY7JWE",
        "outputId": "2ff997f2-eedf-4685-a46c-de731afa11a1"
      },
      "execution_count": null,
      "outputs": [
        {
          "output_type": "stream",
          "name": "stderr",
          "text": [
            "The following columns in the test set don't have a corresponding argument in `RobertaForSequenceClassification.forward` and have been ignored: __index_level_0__, code, markdown. If __index_level_0__, code, markdown are not expected by `RobertaForSequenceClassification.forward`,  you can safely ignore this message.\n",
            "***** Running Prediction *****\n",
            "  Num examples = 991\n",
            "  Batch size = 8\n"
          ]
        },
        {
          "output_type": "display_data",
          "data": {
            "text/plain": [
              "<IPython.core.display.HTML object>"
            ],
            "text/html": [
              "\n",
              "    <div>\n",
              "      \n",
              "      <progress value='3444' max='6750' style='width:300px; height:20px; vertical-align: middle;'></progress>\n",
              "      [3444/6750 18:52 < 18:08, 3.04 it/s, Epoch 5.10/10]\n",
              "    </div>\n",
              "    <table border=\"1\" class=\"dataframe\">\n",
              "  <thead>\n",
              " <tr style=\"text-align: left;\">\n",
              "      <th>Epoch</th>\n",
              "      <th>Training Loss</th>\n",
              "      <th>Validation Loss</th>\n",
              "      <th>Accuracy</th>\n",
              "    </tr>\n",
              "  </thead>\n",
              "  <tbody>\n",
              "    <tr>\n",
              "      <td>1</td>\n",
              "      <td>0.662100</td>\n",
              "      <td>0.647064</td>\n",
              "      <td>0.667500</td>\n",
              "    </tr>\n",
              "    <tr>\n",
              "      <td>2</td>\n",
              "      <td>0.643900</td>\n",
              "      <td>0.627734</td>\n",
              "      <td>0.651250</td>\n",
              "    </tr>\n",
              "    <tr>\n",
              "      <td>3</td>\n",
              "      <td>0.626600</td>\n",
              "      <td>0.600095</td>\n",
              "      <td>0.687500</td>\n",
              "    </tr>\n",
              "    <tr>\n",
              "      <td>4</td>\n",
              "      <td>0.651900</td>\n",
              "      <td>0.610050</td>\n",
              "      <td>0.660000</td>\n",
              "    </tr>\n",
              "    <tr>\n",
              "      <td>5</td>\n",
              "      <td>0.600300</td>\n",
              "      <td>0.625951</td>\n",
              "      <td>0.628750</td>\n",
              "    </tr>\n",
              "  </tbody>\n",
              "</table><p>\n",
              "    <div>\n",
              "      \n",
              "      <progress value='124' max='124' style='width:300px; height:20px; vertical-align: middle;'></progress>\n",
              "      [124/124 00:33]\n",
              "    </div>\n",
              "    "
            ]
          },
          "metadata": {}
        },
        {
          "output_type": "stream",
          "name": "stdout",
          "text": [
            "***** predict metrics *****\n",
            "  predict_accuracy           =     0.6115\n",
            "  predict_loss               =      0.655\n",
            "  predict_runtime            = 0:00:34.71\n",
            "  predict_samples_per_second =     28.548\n",
            "  predict_steps_per_second   =      3.572\n"
          ]
        }
      ]
    },
    {
      "cell_type": "code",
      "source": [
        "print(classification_report(predictions, labels, labels=[0, 1]))"
      ],
      "metadata": {
        "colab": {
          "base_uri": "https://localhost:8080/"
        },
        "id": "YQG9Ul3S7OTn",
        "outputId": "15fa64bd-ff6d-43e1-85bb-a3ed7fcb4b87"
      },
      "execution_count": null,
      "outputs": [
        {
          "output_type": "stream",
          "name": "stdout",
          "text": [
            "              precision    recall  f1-score   support\n",
            "\n",
            "           0       0.59      0.62      0.61       477\n",
            "           1       0.63      0.60      0.62       514\n",
            "\n",
            "    accuracy                           0.61       991\n",
            "   macro avg       0.61      0.61      0.61       991\n",
            "weighted avg       0.61      0.61      0.61       991\n",
            "\n"
          ]
        }
      ]
    },
    {
      "cell_type": "markdown",
      "source": [
        "## Train with 10k samples"
      ],
      "metadata": {
        "id": "lPftROEVrWLY"
      }
    },
    {
      "cell_type": "code",
      "source": [
        "data = df.copy()\n",
        "dataset = create_dataset(data)\n",
        "tokenized_dataset = tokenize_dataset(dataset, tokenizer)\n",
        "trainer = create_trainer(tokenized_dataset, model, 10, 10)"
      ],
      "metadata": {
        "id": "5cAHqmdvrmWI"
      },
      "execution_count": 50,
      "outputs": []
    },
    {
      "cell_type": "code",
      "source": [
        "train_result = trainer.train()"
      ],
      "metadata": {
        "colab": {
          "base_uri": "https://localhost:8080/",
          "height": 1000
        },
        "id": "pWclNpxxuvkJ",
        "outputId": "ec566591-5259-4f2e-d626-20f9a560f65d"
      },
      "execution_count": 69,
      "outputs": [
        {
          "output_type": "stream",
          "name": "stderr",
          "text": [
            "Currently training with a batch size of: 8\n",
            "The following columns in the training set don't have a corresponding argument in `RobertaForSequenceClassification.forward` and have been ignored: code, markdown, __index_level_0__. If code, markdown, __index_level_0__ are not expected by `RobertaForSequenceClassification.forward`,  you can safely ignore this message.\n",
            "***** Running training *****\n",
            "  Num examples = 6,424\n",
            "  Num Epochs = 40\n",
            "  Instantaneous batch size per device = 8\n",
            "  Total train batch size (w. parallel, distributed & accumulation) = 8\n",
            "  Gradient Accumulation steps = 1\n",
            "  Total optimization steps = 32,120\n",
            "  Number of trainable parameters = 592,130\n"
          ]
        },
        {
          "output_type": "display_data",
          "data": {
            "text/plain": [
              "<IPython.core.display.HTML object>"
            ],
            "text/html": [
              "\n",
              "    <div>\n",
              "      \n",
              "      <progress value='10456' max='32120' style='width:300px; height:20px; vertical-align: middle;'></progress>\n",
              "      [10456/32120 58:04 < 2:00:21, 3.00 it/s, Epoch 13.02/40]\n",
              "    </div>\n",
              "    <table border=\"1\" class=\"dataframe\">\n",
              "  <thead>\n",
              " <tr style=\"text-align: left;\">\n",
              "      <th>Epoch</th>\n",
              "      <th>Training Loss</th>\n",
              "      <th>Validation Loss</th>\n",
              "      <th>Accuracy</th>\n",
              "    </tr>\n",
              "  </thead>\n",
              "  <tbody>\n",
              "    <tr>\n",
              "      <td>1</td>\n",
              "      <td>0.665500</td>\n",
              "      <td>0.631581</td>\n",
              "      <td>0.696429</td>\n",
              "    </tr>\n",
              "    <tr>\n",
              "      <td>2</td>\n",
              "      <td>0.617800</td>\n",
              "      <td>0.631441</td>\n",
              "      <td>0.632353</td>\n",
              "    </tr>\n",
              "    <tr>\n",
              "      <td>3</td>\n",
              "      <td>0.630900</td>\n",
              "      <td>0.583330</td>\n",
              "      <td>0.700630</td>\n",
              "    </tr>\n",
              "    <tr>\n",
              "      <td>4</td>\n",
              "      <td>0.582700</td>\n",
              "      <td>0.574614</td>\n",
              "      <td>0.702731</td>\n",
              "    </tr>\n",
              "    <tr>\n",
              "      <td>5</td>\n",
              "      <td>0.602200</td>\n",
              "      <td>0.568319</td>\n",
              "      <td>0.700630</td>\n",
              "    </tr>\n",
              "    <tr>\n",
              "      <td>6</td>\n",
              "      <td>0.613800</td>\n",
              "      <td>0.583655</td>\n",
              "      <td>0.703782</td>\n",
              "    </tr>\n",
              "    <tr>\n",
              "      <td>7</td>\n",
              "      <td>0.607700</td>\n",
              "      <td>0.569142</td>\n",
              "      <td>0.720588</td>\n",
              "    </tr>\n",
              "    <tr>\n",
              "      <td>8</td>\n",
              "      <td>0.631700</td>\n",
              "      <td>0.565123</td>\n",
              "      <td>0.718487</td>\n",
              "    </tr>\n",
              "    <tr>\n",
              "      <td>9</td>\n",
              "      <td>0.566700</td>\n",
              "      <td>0.573619</td>\n",
              "      <td>0.714286</td>\n",
              "    </tr>\n",
              "    <tr>\n",
              "      <td>10</td>\n",
              "      <td>0.597900</td>\n",
              "      <td>0.554583</td>\n",
              "      <td>0.715336</td>\n",
              "    </tr>\n",
              "    <tr>\n",
              "      <td>11</td>\n",
              "      <td>0.591800</td>\n",
              "      <td>0.555805</td>\n",
              "      <td>0.723739</td>\n",
              "    </tr>\n",
              "    <tr>\n",
              "      <td>12</td>\n",
              "      <td>0.625800</td>\n",
              "      <td>0.594629</td>\n",
              "      <td>0.696429</td>\n",
              "    </tr>\n",
              "    <tr>\n",
              "      <td>13</td>\n",
              "      <td>0.616500</td>\n",
              "      <td>0.548875</td>\n",
              "      <td>0.715336</td>\n",
              "    </tr>\n",
              "  </tbody>\n",
              "</table><p>"
            ]
          },
          "metadata": {}
        },
        {
          "output_type": "stream",
          "name": "stderr",
          "text": [
            "Checkpoint destination directory test_trainer/checkpoint-500 already exists and is non-empty. Saving will proceed but saved results may be invalid.\n",
            "Saving model checkpoint to test_trainer/checkpoint-500\n",
            "Configuration saved in test_trainer/checkpoint-500/config.json\n",
            "Model weights saved in test_trainer/checkpoint-500/model.safetensors\n",
            "The following columns in the evaluation set don't have a corresponding argument in `RobertaForSequenceClassification.forward` and have been ignored: code, markdown, __index_level_0__. If code, markdown, __index_level_0__ are not expected by `RobertaForSequenceClassification.forward`,  you can safely ignore this message.\n",
            "***** Running Evaluation *****\n",
            "  Num examples = 952\n",
            "  Batch size = 8\n",
            "Saving model checkpoint to test_trainer/tmp-checkpoint-1000\n",
            "Configuration saved in test_trainer/tmp-checkpoint-1000/config.json\n",
            "Model weights saved in test_trainer/tmp-checkpoint-1000/model.safetensors\n",
            "Saving model checkpoint to test_trainer/tmp-checkpoint-1500\n",
            "Configuration saved in test_trainer/tmp-checkpoint-1500/config.json\n",
            "Model weights saved in test_trainer/tmp-checkpoint-1500/model.safetensors\n",
            "The following columns in the evaluation set don't have a corresponding argument in `RobertaForSequenceClassification.forward` and have been ignored: code, markdown, __index_level_0__. If code, markdown, __index_level_0__ are not expected by `RobertaForSequenceClassification.forward`,  you can safely ignore this message.\n",
            "***** Running Evaluation *****\n",
            "  Num examples = 952\n",
            "  Batch size = 8\n",
            "Saving model checkpoint to test_trainer/tmp-checkpoint-2000\n",
            "Configuration saved in test_trainer/tmp-checkpoint-2000/config.json\n",
            "Model weights saved in test_trainer/tmp-checkpoint-2000/model.safetensors\n",
            "The following columns in the evaluation set don't have a corresponding argument in `RobertaForSequenceClassification.forward` and have been ignored: code, markdown, __index_level_0__. If code, markdown, __index_level_0__ are not expected by `RobertaForSequenceClassification.forward`,  you can safely ignore this message.\n",
            "***** Running Evaluation *****\n",
            "  Num examples = 952\n",
            "  Batch size = 8\n",
            "Saving model checkpoint to test_trainer/tmp-checkpoint-2500\n",
            "Configuration saved in test_trainer/tmp-checkpoint-2500/config.json\n",
            "Model weights saved in test_trainer/tmp-checkpoint-2500/model.safetensors\n",
            "Saving model checkpoint to test_trainer/tmp-checkpoint-3000\n",
            "Configuration saved in test_trainer/tmp-checkpoint-3000/config.json\n",
            "Model weights saved in test_trainer/tmp-checkpoint-3000/model.safetensors\n",
            "The following columns in the evaluation set don't have a corresponding argument in `RobertaForSequenceClassification.forward` and have been ignored: code, markdown, __index_level_0__. If code, markdown, __index_level_0__ are not expected by `RobertaForSequenceClassification.forward`,  you can safely ignore this message.\n",
            "***** Running Evaluation *****\n",
            "  Num examples = 952\n",
            "  Batch size = 8\n",
            "Saving model checkpoint to test_trainer/tmp-checkpoint-3500\n",
            "Configuration saved in test_trainer/tmp-checkpoint-3500/config.json\n",
            "Model weights saved in test_trainer/tmp-checkpoint-3500/model.safetensors\n",
            "Saving model checkpoint to test_trainer/tmp-checkpoint-4000\n",
            "Configuration saved in test_trainer/tmp-checkpoint-4000/config.json\n",
            "Model weights saved in test_trainer/tmp-checkpoint-4000/model.safetensors\n",
            "The following columns in the evaluation set don't have a corresponding argument in `RobertaForSequenceClassification.forward` and have been ignored: code, markdown, __index_level_0__. If code, markdown, __index_level_0__ are not expected by `RobertaForSequenceClassification.forward`,  you can safely ignore this message.\n",
            "***** Running Evaluation *****\n",
            "  Num examples = 952\n",
            "  Batch size = 8\n",
            "Saving model checkpoint to test_trainer/tmp-checkpoint-4500\n",
            "Configuration saved in test_trainer/tmp-checkpoint-4500/config.json\n",
            "Model weights saved in test_trainer/tmp-checkpoint-4500/model.safetensors\n",
            "The following columns in the evaluation set don't have a corresponding argument in `RobertaForSequenceClassification.forward` and have been ignored: code, markdown, __index_level_0__. If code, markdown, __index_level_0__ are not expected by `RobertaForSequenceClassification.forward`,  you can safely ignore this message.\n",
            "***** Running Evaluation *****\n",
            "  Num examples = 952\n",
            "  Batch size = 8\n",
            "Saving model checkpoint to test_trainer/tmp-checkpoint-5000\n",
            "Configuration saved in test_trainer/tmp-checkpoint-5000/config.json\n",
            "Model weights saved in test_trainer/tmp-checkpoint-5000/model.safetensors\n",
            "Saving model checkpoint to test_trainer/tmp-checkpoint-5500\n",
            "Configuration saved in test_trainer/tmp-checkpoint-5500/config.json\n",
            "Model weights saved in test_trainer/tmp-checkpoint-5500/model.safetensors\n",
            "The following columns in the evaluation set don't have a corresponding argument in `RobertaForSequenceClassification.forward` and have been ignored: code, markdown, __index_level_0__. If code, markdown, __index_level_0__ are not expected by `RobertaForSequenceClassification.forward`,  you can safely ignore this message.\n",
            "***** Running Evaluation *****\n",
            "  Num examples = 952\n",
            "  Batch size = 8\n",
            "Saving model checkpoint to test_trainer/tmp-checkpoint-6000\n",
            "Configuration saved in test_trainer/tmp-checkpoint-6000/config.json\n",
            "Model weights saved in test_trainer/tmp-checkpoint-6000/model.safetensors\n",
            "The following columns in the evaluation set don't have a corresponding argument in `RobertaForSequenceClassification.forward` and have been ignored: code, markdown, __index_level_0__. If code, markdown, __index_level_0__ are not expected by `RobertaForSequenceClassification.forward`,  you can safely ignore this message.\n",
            "***** Running Evaluation *****\n",
            "  Num examples = 952\n",
            "  Batch size = 8\n",
            "Saving model checkpoint to test_trainer/tmp-checkpoint-6500\n",
            "Configuration saved in test_trainer/tmp-checkpoint-6500/config.json\n",
            "Model weights saved in test_trainer/tmp-checkpoint-6500/model.safetensors\n",
            "Saving model checkpoint to test_trainer/tmp-checkpoint-7000\n",
            "Configuration saved in test_trainer/tmp-checkpoint-7000/config.json\n",
            "Model weights saved in test_trainer/tmp-checkpoint-7000/model.safetensors\n",
            "The following columns in the evaluation set don't have a corresponding argument in `RobertaForSequenceClassification.forward` and have been ignored: code, markdown, __index_level_0__. If code, markdown, __index_level_0__ are not expected by `RobertaForSequenceClassification.forward`,  you can safely ignore this message.\n",
            "***** Running Evaluation *****\n",
            "  Num examples = 952\n",
            "  Batch size = 8\n",
            "Saving model checkpoint to test_trainer/tmp-checkpoint-7500\n",
            "Configuration saved in test_trainer/tmp-checkpoint-7500/config.json\n",
            "Model weights saved in test_trainer/tmp-checkpoint-7500/model.safetensors\n",
            "Saving model checkpoint to test_trainer/tmp-checkpoint-8000\n",
            "Configuration saved in test_trainer/tmp-checkpoint-8000/config.json\n",
            "Model weights saved in test_trainer/tmp-checkpoint-8000/model.safetensors\n",
            "The following columns in the evaluation set don't have a corresponding argument in `RobertaForSequenceClassification.forward` and have been ignored: code, markdown, __index_level_0__. If code, markdown, __index_level_0__ are not expected by `RobertaForSequenceClassification.forward`,  you can safely ignore this message.\n",
            "***** Running Evaluation *****\n",
            "  Num examples = 952\n",
            "  Batch size = 8\n",
            "Saving model checkpoint to test_trainer/tmp-checkpoint-8500\n",
            "Configuration saved in test_trainer/tmp-checkpoint-8500/config.json\n",
            "Model weights saved in test_trainer/tmp-checkpoint-8500/model.safetensors\n",
            "The following columns in the evaluation set don't have a corresponding argument in `RobertaForSequenceClassification.forward` and have been ignored: code, markdown, __index_level_0__. If code, markdown, __index_level_0__ are not expected by `RobertaForSequenceClassification.forward`,  you can safely ignore this message.\n",
            "***** Running Evaluation *****\n",
            "  Num examples = 952\n",
            "  Batch size = 8\n",
            "Saving model checkpoint to test_trainer/tmp-checkpoint-9000\n",
            "Configuration saved in test_trainer/tmp-checkpoint-9000/config.json\n",
            "Model weights saved in test_trainer/tmp-checkpoint-9000/model.safetensors\n",
            "Saving model checkpoint to test_trainer/tmp-checkpoint-9500\n",
            "Configuration saved in test_trainer/tmp-checkpoint-9500/config.json\n",
            "Model weights saved in test_trainer/tmp-checkpoint-9500/model.safetensors\n",
            "The following columns in the evaluation set don't have a corresponding argument in `RobertaForSequenceClassification.forward` and have been ignored: code, markdown, __index_level_0__. If code, markdown, __index_level_0__ are not expected by `RobertaForSequenceClassification.forward`,  you can safely ignore this message.\n",
            "***** Running Evaluation *****\n",
            "  Num examples = 952\n",
            "  Batch size = 8\n",
            "Saving model checkpoint to test_trainer/tmp-checkpoint-10000\n",
            "Configuration saved in test_trainer/tmp-checkpoint-10000/config.json\n",
            "Model weights saved in test_trainer/tmp-checkpoint-10000/model.safetensors\n",
            "The following columns in the evaluation set don't have a corresponding argument in `RobertaForSequenceClassification.forward` and have been ignored: code, markdown, __index_level_0__. If code, markdown, __index_level_0__ are not expected by `RobertaForSequenceClassification.forward`,  you can safely ignore this message.\n",
            "***** Running Evaluation *****\n",
            "  Num examples = 952\n",
            "  Batch size = 8\n"
          ]
        },
        {
          "output_type": "error",
          "ename": "KeyboardInterrupt",
          "evalue": "",
          "traceback": [
            "\u001b[0;31m---------------------------------------------------------------------------\u001b[0m",
            "\u001b[0;31mKeyboardInterrupt\u001b[0m                         Traceback (most recent call last)",
            "\u001b[0;32m<ipython-input-69-a6eca412ee9e>\u001b[0m in \u001b[0;36m<cell line: 1>\u001b[0;34m()\u001b[0m\n\u001b[0;32m----> 1\u001b[0;31m \u001b[0mtrain_result\u001b[0m \u001b[0;34m=\u001b[0m \u001b[0mtrainer\u001b[0m\u001b[0;34m.\u001b[0m\u001b[0mtrain\u001b[0m\u001b[0;34m(\u001b[0m\u001b[0;34m)\u001b[0m\u001b[0;34m\u001b[0m\u001b[0;34m\u001b[0m\u001b[0m\n\u001b[0m",
            "\u001b[0;32m/usr/local/lib/python3.10/dist-packages/transformers/trainer.py\u001b[0m in \u001b[0;36mtrain\u001b[0;34m(self, resume_from_checkpoint, trial, ignore_keys_for_eval, **kwargs)\u001b[0m\n\u001b[1;32m   1622\u001b[0m                 \u001b[0mhf_hub_utils\u001b[0m\u001b[0;34m.\u001b[0m\u001b[0menable_progress_bars\u001b[0m\u001b[0;34m(\u001b[0m\u001b[0;34m)\u001b[0m\u001b[0;34m\u001b[0m\u001b[0;34m\u001b[0m\u001b[0m\n\u001b[1;32m   1623\u001b[0m         \u001b[0;32melse\u001b[0m\u001b[0;34m:\u001b[0m\u001b[0;34m\u001b[0m\u001b[0;34m\u001b[0m\u001b[0m\n\u001b[0;32m-> 1624\u001b[0;31m             return inner_training_loop(\n\u001b[0m\u001b[1;32m   1625\u001b[0m                 \u001b[0margs\u001b[0m\u001b[0;34m=\u001b[0m\u001b[0margs\u001b[0m\u001b[0;34m,\u001b[0m\u001b[0;34m\u001b[0m\u001b[0;34m\u001b[0m\u001b[0m\n\u001b[1;32m   1626\u001b[0m                 \u001b[0mresume_from_checkpoint\u001b[0m\u001b[0;34m=\u001b[0m\u001b[0mresume_from_checkpoint\u001b[0m\u001b[0;34m,\u001b[0m\u001b[0;34m\u001b[0m\u001b[0;34m\u001b[0m\u001b[0m\n",
            "\u001b[0;32m/usr/local/lib/python3.10/dist-packages/transformers/trainer.py\u001b[0m in \u001b[0;36m_inner_training_loop\u001b[0;34m(self, batch_size, args, resume_from_checkpoint, trial, ignore_keys_for_eval)\u001b[0m\n\u001b[1;32m   1964\u001b[0m                     \u001b[0margs\u001b[0m\u001b[0;34m.\u001b[0m\u001b[0mlogging_nan_inf_filter\u001b[0m\u001b[0;34m\u001b[0m\u001b[0;34m\u001b[0m\u001b[0m\n\u001b[1;32m   1965\u001b[0m                     \u001b[0;32mand\u001b[0m \u001b[0;32mnot\u001b[0m \u001b[0mis_torch_tpu_available\u001b[0m\u001b[0;34m(\u001b[0m\u001b[0;34m)\u001b[0m\u001b[0;34m\u001b[0m\u001b[0;34m\u001b[0m\u001b[0m\n\u001b[0;32m-> 1966\u001b[0;31m                     \u001b[0;32mand\u001b[0m \u001b[0;34m(\u001b[0m\u001b[0mtorch\u001b[0m\u001b[0;34m.\u001b[0m\u001b[0misnan\u001b[0m\u001b[0;34m(\u001b[0m\u001b[0mtr_loss_step\u001b[0m\u001b[0;34m)\u001b[0m \u001b[0;32mor\u001b[0m \u001b[0mtorch\u001b[0m\u001b[0;34m.\u001b[0m\u001b[0misinf\u001b[0m\u001b[0;34m(\u001b[0m\u001b[0mtr_loss_step\u001b[0m\u001b[0;34m)\u001b[0m\u001b[0;34m)\u001b[0m\u001b[0;34m\u001b[0m\u001b[0;34m\u001b[0m\u001b[0m\n\u001b[0m\u001b[1;32m   1967\u001b[0m                 ):\n\u001b[1;32m   1968\u001b[0m                     \u001b[0;31m# if loss is nan or inf simply add the average of previous logged losses\u001b[0m\u001b[0;34m\u001b[0m\u001b[0;34m\u001b[0m\u001b[0m\n",
            "\u001b[0;31mKeyboardInterrupt\u001b[0m: "
          ]
        }
      ]
    },
    {
      "cell_type": "code",
      "source": [
        "metrics = train_result.metrics\n",
        "trainer.save_model()  # Saves the tokenizer too for easy upload\n",
        "\n",
        "trainer.log_metrics(\"train\", metrics)\n",
        "trainer.save_metrics(\"train\", metrics)\n",
        "trainer.save_state()"
      ],
      "metadata": {
        "colab": {
          "base_uri": "https://localhost:8080/"
        },
        "id": "xEWMQNXkuyza",
        "outputId": "555ba462-3787-4385-e778-97d2a42eb082"
      },
      "execution_count": 70,
      "outputs": [
        {
          "output_type": "stream",
          "name": "stderr",
          "text": [
            "Saving model checkpoint to test_trainer\n",
            "Configuration saved in test_trainer/config.json\n",
            "Model weights saved in test_trainer/model.safetensors\n"
          ]
        },
        {
          "output_type": "stream",
          "name": "stdout",
          "text": [
            "***** train metrics *****\n",
            "  epoch                    =       10.0\n",
            "  total_flos               =  1654028GF\n",
            "  train_loss               =     0.6817\n",
            "  train_runtime            = 0:04:38.69\n",
            "  train_samples_per_second =      24.22\n",
            "  train_steps_per_second   =       3.05\n"
          ]
        }
      ]
    },
    {
      "cell_type": "code",
      "source": [
        "# Evaluation\n",
        "\n",
        "metrics = trainer.evaluate(eval_dataset=tokenized_dataset[\"eval\"].shuffle(seed=42))\n",
        "\n",
        "trainer.log_metrics(\"eval\", metrics)\n",
        "trainer.save_metrics(\"eval\", metrics)"
      ],
      "metadata": {
        "colab": {
          "base_uri": "https://localhost:8080/",
          "height": 630
        },
        "id": "yt5V9hUDu6_E",
        "outputId": "b183f63d-84d2-44dc-96f5-f389f5a918f7"
      },
      "execution_count": 71,
      "outputs": [
        {
          "output_type": "stream",
          "name": "stderr",
          "text": [
            "The following columns in the evaluation set don't have a corresponding argument in `RobertaForSequenceClassification.forward` and have been ignored: code, markdown, __index_level_0__. If code, markdown, __index_level_0__ are not expected by `RobertaForSequenceClassification.forward`,  you can safely ignore this message.\n",
            "***** Running Evaluation *****\n",
            "  Num examples = 952\n",
            "  Batch size = 8\n"
          ]
        },
        {
          "output_type": "display_data",
          "data": {
            "text/plain": [
              "<IPython.core.display.HTML object>"
            ],
            "text/html": [
              "\n",
              "    <div>\n",
              "      \n",
              "      <progress value='10456' max='32120' style='width:300px; height:20px; vertical-align: middle;'></progress>\n",
              "      [10456/32120 58:04 < 2:00:21, 3.00 it/s, Epoch 13.02/40]\n",
              "    </div>\n",
              "    <table border=\"1\" class=\"dataframe\">\n",
              "  <thead>\n",
              " <tr style=\"text-align: left;\">\n",
              "      <th>Epoch</th>\n",
              "      <th>Training Loss</th>\n",
              "      <th>Validation Loss</th>\n",
              "      <th>Accuracy</th>\n",
              "    </tr>\n",
              "  </thead>\n",
              "  <tbody>\n",
              "    <tr>\n",
              "      <td>1</td>\n",
              "      <td>0.665500</td>\n",
              "      <td>0.631581</td>\n",
              "      <td>0.696429</td>\n",
              "    </tr>\n",
              "    <tr>\n",
              "      <td>2</td>\n",
              "      <td>0.617800</td>\n",
              "      <td>0.631441</td>\n",
              "      <td>0.632353</td>\n",
              "    </tr>\n",
              "    <tr>\n",
              "      <td>3</td>\n",
              "      <td>0.630900</td>\n",
              "      <td>0.583330</td>\n",
              "      <td>0.700630</td>\n",
              "    </tr>\n",
              "    <tr>\n",
              "      <td>4</td>\n",
              "      <td>0.582700</td>\n",
              "      <td>0.574614</td>\n",
              "      <td>0.702731</td>\n",
              "    </tr>\n",
              "    <tr>\n",
              "      <td>5</td>\n",
              "      <td>0.602200</td>\n",
              "      <td>0.568319</td>\n",
              "      <td>0.700630</td>\n",
              "    </tr>\n",
              "    <tr>\n",
              "      <td>6</td>\n",
              "      <td>0.613800</td>\n",
              "      <td>0.583655</td>\n",
              "      <td>0.703782</td>\n",
              "    </tr>\n",
              "    <tr>\n",
              "      <td>7</td>\n",
              "      <td>0.607700</td>\n",
              "      <td>0.569142</td>\n",
              "      <td>0.720588</td>\n",
              "    </tr>\n",
              "    <tr>\n",
              "      <td>8</td>\n",
              "      <td>0.631700</td>\n",
              "      <td>0.565123</td>\n",
              "      <td>0.718487</td>\n",
              "    </tr>\n",
              "    <tr>\n",
              "      <td>9</td>\n",
              "      <td>0.566700</td>\n",
              "      <td>0.573619</td>\n",
              "      <td>0.714286</td>\n",
              "    </tr>\n",
              "    <tr>\n",
              "      <td>10</td>\n",
              "      <td>0.597900</td>\n",
              "      <td>0.554583</td>\n",
              "      <td>0.715336</td>\n",
              "    </tr>\n",
              "    <tr>\n",
              "      <td>11</td>\n",
              "      <td>0.591800</td>\n",
              "      <td>0.555805</td>\n",
              "      <td>0.723739</td>\n",
              "    </tr>\n",
              "    <tr>\n",
              "      <td>12</td>\n",
              "      <td>0.625800</td>\n",
              "      <td>0.594629</td>\n",
              "      <td>0.696429</td>\n",
              "    </tr>\n",
              "    <tr>\n",
              "      <td>13</td>\n",
              "      <td>0.584600</td>\n",
              "      <td>0.550155</td>\n",
              "      <td>0.715336</td>\n",
              "    </tr>\n",
              "  </tbody>\n",
              "</table><p>"
            ]
          },
          "metadata": {}
        },
        {
          "output_type": "stream",
          "name": "stdout",
          "text": [
            "***** eval metrics *****\n",
            "  eval_accuracy = 0.7153\n",
            "  eval_loss     = 0.5502\n"
          ]
        }
      ]
    },
    {
      "cell_type": "code",
      "source": [
        "# Prediction\n",
        "\n",
        "predictions, labels, metrics = trainer.predict(tokenized_dataset[\"test\"], metric_key_prefix=\"predict\")\n",
        "\n",
        "trainer.log_metrics(\"predict\", metrics)\n",
        "trainer.save_metrics(\"predict\", metrics)\n",
        "\n",
        "predictions = np.argmax(predictions, axis=1)"
      ],
      "metadata": {
        "colab": {
          "base_uri": "https://localhost:8080/",
          "height": 704
        },
        "id": "dviopTHRu9le",
        "outputId": "d5848749-c5ce-4393-8c8b-0ff0300c8891"
      },
      "execution_count": 72,
      "outputs": [
        {
          "output_type": "stream",
          "name": "stderr",
          "text": [
            "The following columns in the test set don't have a corresponding argument in `RobertaForSequenceClassification.forward` and have been ignored: code, markdown, __index_level_0__. If code, markdown, __index_level_0__ are not expected by `RobertaForSequenceClassification.forward`,  you can safely ignore this message.\n",
            "***** Running Prediction *****\n",
            "  Num examples = 2142\n",
            "  Batch size = 8\n"
          ]
        },
        {
          "output_type": "display_data",
          "data": {
            "text/plain": [
              "<IPython.core.display.HTML object>"
            ],
            "text/html": [
              "\n",
              "    <div>\n",
              "      \n",
              "      <progress value='10456' max='32120' style='width:300px; height:20px; vertical-align: middle;'></progress>\n",
              "      [10456/32120 58:04 < 2:00:21, 3.00 it/s, Epoch 13.02/40]\n",
              "    </div>\n",
              "    <table border=\"1\" class=\"dataframe\">\n",
              "  <thead>\n",
              " <tr style=\"text-align: left;\">\n",
              "      <th>Epoch</th>\n",
              "      <th>Training Loss</th>\n",
              "      <th>Validation Loss</th>\n",
              "      <th>Accuracy</th>\n",
              "    </tr>\n",
              "  </thead>\n",
              "  <tbody>\n",
              "    <tr>\n",
              "      <td>1</td>\n",
              "      <td>0.665500</td>\n",
              "      <td>0.631581</td>\n",
              "      <td>0.696429</td>\n",
              "    </tr>\n",
              "    <tr>\n",
              "      <td>2</td>\n",
              "      <td>0.617800</td>\n",
              "      <td>0.631441</td>\n",
              "      <td>0.632353</td>\n",
              "    </tr>\n",
              "    <tr>\n",
              "      <td>3</td>\n",
              "      <td>0.630900</td>\n",
              "      <td>0.583330</td>\n",
              "      <td>0.700630</td>\n",
              "    </tr>\n",
              "    <tr>\n",
              "      <td>4</td>\n",
              "      <td>0.582700</td>\n",
              "      <td>0.574614</td>\n",
              "      <td>0.702731</td>\n",
              "    </tr>\n",
              "    <tr>\n",
              "      <td>5</td>\n",
              "      <td>0.602200</td>\n",
              "      <td>0.568319</td>\n",
              "      <td>0.700630</td>\n",
              "    </tr>\n",
              "    <tr>\n",
              "      <td>6</td>\n",
              "      <td>0.613800</td>\n",
              "      <td>0.583655</td>\n",
              "      <td>0.703782</td>\n",
              "    </tr>\n",
              "    <tr>\n",
              "      <td>7</td>\n",
              "      <td>0.607700</td>\n",
              "      <td>0.569142</td>\n",
              "      <td>0.720588</td>\n",
              "    </tr>\n",
              "    <tr>\n",
              "      <td>8</td>\n",
              "      <td>0.631700</td>\n",
              "      <td>0.565123</td>\n",
              "      <td>0.718487</td>\n",
              "    </tr>\n",
              "    <tr>\n",
              "      <td>9</td>\n",
              "      <td>0.566700</td>\n",
              "      <td>0.573619</td>\n",
              "      <td>0.714286</td>\n",
              "    </tr>\n",
              "    <tr>\n",
              "      <td>10</td>\n",
              "      <td>0.597900</td>\n",
              "      <td>0.554583</td>\n",
              "      <td>0.715336</td>\n",
              "    </tr>\n",
              "    <tr>\n",
              "      <td>11</td>\n",
              "      <td>0.591800</td>\n",
              "      <td>0.555805</td>\n",
              "      <td>0.723739</td>\n",
              "    </tr>\n",
              "    <tr>\n",
              "      <td>12</td>\n",
              "      <td>0.625800</td>\n",
              "      <td>0.594629</td>\n",
              "      <td>0.696429</td>\n",
              "    </tr>\n",
              "    <tr>\n",
              "      <td>13</td>\n",
              "      <td>0.584600</td>\n",
              "      <td>0.550155</td>\n",
              "      <td>0.715336</td>\n",
              "    </tr>\n",
              "  </tbody>\n",
              "</table><p>\n",
              "    <div>\n",
              "      \n",
              "      <progress value='268' max='268' style='width:300px; height:20px; vertical-align: middle;'></progress>\n",
              "      [268/268 01:11]\n",
              "    </div>\n",
              "    "
            ]
          },
          "metadata": {}
        },
        {
          "output_type": "stream",
          "name": "stdout",
          "text": [
            "***** predict metrics *****\n",
            "  predict_accuracy           =     0.7092\n",
            "  predict_loss               =     0.5461\n",
            "  predict_runtime            = 0:01:11.71\n",
            "  predict_samples_per_second =     29.868\n",
            "  predict_steps_per_second   =      3.737\n"
          ]
        }
      ]
    },
    {
      "cell_type": "code",
      "source": [
        "print(classification_report(predictions, labels, labels=[0, 1]))"
      ],
      "metadata": {
        "colab": {
          "base_uri": "https://localhost:8080/"
        },
        "id": "Jy7c7rKju_7I",
        "outputId": "818bd839-f192-41b6-8da0-4fb8f868bc92"
      },
      "execution_count": 73,
      "outputs": [
        {
          "output_type": "stream",
          "name": "stdout",
          "text": [
            "              precision    recall  f1-score   support\n",
            "\n",
            "           0       0.82      0.67      0.73      1285\n",
            "           1       0.61      0.77      0.68       857\n",
            "\n",
            "    accuracy                           0.71      2142\n",
            "   macro avg       0.71      0.72      0.71      2142\n",
            "weighted avg       0.73      0.71      0.71      2142\n",
            "\n"
          ]
        }
      ]
    }
  ],
  "metadata": {
    "colab": {
      "provenance": [],
      "collapsed_sections": [
        "tHqBgUUyaLq-",
        "vUIuU9p2WuID",
        "v1MHd39ZPpxA",
        "ZidvgBTxsnwZ",
        "IJ6KqqfPvILP",
        "Q95XYQfjNLKh",
        "S-2upZc2NXpY",
        "lPftROEVrWLY"
      ]
    },
    "kernelspec": {
      "display_name": "Python 3",
      "name": "python3"
    },
    "language_info": {
      "name": "python"
    },
    "widgets": {
      "application/vnd.jupyter.widget-state+json": {}
    }
  },
  "nbformat": 4,
  "nbformat_minor": 0
}